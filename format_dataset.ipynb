{
 "metadata": {
  "language_info": {
   "codemirror_mode": {
    "name": "ipython",
    "version": 3
   },
   "file_extension": ".py",
   "mimetype": "text/x-python",
   "name": "python",
   "nbconvert_exporter": "python",
   "pygments_lexer": "ipython3",
   "version": "3.6.8"
  },
  "orig_nbformat": 2,
  "kernelspec": {
   "name": "python368jvsc74a57bd039c32cf5604986400b1cbafd7518d951df7ae3ce292cc81e38a02c43f6c4706e",
   "display_name": "Python 3.6.8 64-bit ('pytorch': virtualenvwrapper)"
  }
 },
 "nbformat": 4,
 "nbformat_minor": 2,
 "cells": [
  {
   "cell_type": "code",
   "execution_count": 1,
   "metadata": {},
   "outputs": [],
   "source": [
    "import pandas as pd\n",
    "import numpy as np"
   ]
  },
  {
   "source": [
    "### Read data"
   ],
   "cell_type": "markdown",
   "metadata": {}
  },
  {
   "cell_type": "code",
   "execution_count": 2,
   "metadata": {},
   "outputs": [
    {
     "output_type": "execute_result",
     "data": {
      "text/plain": [
       "   ParticipantID     HB   RBC  RET%  RDW-SD  RDW-CV  OFF-HR    LFR    IRF  \\\n",
       "0              1  14.21  5.07  0.89   41.30   13.46   86.21  91.94   8.03   \n",
       "1              1  13.96  4.56  0.96   42.46   12.74   81.24  93.08   7.00   \n",
       "2              1  14.72  5.13  0.85   41.64   13.16   92.67  89.95  10.04   \n",
       "3              1  13.89  4.79  0.92   44.04   13.86   81.53  86.74  13.27   \n",
       "4              1  15.42  4.77  1.07   43.28   12.47   92.19  94.42   5.58   \n",
       "\n",
       "     MFR   HFR  \n",
       "0   7.16  0.81  \n",
       "1   6.39  0.51  \n",
       "2   9.40  0.71  \n",
       "3  11.79  1.33  \n",
       "4   4.71  0.75  "
      ],
      "text/html": "<div>\n<style scoped>\n    .dataframe tbody tr th:only-of-type {\n        vertical-align: middle;\n    }\n\n    .dataframe tbody tr th {\n        vertical-align: top;\n    }\n\n    .dataframe thead th {\n        text-align: right;\n    }\n</style>\n<table border=\"1\" class=\"dataframe\">\n  <thead>\n    <tr style=\"text-align: right;\">\n      <th></th>\n      <th>ParticipantID</th>\n      <th>HB</th>\n      <th>RBC</th>\n      <th>RET%</th>\n      <th>RDW-SD</th>\n      <th>RDW-CV</th>\n      <th>OFF-HR</th>\n      <th>LFR</th>\n      <th>IRF</th>\n      <th>MFR</th>\n      <th>HFR</th>\n    </tr>\n  </thead>\n  <tbody>\n    <tr>\n      <td>0</td>\n      <td>1</td>\n      <td>14.21</td>\n      <td>5.07</td>\n      <td>0.89</td>\n      <td>41.30</td>\n      <td>13.46</td>\n      <td>86.21</td>\n      <td>91.94</td>\n      <td>8.03</td>\n      <td>7.16</td>\n      <td>0.81</td>\n    </tr>\n    <tr>\n      <td>1</td>\n      <td>1</td>\n      <td>13.96</td>\n      <td>4.56</td>\n      <td>0.96</td>\n      <td>42.46</td>\n      <td>12.74</td>\n      <td>81.24</td>\n      <td>93.08</td>\n      <td>7.00</td>\n      <td>6.39</td>\n      <td>0.51</td>\n    </tr>\n    <tr>\n      <td>2</td>\n      <td>1</td>\n      <td>14.72</td>\n      <td>5.13</td>\n      <td>0.85</td>\n      <td>41.64</td>\n      <td>13.16</td>\n      <td>92.67</td>\n      <td>89.95</td>\n      <td>10.04</td>\n      <td>9.40</td>\n      <td>0.71</td>\n    </tr>\n    <tr>\n      <td>3</td>\n      <td>1</td>\n      <td>13.89</td>\n      <td>4.79</td>\n      <td>0.92</td>\n      <td>44.04</td>\n      <td>13.86</td>\n      <td>81.53</td>\n      <td>86.74</td>\n      <td>13.27</td>\n      <td>11.79</td>\n      <td>1.33</td>\n    </tr>\n    <tr>\n      <td>4</td>\n      <td>1</td>\n      <td>15.42</td>\n      <td>4.77</td>\n      <td>1.07</td>\n      <td>43.28</td>\n      <td>12.47</td>\n      <td>92.19</td>\n      <td>94.42</td>\n      <td>5.58</td>\n      <td>4.71</td>\n      <td>0.75</td>\n    </tr>\n  </tbody>\n</table>\n</div>"
     },
     "metadata": {},
     "execution_count": 2
    }
   ],
   "source": [
    "dataset = pd.read_csv('dataset.csv')\n",
    "X = dataset.iloc[:, 1:].values\n",
    "y = dataset.iloc[:, 0].values\n",
    "dataset.head()"
   ]
  },
  {
   "source": [
    "### Split"
   ],
   "cell_type": "markdown",
   "metadata": {}
  },
  {
   "cell_type": "code",
   "execution_count": 3,
   "metadata": {},
   "outputs": [],
   "source": [
    "# keep profiles separate between train and test\n",
    "from sklearn.model_selection import train_test_split\n",
    "X_train, X_test, y_train, y_test = train_test_split(X, y, test_size = 0.2, random_state = 0)"
   ]
  },
  {
   "source": [
    "### Create datapoints from train split"
   ],
   "cell_type": "markdown",
   "metadata": {}
  },
  {
   "cell_type": "code",
   "execution_count": 4,
   "metadata": {},
   "outputs": [],
   "source": [
    "N = 20000 # datapoints\n",
    "prof_max = 20 # maximum no of profiles together in one datapoint\n",
    "train_len = len(X_train) # total number of individual profiles of patients\n",
    "feat_len = len(X_train[0]) # number of original features\n",
    "\n",
    "new_data = np.zeros((N, prof_max*feat_len+1))\n",
    "\n",
    "for i in range(N):\n",
    "    # random number of profiles\n",
    "    n_prof = np.random.randint(2, prof_max)\n",
    "    # print('No of profiles', n_prof)\n",
    "    label_list = [] # for assigning label\n",
    "    for j in range(n_prof):\n",
    "        # select profile randomly\n",
    "        idx = np.random.randint(train_len)\n",
    "        # assign values\n",
    "        new_data[i, 1+j*feat_len:1+(j+1)*feat_len] = X_train[idx]\n",
    "\n",
    "        label_list.append(y_train[idx])\n",
    "    \n",
    "    # fill values for remaining\n",
    "    # for j in range(prof_max - n_prof):\n",
    "    # print('labels', label_list)\n",
    "    # check if all values are identical in list\n",
    "    label = label_list.count(label_list[0]) == len(label_list)\n",
    "    # Assign label\n",
    "    new_data[i, 0] = label\n",
    "\n",
    "# concatenate to original    "
   ]
  },
  {
   "cell_type": "code",
   "execution_count": 5,
   "metadata": {},
   "outputs": [
    {
     "output_type": "execute_result",
     "data": {
      "text/plain": [
       "       0      1     2     3      4      5      6      7      8      9    ...  \\\n",
       "0      0.0  13.96  4.63  1.81  42.50  13.39  58.49  92.24   7.77   7.09  ...   \n",
       "1      0.0  14.09  4.55  1.39  39.97  12.13  70.26  95.34   4.74   4.02  ...   \n",
       "2      0.0  14.62  4.66  1.32  44.22  13.18  78.37  92.78   7.12   6.22  ...   \n",
       "3      0.0  13.58  4.58  0.97  44.63  13.90  77.53  87.68  12.45   9.73  ...   \n",
       "4      0.0  14.03  4.64  0.98  41.18  12.55  80.75  94.77   5.17   4.53  ...   \n",
       "...    ...    ...   ...   ...    ...    ...    ...    ...    ...    ...  ...   \n",
       "19995  0.0  14.73  4.65  0.88  41.55  12.31  91.68  95.04   4.93   4.39  ...   \n",
       "19996  0.0  13.85  4.73  0.72  42.01  13.59  86.97  95.61   4.29   3.65  ...   \n",
       "19997  0.0  12.86  4.00  1.84  41.44  12.39  47.16  88.39  11.67  10.41  ...   \n",
       "19998  0.0  12.98  4.34  1.10  41.53  12.83  66.40  94.28   5.73   5.59  ...   \n",
       "19999  0.0  15.47  4.98  0.93  41.08  12.39  97.29  93.55   6.51   5.70  ...   \n",
       "\n",
       "       191  192  193  194  195  196  197  198  199  200  \n",
       "0      0.0  0.0  0.0  0.0  0.0  0.0  0.0  0.0  0.0  0.0  \n",
       "1      0.0  0.0  0.0  0.0  0.0  0.0  0.0  0.0  0.0  0.0  \n",
       "2      0.0  0.0  0.0  0.0  0.0  0.0  0.0  0.0  0.0  0.0  \n",
       "3      0.0  0.0  0.0  0.0  0.0  0.0  0.0  0.0  0.0  0.0  \n",
       "4      0.0  0.0  0.0  0.0  0.0  0.0  0.0  0.0  0.0  0.0  \n",
       "...    ...  ...  ...  ...  ...  ...  ...  ...  ...  ...  \n",
       "19995  0.0  0.0  0.0  0.0  0.0  0.0  0.0  0.0  0.0  0.0  \n",
       "19996  0.0  0.0  0.0  0.0  0.0  0.0  0.0  0.0  0.0  0.0  \n",
       "19997  0.0  0.0  0.0  0.0  0.0  0.0  0.0  0.0  0.0  0.0  \n",
       "19998  0.0  0.0  0.0  0.0  0.0  0.0  0.0  0.0  0.0  0.0  \n",
       "19999  0.0  0.0  0.0  0.0  0.0  0.0  0.0  0.0  0.0  0.0  \n",
       "\n",
       "[20000 rows x 201 columns]"
      ],
      "text/html": "<div>\n<style scoped>\n    .dataframe tbody tr th:only-of-type {\n        vertical-align: middle;\n    }\n\n    .dataframe tbody tr th {\n        vertical-align: top;\n    }\n\n    .dataframe thead th {\n        text-align: right;\n    }\n</style>\n<table border=\"1\" class=\"dataframe\">\n  <thead>\n    <tr style=\"text-align: right;\">\n      <th></th>\n      <th>0</th>\n      <th>1</th>\n      <th>2</th>\n      <th>3</th>\n      <th>4</th>\n      <th>5</th>\n      <th>6</th>\n      <th>7</th>\n      <th>8</th>\n      <th>9</th>\n      <th>...</th>\n      <th>191</th>\n      <th>192</th>\n      <th>193</th>\n      <th>194</th>\n      <th>195</th>\n      <th>196</th>\n      <th>197</th>\n      <th>198</th>\n      <th>199</th>\n      <th>200</th>\n    </tr>\n  </thead>\n  <tbody>\n    <tr>\n      <td>0</td>\n      <td>0.0</td>\n      <td>13.96</td>\n      <td>4.63</td>\n      <td>1.81</td>\n      <td>42.50</td>\n      <td>13.39</td>\n      <td>58.49</td>\n      <td>92.24</td>\n      <td>7.77</td>\n      <td>7.09</td>\n      <td>...</td>\n      <td>0.0</td>\n      <td>0.0</td>\n      <td>0.0</td>\n      <td>0.0</td>\n      <td>0.0</td>\n      <td>0.0</td>\n      <td>0.0</td>\n      <td>0.0</td>\n      <td>0.0</td>\n      <td>0.0</td>\n    </tr>\n    <tr>\n      <td>1</td>\n      <td>0.0</td>\n      <td>14.09</td>\n      <td>4.55</td>\n      <td>1.39</td>\n      <td>39.97</td>\n      <td>12.13</td>\n      <td>70.26</td>\n      <td>95.34</td>\n      <td>4.74</td>\n      <td>4.02</td>\n      <td>...</td>\n      <td>0.0</td>\n      <td>0.0</td>\n      <td>0.0</td>\n      <td>0.0</td>\n      <td>0.0</td>\n      <td>0.0</td>\n      <td>0.0</td>\n      <td>0.0</td>\n      <td>0.0</td>\n      <td>0.0</td>\n    </tr>\n    <tr>\n      <td>2</td>\n      <td>0.0</td>\n      <td>14.62</td>\n      <td>4.66</td>\n      <td>1.32</td>\n      <td>44.22</td>\n      <td>13.18</td>\n      <td>78.37</td>\n      <td>92.78</td>\n      <td>7.12</td>\n      <td>6.22</td>\n      <td>...</td>\n      <td>0.0</td>\n      <td>0.0</td>\n      <td>0.0</td>\n      <td>0.0</td>\n      <td>0.0</td>\n      <td>0.0</td>\n      <td>0.0</td>\n      <td>0.0</td>\n      <td>0.0</td>\n      <td>0.0</td>\n    </tr>\n    <tr>\n      <td>3</td>\n      <td>0.0</td>\n      <td>13.58</td>\n      <td>4.58</td>\n      <td>0.97</td>\n      <td>44.63</td>\n      <td>13.90</td>\n      <td>77.53</td>\n      <td>87.68</td>\n      <td>12.45</td>\n      <td>9.73</td>\n      <td>...</td>\n      <td>0.0</td>\n      <td>0.0</td>\n      <td>0.0</td>\n      <td>0.0</td>\n      <td>0.0</td>\n      <td>0.0</td>\n      <td>0.0</td>\n      <td>0.0</td>\n      <td>0.0</td>\n      <td>0.0</td>\n    </tr>\n    <tr>\n      <td>4</td>\n      <td>0.0</td>\n      <td>14.03</td>\n      <td>4.64</td>\n      <td>0.98</td>\n      <td>41.18</td>\n      <td>12.55</td>\n      <td>80.75</td>\n      <td>94.77</td>\n      <td>5.17</td>\n      <td>4.53</td>\n      <td>...</td>\n      <td>0.0</td>\n      <td>0.0</td>\n      <td>0.0</td>\n      <td>0.0</td>\n      <td>0.0</td>\n      <td>0.0</td>\n      <td>0.0</td>\n      <td>0.0</td>\n      <td>0.0</td>\n      <td>0.0</td>\n    </tr>\n    <tr>\n      <td>...</td>\n      <td>...</td>\n      <td>...</td>\n      <td>...</td>\n      <td>...</td>\n      <td>...</td>\n      <td>...</td>\n      <td>...</td>\n      <td>...</td>\n      <td>...</td>\n      <td>...</td>\n      <td>...</td>\n      <td>...</td>\n      <td>...</td>\n      <td>...</td>\n      <td>...</td>\n      <td>...</td>\n      <td>...</td>\n      <td>...</td>\n      <td>...</td>\n      <td>...</td>\n      <td>...</td>\n    </tr>\n    <tr>\n      <td>19995</td>\n      <td>0.0</td>\n      <td>14.73</td>\n      <td>4.65</td>\n      <td>0.88</td>\n      <td>41.55</td>\n      <td>12.31</td>\n      <td>91.68</td>\n      <td>95.04</td>\n      <td>4.93</td>\n      <td>4.39</td>\n      <td>...</td>\n      <td>0.0</td>\n      <td>0.0</td>\n      <td>0.0</td>\n      <td>0.0</td>\n      <td>0.0</td>\n      <td>0.0</td>\n      <td>0.0</td>\n      <td>0.0</td>\n      <td>0.0</td>\n      <td>0.0</td>\n    </tr>\n    <tr>\n      <td>19996</td>\n      <td>0.0</td>\n      <td>13.85</td>\n      <td>4.73</td>\n      <td>0.72</td>\n      <td>42.01</td>\n      <td>13.59</td>\n      <td>86.97</td>\n      <td>95.61</td>\n      <td>4.29</td>\n      <td>3.65</td>\n      <td>...</td>\n      <td>0.0</td>\n      <td>0.0</td>\n      <td>0.0</td>\n      <td>0.0</td>\n      <td>0.0</td>\n      <td>0.0</td>\n      <td>0.0</td>\n      <td>0.0</td>\n      <td>0.0</td>\n      <td>0.0</td>\n    </tr>\n    <tr>\n      <td>19997</td>\n      <td>0.0</td>\n      <td>12.86</td>\n      <td>4.00</td>\n      <td>1.84</td>\n      <td>41.44</td>\n      <td>12.39</td>\n      <td>47.16</td>\n      <td>88.39</td>\n      <td>11.67</td>\n      <td>10.41</td>\n      <td>...</td>\n      <td>0.0</td>\n      <td>0.0</td>\n      <td>0.0</td>\n      <td>0.0</td>\n      <td>0.0</td>\n      <td>0.0</td>\n      <td>0.0</td>\n      <td>0.0</td>\n      <td>0.0</td>\n      <td>0.0</td>\n    </tr>\n    <tr>\n      <td>19998</td>\n      <td>0.0</td>\n      <td>12.98</td>\n      <td>4.34</td>\n      <td>1.10</td>\n      <td>41.53</td>\n      <td>12.83</td>\n      <td>66.40</td>\n      <td>94.28</td>\n      <td>5.73</td>\n      <td>5.59</td>\n      <td>...</td>\n      <td>0.0</td>\n      <td>0.0</td>\n      <td>0.0</td>\n      <td>0.0</td>\n      <td>0.0</td>\n      <td>0.0</td>\n      <td>0.0</td>\n      <td>0.0</td>\n      <td>0.0</td>\n      <td>0.0</td>\n    </tr>\n    <tr>\n      <td>19999</td>\n      <td>0.0</td>\n      <td>15.47</td>\n      <td>4.98</td>\n      <td>0.93</td>\n      <td>41.08</td>\n      <td>12.39</td>\n      <td>97.29</td>\n      <td>93.55</td>\n      <td>6.51</td>\n      <td>5.70</td>\n      <td>...</td>\n      <td>0.0</td>\n      <td>0.0</td>\n      <td>0.0</td>\n      <td>0.0</td>\n      <td>0.0</td>\n      <td>0.0</td>\n      <td>0.0</td>\n      <td>0.0</td>\n      <td>0.0</td>\n      <td>0.0</td>\n    </tr>\n  </tbody>\n</table>\n<p>20000 rows × 201 columns</p>\n</div>"
     },
     "metadata": {},
     "execution_count": 5
    }
   ],
   "source": [
    "new_data_df = pd.DataFrame(new_data)\n",
    "new_data_df    "
   ]
  },
  {
   "cell_type": "code",
   "execution_count": 6,
   "metadata": {},
   "outputs": [
    {
     "output_type": "execute_result",
     "data": {
      "text/plain": [
       "         1\n",
       "0         \n",
       "0.0  19949\n",
       "1.0     51"
      ],
      "text/html": "<div>\n<style scoped>\n    .dataframe tbody tr th:only-of-type {\n        vertical-align: middle;\n    }\n\n    .dataframe tbody tr th {\n        vertical-align: top;\n    }\n\n    .dataframe thead th {\n        text-align: right;\n    }\n</style>\n<table border=\"1\" class=\"dataframe\">\n  <thead>\n    <tr style=\"text-align: right;\">\n      <th></th>\n      <th>1</th>\n    </tr>\n    <tr>\n      <th>0</th>\n      <th></th>\n    </tr>\n  </thead>\n  <tbody>\n    <tr>\n      <td>0.0</td>\n      <td>19949</td>\n    </tr>\n    <tr>\n      <td>1.0</td>\n      <td>51</td>\n    </tr>\n  </tbody>\n</table>\n</div>"
     },
     "metadata": {},
     "execution_count": 6
    }
   ],
   "source": [
    "df_part_cnt = new_data_df.groupby(0).count()\n",
    "df_part_cnt.iloc[:,:1]"
   ]
  },
  {
   "source": [
    "### Observations\n",
    "* The new dataset generated is skewed (data imbalance).\n",
    "* There are very less instances of label=1 (all profile belongs to same class)\n",
    "* The skewed is obvious because when selecting profiles the probability of selecting other patient profile is more"
   ],
   "cell_type": "markdown",
   "metadata": {}
  },
  {
   "source": [
    "## Generate additional datapoints with 1 label to balance dataset"
   ],
   "cell_type": "markdown",
   "metadata": {}
  },
  {
   "cell_type": "code",
   "execution_count": 7,
   "metadata": {},
   "outputs": [],
   "source": [
    "# id = np.array(y_train)\n",
    "# idx = np.where(id == 25)[0]\n",
    "# # print(len(y_train))\n",
    "# print(idx)\n",
    "# # print(y_train)"
   ]
  },
  {
   "cell_type": "code",
   "execution_count": 8,
   "metadata": {
    "tags": []
   },
   "outputs": [],
   "source": [
    "N_p = int(N*0.9) # datapoints\n",
    "# N_p = 10\n",
    "new_data_p = np.zeros((N_p, prof_max*feat_len+1))\n",
    "\n",
    "for i in range(N_p):\n",
    "\n",
    "    # random number of profiles\n",
    "    n_prof = np.random.randint(2, prof_max)\n",
    "\n",
    "    # random profiles selection\n",
    "    p = np.random.randint(1, 31)\n",
    "    \n",
    "    # indexes of particular participants in data\n",
    "    p_idx = np.where(np.array(y_train) == p)[0]\n",
    "    t_len = len(p_idx)\n",
    "    \n",
    "    # print('No of profiles', n_prof)\n",
    "    label_list = [] # for assigning label\n",
    "    \n",
    "    for j in range(n_prof):\n",
    "        # select profile randomly\n",
    "        idx = np.random.randint(t_len)\n",
    "    \n",
    "        # assign values\n",
    "        new_data_p[i, 1+j*feat_len:1+(j+1)*feat_len] = X_train[p_idx[idx]]\n",
    "\n",
    "        label_list.append(y_train[p_idx[idx]])\n",
    "    \n",
    "    # fill values for remaining\n",
    "    # for j in range(prof_max - n_prof):\n",
    "    # print('labels', label_list)\n",
    "    # check if all values are identical in list\n",
    "    label = label_list.count(label_list[0]) == len(label_list)\n",
    "    # Assign label\n",
    "    new_data_p[i, 0] = label\n"
   ]
  },
  {
   "cell_type": "code",
   "execution_count": 9,
   "metadata": {},
   "outputs": [
    {
     "output_type": "execute_result",
     "data": {
      "text/plain": [
       "       0      1     2     3      4      5       6      7      8      9    ...  \\\n",
       "0      1.0  14.17  4.59  1.21  41.59  12.54   76.36  91.76   8.22   7.78  ...   \n",
       "1      1.0  13.65  4.49  1.22  40.84  12.48   70.53  95.48   4.56   4.41  ...   \n",
       "2      1.0  16.26  5.30  1.04  40.80  12.56  101.45  87.39  12.63  11.22  ...   \n",
       "3      1.0  14.68  4.65  0.95  40.89  12.09   89.18  93.75   6.22   5.20  ...   \n",
       "4      1.0  14.01  4.88  1.55  42.27  13.64   66.59  87.72  12.31  10.38  ...   \n",
       "...    ...    ...   ...   ...    ...    ...     ...    ...    ...    ...  ...   \n",
       "17995  1.0  14.21  4.85  0.98  41.89  13.07   82.43  92.55   7.45   6.69  ...   \n",
       "17996  1.0  14.22  4.78  0.75  40.20  12.19   90.75  92.35   7.63   6.25  ...   \n",
       "17997  1.0  14.07  4.93  0.89  39.41  12.59   84.48  94.22   5.79   5.35  ...   \n",
       "17998  1.0  13.60  4.47  1.00  40.86  12.43   75.46  89.16  10.86  10.47  ...   \n",
       "17999  1.0  15.05  5.00  1.02  41.32  12.63   90.06  90.11   9.92   8.07  ...   \n",
       "\n",
       "       191  192  193  194  195  196  197  198  199  200  \n",
       "0      0.0  0.0  0.0  0.0  0.0  0.0  0.0  0.0  0.0  0.0  \n",
       "1      0.0  0.0  0.0  0.0  0.0  0.0  0.0  0.0  0.0  0.0  \n",
       "2      0.0  0.0  0.0  0.0  0.0  0.0  0.0  0.0  0.0  0.0  \n",
       "3      0.0  0.0  0.0  0.0  0.0  0.0  0.0  0.0  0.0  0.0  \n",
       "4      0.0  0.0  0.0  0.0  0.0  0.0  0.0  0.0  0.0  0.0  \n",
       "...    ...  ...  ...  ...  ...  ...  ...  ...  ...  ...  \n",
       "17995  0.0  0.0  0.0  0.0  0.0  0.0  0.0  0.0  0.0  0.0  \n",
       "17996  0.0  0.0  0.0  0.0  0.0  0.0  0.0  0.0  0.0  0.0  \n",
       "17997  0.0  0.0  0.0  0.0  0.0  0.0  0.0  0.0  0.0  0.0  \n",
       "17998  0.0  0.0  0.0  0.0  0.0  0.0  0.0  0.0  0.0  0.0  \n",
       "17999  0.0  0.0  0.0  0.0  0.0  0.0  0.0  0.0  0.0  0.0  \n",
       "\n",
       "[18000 rows x 201 columns]"
      ],
      "text/html": "<div>\n<style scoped>\n    .dataframe tbody tr th:only-of-type {\n        vertical-align: middle;\n    }\n\n    .dataframe tbody tr th {\n        vertical-align: top;\n    }\n\n    .dataframe thead th {\n        text-align: right;\n    }\n</style>\n<table border=\"1\" class=\"dataframe\">\n  <thead>\n    <tr style=\"text-align: right;\">\n      <th></th>\n      <th>0</th>\n      <th>1</th>\n      <th>2</th>\n      <th>3</th>\n      <th>4</th>\n      <th>5</th>\n      <th>6</th>\n      <th>7</th>\n      <th>8</th>\n      <th>9</th>\n      <th>...</th>\n      <th>191</th>\n      <th>192</th>\n      <th>193</th>\n      <th>194</th>\n      <th>195</th>\n      <th>196</th>\n      <th>197</th>\n      <th>198</th>\n      <th>199</th>\n      <th>200</th>\n    </tr>\n  </thead>\n  <tbody>\n    <tr>\n      <td>0</td>\n      <td>1.0</td>\n      <td>14.17</td>\n      <td>4.59</td>\n      <td>1.21</td>\n      <td>41.59</td>\n      <td>12.54</td>\n      <td>76.36</td>\n      <td>91.76</td>\n      <td>8.22</td>\n      <td>7.78</td>\n      <td>...</td>\n      <td>0.0</td>\n      <td>0.0</td>\n      <td>0.0</td>\n      <td>0.0</td>\n      <td>0.0</td>\n      <td>0.0</td>\n      <td>0.0</td>\n      <td>0.0</td>\n      <td>0.0</td>\n      <td>0.0</td>\n    </tr>\n    <tr>\n      <td>1</td>\n      <td>1.0</td>\n      <td>13.65</td>\n      <td>4.49</td>\n      <td>1.22</td>\n      <td>40.84</td>\n      <td>12.48</td>\n      <td>70.53</td>\n      <td>95.48</td>\n      <td>4.56</td>\n      <td>4.41</td>\n      <td>...</td>\n      <td>0.0</td>\n      <td>0.0</td>\n      <td>0.0</td>\n      <td>0.0</td>\n      <td>0.0</td>\n      <td>0.0</td>\n      <td>0.0</td>\n      <td>0.0</td>\n      <td>0.0</td>\n      <td>0.0</td>\n    </tr>\n    <tr>\n      <td>2</td>\n      <td>1.0</td>\n      <td>16.26</td>\n      <td>5.30</td>\n      <td>1.04</td>\n      <td>40.80</td>\n      <td>12.56</td>\n      <td>101.45</td>\n      <td>87.39</td>\n      <td>12.63</td>\n      <td>11.22</td>\n      <td>...</td>\n      <td>0.0</td>\n      <td>0.0</td>\n      <td>0.0</td>\n      <td>0.0</td>\n      <td>0.0</td>\n      <td>0.0</td>\n      <td>0.0</td>\n      <td>0.0</td>\n      <td>0.0</td>\n      <td>0.0</td>\n    </tr>\n    <tr>\n      <td>3</td>\n      <td>1.0</td>\n      <td>14.68</td>\n      <td>4.65</td>\n      <td>0.95</td>\n      <td>40.89</td>\n      <td>12.09</td>\n      <td>89.18</td>\n      <td>93.75</td>\n      <td>6.22</td>\n      <td>5.20</td>\n      <td>...</td>\n      <td>0.0</td>\n      <td>0.0</td>\n      <td>0.0</td>\n      <td>0.0</td>\n      <td>0.0</td>\n      <td>0.0</td>\n      <td>0.0</td>\n      <td>0.0</td>\n      <td>0.0</td>\n      <td>0.0</td>\n    </tr>\n    <tr>\n      <td>4</td>\n      <td>1.0</td>\n      <td>14.01</td>\n      <td>4.88</td>\n      <td>1.55</td>\n      <td>42.27</td>\n      <td>13.64</td>\n      <td>66.59</td>\n      <td>87.72</td>\n      <td>12.31</td>\n      <td>10.38</td>\n      <td>...</td>\n      <td>0.0</td>\n      <td>0.0</td>\n      <td>0.0</td>\n      <td>0.0</td>\n      <td>0.0</td>\n      <td>0.0</td>\n      <td>0.0</td>\n      <td>0.0</td>\n      <td>0.0</td>\n      <td>0.0</td>\n    </tr>\n    <tr>\n      <td>...</td>\n      <td>...</td>\n      <td>...</td>\n      <td>...</td>\n      <td>...</td>\n      <td>...</td>\n      <td>...</td>\n      <td>...</td>\n      <td>...</td>\n      <td>...</td>\n      <td>...</td>\n      <td>...</td>\n      <td>...</td>\n      <td>...</td>\n      <td>...</td>\n      <td>...</td>\n      <td>...</td>\n      <td>...</td>\n      <td>...</td>\n      <td>...</td>\n      <td>...</td>\n      <td>...</td>\n    </tr>\n    <tr>\n      <td>17995</td>\n      <td>1.0</td>\n      <td>14.21</td>\n      <td>4.85</td>\n      <td>0.98</td>\n      <td>41.89</td>\n      <td>13.07</td>\n      <td>82.43</td>\n      <td>92.55</td>\n      <td>7.45</td>\n      <td>6.69</td>\n      <td>...</td>\n      <td>0.0</td>\n      <td>0.0</td>\n      <td>0.0</td>\n      <td>0.0</td>\n      <td>0.0</td>\n      <td>0.0</td>\n      <td>0.0</td>\n      <td>0.0</td>\n      <td>0.0</td>\n      <td>0.0</td>\n    </tr>\n    <tr>\n      <td>17996</td>\n      <td>1.0</td>\n      <td>14.22</td>\n      <td>4.78</td>\n      <td>0.75</td>\n      <td>40.20</td>\n      <td>12.19</td>\n      <td>90.75</td>\n      <td>92.35</td>\n      <td>7.63</td>\n      <td>6.25</td>\n      <td>...</td>\n      <td>0.0</td>\n      <td>0.0</td>\n      <td>0.0</td>\n      <td>0.0</td>\n      <td>0.0</td>\n      <td>0.0</td>\n      <td>0.0</td>\n      <td>0.0</td>\n      <td>0.0</td>\n      <td>0.0</td>\n    </tr>\n    <tr>\n      <td>17997</td>\n      <td>1.0</td>\n      <td>14.07</td>\n      <td>4.93</td>\n      <td>0.89</td>\n      <td>39.41</td>\n      <td>12.59</td>\n      <td>84.48</td>\n      <td>94.22</td>\n      <td>5.79</td>\n      <td>5.35</td>\n      <td>...</td>\n      <td>0.0</td>\n      <td>0.0</td>\n      <td>0.0</td>\n      <td>0.0</td>\n      <td>0.0</td>\n      <td>0.0</td>\n      <td>0.0</td>\n      <td>0.0</td>\n      <td>0.0</td>\n      <td>0.0</td>\n    </tr>\n    <tr>\n      <td>17998</td>\n      <td>1.0</td>\n      <td>13.60</td>\n      <td>4.47</td>\n      <td>1.00</td>\n      <td>40.86</td>\n      <td>12.43</td>\n      <td>75.46</td>\n      <td>89.16</td>\n      <td>10.86</td>\n      <td>10.47</td>\n      <td>...</td>\n      <td>0.0</td>\n      <td>0.0</td>\n      <td>0.0</td>\n      <td>0.0</td>\n      <td>0.0</td>\n      <td>0.0</td>\n      <td>0.0</td>\n      <td>0.0</td>\n      <td>0.0</td>\n      <td>0.0</td>\n    </tr>\n    <tr>\n      <td>17999</td>\n      <td>1.0</td>\n      <td>15.05</td>\n      <td>5.00</td>\n      <td>1.02</td>\n      <td>41.32</td>\n      <td>12.63</td>\n      <td>90.06</td>\n      <td>90.11</td>\n      <td>9.92</td>\n      <td>8.07</td>\n      <td>...</td>\n      <td>0.0</td>\n      <td>0.0</td>\n      <td>0.0</td>\n      <td>0.0</td>\n      <td>0.0</td>\n      <td>0.0</td>\n      <td>0.0</td>\n      <td>0.0</td>\n      <td>0.0</td>\n      <td>0.0</td>\n    </tr>\n  </tbody>\n</table>\n<p>18000 rows × 201 columns</p>\n</div>"
     },
     "metadata": {},
     "execution_count": 9
    }
   ],
   "source": [
    "new_data_df_extra = pd.DataFrame(new_data_p)\n",
    "new_data_df_extra    "
   ]
  },
  {
   "cell_type": "code",
   "execution_count": 10,
   "metadata": {},
   "outputs": [
    {
     "output_type": "execute_result",
     "data": {
      "text/plain": [
       "         1\n",
       "0         \n",
       "1.0  18000"
      ],
      "text/html": "<div>\n<style scoped>\n    .dataframe tbody tr th:only-of-type {\n        vertical-align: middle;\n    }\n\n    .dataframe tbody tr th {\n        vertical-align: top;\n    }\n\n    .dataframe thead th {\n        text-align: right;\n    }\n</style>\n<table border=\"1\" class=\"dataframe\">\n  <thead>\n    <tr style=\"text-align: right;\">\n      <th></th>\n      <th>1</th>\n    </tr>\n    <tr>\n      <th>0</th>\n      <th></th>\n    </tr>\n  </thead>\n  <tbody>\n    <tr>\n      <td>1.0</td>\n      <td>18000</td>\n    </tr>\n  </tbody>\n</table>\n</div>"
     },
     "metadata": {},
     "execution_count": 10
    }
   ],
   "source": [
    "df_part_cnt = new_data_df_extra.groupby(0).count()\n",
    "df_part_cnt.iloc[:,:1]"
   ]
  },
  {
   "cell_type": "code",
   "execution_count": 11,
   "metadata": {},
   "outputs": [
    {
     "output_type": "execute_result",
     "data": {
      "text/plain": [
       "((20000, 201), (18000, 201))"
      ]
     },
     "metadata": {},
     "execution_count": 11
    }
   ],
   "source": [
    "new_data.shape, new_data_p.shape"
   ]
  },
  {
   "cell_type": "code",
   "execution_count": 12,
   "metadata": {},
   "outputs": [
    {
     "output_type": "execute_result",
     "data": {
      "text/plain": [
       "         1\n",
       "0         \n",
       "0.0  19949\n",
       "1.0  18051"
      ],
      "text/html": "<div>\n<style scoped>\n    .dataframe tbody tr th:only-of-type {\n        vertical-align: middle;\n    }\n\n    .dataframe tbody tr th {\n        vertical-align: top;\n    }\n\n    .dataframe thead th {\n        text-align: right;\n    }\n</style>\n<table border=\"1\" class=\"dataframe\">\n  <thead>\n    <tr style=\"text-align: right;\">\n      <th></th>\n      <th>1</th>\n    </tr>\n    <tr>\n      <th>0</th>\n      <th></th>\n    </tr>\n  </thead>\n  <tbody>\n    <tr>\n      <td>0.0</td>\n      <td>19949</td>\n    </tr>\n    <tr>\n      <td>1.0</td>\n      <td>18051</td>\n    </tr>\n  </tbody>\n</table>\n</div>"
     },
     "metadata": {},
     "execution_count": 12
    }
   ],
   "source": [
    "new_data_final = np.vstack((new_data, new_data_p)) # merge original and extra data\n",
    "new_data_df_final = pd.DataFrame(new_data_final) # create dataframe\n",
    "new_data_df_final.groupby(0).count().iloc[:,:1] # support for each label\n"
   ]
  },
  {
   "cell_type": "code",
   "execution_count": 13,
   "metadata": {},
   "outputs": [],
   "source": [
    "# Save as CSV\n",
    "new_data_df_final.to_csv('train_new.csv', index=None)"
   ]
  },
  {
   "cell_type": "code",
   "execution_count": 14,
   "metadata": {},
   "outputs": [
    {
     "output_type": "execute_result",
     "data": {
      "text/plain": [
       "         0      1     2     3      4      5      6      7      8      9  ...  \\\n",
       "0      0.0  13.96  4.63  1.81  42.50  13.39  58.49  92.24   7.77   7.09  ...   \n",
       "1      0.0  14.09  4.55  1.39  39.97  12.13  70.26  95.34   4.74   4.02  ...   \n",
       "2      0.0  14.62  4.66  1.32  44.22  13.18  78.37  92.78   7.12   6.22  ...   \n",
       "3      0.0  13.58  4.58  0.97  44.63  13.90  77.53  87.68  12.45   9.73  ...   \n",
       "4      0.0  14.03  4.64  0.98  41.18  12.55  80.75  94.77   5.17   4.53  ...   \n",
       "...    ...    ...   ...   ...    ...    ...    ...    ...    ...    ...  ...   \n",
       "37995  1.0  14.21  4.85  0.98  41.89  13.07  82.43  92.55   7.45   6.69  ...   \n",
       "37996  1.0  14.22  4.78  0.75  40.20  12.19  90.75  92.35   7.63   6.25  ...   \n",
       "37997  1.0  14.07  4.93  0.89  39.41  12.59  84.48  94.22   5.79   5.35  ...   \n",
       "37998  1.0  13.60  4.47  1.00  40.86  12.43  75.46  89.16  10.86  10.47  ...   \n",
       "37999  1.0  15.05  5.00  1.02  41.32  12.63  90.06  90.11   9.92   8.07  ...   \n",
       "\n",
       "       191  192  193  194  195  196  197  198  199  200  \n",
       "0      0.0  0.0  0.0  0.0  0.0  0.0  0.0  0.0  0.0  0.0  \n",
       "1      0.0  0.0  0.0  0.0  0.0  0.0  0.0  0.0  0.0  0.0  \n",
       "2      0.0  0.0  0.0  0.0  0.0  0.0  0.0  0.0  0.0  0.0  \n",
       "3      0.0  0.0  0.0  0.0  0.0  0.0  0.0  0.0  0.0  0.0  \n",
       "4      0.0  0.0  0.0  0.0  0.0  0.0  0.0  0.0  0.0  0.0  \n",
       "...    ...  ...  ...  ...  ...  ...  ...  ...  ...  ...  \n",
       "37995  0.0  0.0  0.0  0.0  0.0  0.0  0.0  0.0  0.0  0.0  \n",
       "37996  0.0  0.0  0.0  0.0  0.0  0.0  0.0  0.0  0.0  0.0  \n",
       "37997  0.0  0.0  0.0  0.0  0.0  0.0  0.0  0.0  0.0  0.0  \n",
       "37998  0.0  0.0  0.0  0.0  0.0  0.0  0.0  0.0  0.0  0.0  \n",
       "37999  0.0  0.0  0.0  0.0  0.0  0.0  0.0  0.0  0.0  0.0  \n",
       "\n",
       "[38000 rows x 201 columns]"
      ],
      "text/html": "<div>\n<style scoped>\n    .dataframe tbody tr th:only-of-type {\n        vertical-align: middle;\n    }\n\n    .dataframe tbody tr th {\n        vertical-align: top;\n    }\n\n    .dataframe thead th {\n        text-align: right;\n    }\n</style>\n<table border=\"1\" class=\"dataframe\">\n  <thead>\n    <tr style=\"text-align: right;\">\n      <th></th>\n      <th>0</th>\n      <th>1</th>\n      <th>2</th>\n      <th>3</th>\n      <th>4</th>\n      <th>5</th>\n      <th>6</th>\n      <th>7</th>\n      <th>8</th>\n      <th>9</th>\n      <th>...</th>\n      <th>191</th>\n      <th>192</th>\n      <th>193</th>\n      <th>194</th>\n      <th>195</th>\n      <th>196</th>\n      <th>197</th>\n      <th>198</th>\n      <th>199</th>\n      <th>200</th>\n    </tr>\n  </thead>\n  <tbody>\n    <tr>\n      <td>0</td>\n      <td>0.0</td>\n      <td>13.96</td>\n      <td>4.63</td>\n      <td>1.81</td>\n      <td>42.50</td>\n      <td>13.39</td>\n      <td>58.49</td>\n      <td>92.24</td>\n      <td>7.77</td>\n      <td>7.09</td>\n      <td>...</td>\n      <td>0.0</td>\n      <td>0.0</td>\n      <td>0.0</td>\n      <td>0.0</td>\n      <td>0.0</td>\n      <td>0.0</td>\n      <td>0.0</td>\n      <td>0.0</td>\n      <td>0.0</td>\n      <td>0.0</td>\n    </tr>\n    <tr>\n      <td>1</td>\n      <td>0.0</td>\n      <td>14.09</td>\n      <td>4.55</td>\n      <td>1.39</td>\n      <td>39.97</td>\n      <td>12.13</td>\n      <td>70.26</td>\n      <td>95.34</td>\n      <td>4.74</td>\n      <td>4.02</td>\n      <td>...</td>\n      <td>0.0</td>\n      <td>0.0</td>\n      <td>0.0</td>\n      <td>0.0</td>\n      <td>0.0</td>\n      <td>0.0</td>\n      <td>0.0</td>\n      <td>0.0</td>\n      <td>0.0</td>\n      <td>0.0</td>\n    </tr>\n    <tr>\n      <td>2</td>\n      <td>0.0</td>\n      <td>14.62</td>\n      <td>4.66</td>\n      <td>1.32</td>\n      <td>44.22</td>\n      <td>13.18</td>\n      <td>78.37</td>\n      <td>92.78</td>\n      <td>7.12</td>\n      <td>6.22</td>\n      <td>...</td>\n      <td>0.0</td>\n      <td>0.0</td>\n      <td>0.0</td>\n      <td>0.0</td>\n      <td>0.0</td>\n      <td>0.0</td>\n      <td>0.0</td>\n      <td>0.0</td>\n      <td>0.0</td>\n      <td>0.0</td>\n    </tr>\n    <tr>\n      <td>3</td>\n      <td>0.0</td>\n      <td>13.58</td>\n      <td>4.58</td>\n      <td>0.97</td>\n      <td>44.63</td>\n      <td>13.90</td>\n      <td>77.53</td>\n      <td>87.68</td>\n      <td>12.45</td>\n      <td>9.73</td>\n      <td>...</td>\n      <td>0.0</td>\n      <td>0.0</td>\n      <td>0.0</td>\n      <td>0.0</td>\n      <td>0.0</td>\n      <td>0.0</td>\n      <td>0.0</td>\n      <td>0.0</td>\n      <td>0.0</td>\n      <td>0.0</td>\n    </tr>\n    <tr>\n      <td>4</td>\n      <td>0.0</td>\n      <td>14.03</td>\n      <td>4.64</td>\n      <td>0.98</td>\n      <td>41.18</td>\n      <td>12.55</td>\n      <td>80.75</td>\n      <td>94.77</td>\n      <td>5.17</td>\n      <td>4.53</td>\n      <td>...</td>\n      <td>0.0</td>\n      <td>0.0</td>\n      <td>0.0</td>\n      <td>0.0</td>\n      <td>0.0</td>\n      <td>0.0</td>\n      <td>0.0</td>\n      <td>0.0</td>\n      <td>0.0</td>\n      <td>0.0</td>\n    </tr>\n    <tr>\n      <td>...</td>\n      <td>...</td>\n      <td>...</td>\n      <td>...</td>\n      <td>...</td>\n      <td>...</td>\n      <td>...</td>\n      <td>...</td>\n      <td>...</td>\n      <td>...</td>\n      <td>...</td>\n      <td>...</td>\n      <td>...</td>\n      <td>...</td>\n      <td>...</td>\n      <td>...</td>\n      <td>...</td>\n      <td>...</td>\n      <td>...</td>\n      <td>...</td>\n      <td>...</td>\n      <td>...</td>\n    </tr>\n    <tr>\n      <td>37995</td>\n      <td>1.0</td>\n      <td>14.21</td>\n      <td>4.85</td>\n      <td>0.98</td>\n      <td>41.89</td>\n      <td>13.07</td>\n      <td>82.43</td>\n      <td>92.55</td>\n      <td>7.45</td>\n      <td>6.69</td>\n      <td>...</td>\n      <td>0.0</td>\n      <td>0.0</td>\n      <td>0.0</td>\n      <td>0.0</td>\n      <td>0.0</td>\n      <td>0.0</td>\n      <td>0.0</td>\n      <td>0.0</td>\n      <td>0.0</td>\n      <td>0.0</td>\n    </tr>\n    <tr>\n      <td>37996</td>\n      <td>1.0</td>\n      <td>14.22</td>\n      <td>4.78</td>\n      <td>0.75</td>\n      <td>40.20</td>\n      <td>12.19</td>\n      <td>90.75</td>\n      <td>92.35</td>\n      <td>7.63</td>\n      <td>6.25</td>\n      <td>...</td>\n      <td>0.0</td>\n      <td>0.0</td>\n      <td>0.0</td>\n      <td>0.0</td>\n      <td>0.0</td>\n      <td>0.0</td>\n      <td>0.0</td>\n      <td>0.0</td>\n      <td>0.0</td>\n      <td>0.0</td>\n    </tr>\n    <tr>\n      <td>37997</td>\n      <td>1.0</td>\n      <td>14.07</td>\n      <td>4.93</td>\n      <td>0.89</td>\n      <td>39.41</td>\n      <td>12.59</td>\n      <td>84.48</td>\n      <td>94.22</td>\n      <td>5.79</td>\n      <td>5.35</td>\n      <td>...</td>\n      <td>0.0</td>\n      <td>0.0</td>\n      <td>0.0</td>\n      <td>0.0</td>\n      <td>0.0</td>\n      <td>0.0</td>\n      <td>0.0</td>\n      <td>0.0</td>\n      <td>0.0</td>\n      <td>0.0</td>\n    </tr>\n    <tr>\n      <td>37998</td>\n      <td>1.0</td>\n      <td>13.60</td>\n      <td>4.47</td>\n      <td>1.00</td>\n      <td>40.86</td>\n      <td>12.43</td>\n      <td>75.46</td>\n      <td>89.16</td>\n      <td>10.86</td>\n      <td>10.47</td>\n      <td>...</td>\n      <td>0.0</td>\n      <td>0.0</td>\n      <td>0.0</td>\n      <td>0.0</td>\n      <td>0.0</td>\n      <td>0.0</td>\n      <td>0.0</td>\n      <td>0.0</td>\n      <td>0.0</td>\n      <td>0.0</td>\n    </tr>\n    <tr>\n      <td>37999</td>\n      <td>1.0</td>\n      <td>15.05</td>\n      <td>5.00</td>\n      <td>1.02</td>\n      <td>41.32</td>\n      <td>12.63</td>\n      <td>90.06</td>\n      <td>90.11</td>\n      <td>9.92</td>\n      <td>8.07</td>\n      <td>...</td>\n      <td>0.0</td>\n      <td>0.0</td>\n      <td>0.0</td>\n      <td>0.0</td>\n      <td>0.0</td>\n      <td>0.0</td>\n      <td>0.0</td>\n      <td>0.0</td>\n      <td>0.0</td>\n      <td>0.0</td>\n    </tr>\n  </tbody>\n</table>\n<p>38000 rows × 201 columns</p>\n</div>"
     },
     "metadata": {},
     "execution_count": 14
    }
   ],
   "source": [
    "# check again\n",
    "df_train = pd.read_csv('train_new.csv')\n",
    "df_train"
   ]
  },
  {
   "source": [
    "# Create datapoints from testset"
   ],
   "cell_type": "markdown",
   "metadata": {}
  },
  {
   "cell_type": "code",
   "execution_count": 15,
   "metadata": {},
   "outputs": [],
   "source": [
    "N_t = int(N * 0.2) # datapoints\n",
    "# prof_max = 5 # maximum no of profiles together in one datapoint\n",
    "test_len = len(X_test) # total number of individual profiles of patients\n",
    "feat_len = len(X_train[0]) # number of original features\n",
    "\n",
    "new_data_t = np.zeros((N_t, prof_max*feat_len+1))\n",
    "\n",
    "for i in range(N_t):\n",
    "    # random number of profiles\n",
    "    n_prof = np.random.randint(2, prof_max)\n",
    "    # print('No of profiles', n_prof)\n",
    "    label_list = [] # for assigning label\n",
    "    for j in range(n_prof):\n",
    "        # select profile randomly\n",
    "        idx = np.random.randint(test_len)\n",
    "        # assign values\n",
    "        new_data_t[i, 1+j*feat_len:1+(j+1)*feat_len] = X_test[idx]\n",
    "\n",
    "        label_list.append(y_test[idx])\n",
    "    \n",
    "    # fill values for remaining\n",
    "    # for j in range(prof_max - n_prof):\n",
    "    # print('labels', label_list)\n",
    "    # check if all values are identical in list\n",
    "    label = label_list.count(label_list[0]) == len(label_list)\n",
    "    # Assign label\n",
    "    new_data_t[i, 0] = label\n",
    "\n",
    "# concatenate to original    "
   ]
  },
  {
   "cell_type": "code",
   "execution_count": 16,
   "metadata": {},
   "outputs": [
    {
     "output_type": "execute_result",
     "data": {
      "text/plain": [
       "      0      1     2     3      4      5      6      7      8      9    ...  \\\n",
       "0     0.0  15.29  5.21  1.01  41.77  13.16  93.00  91.01   8.99   8.58  ...   \n",
       "1     0.0  12.26  3.75  1.36  43.90  12.35  52.85  81.43  18.56  15.49  ...   \n",
       "2     0.0  13.85  4.62  1.81  40.35  12.66  57.72  91.72   8.42   7.25  ...   \n",
       "3     0.0  14.42  4.67  1.84  42.79  13.10  62.03  89.58  10.60   9.25  ...   \n",
       "4     0.0  15.75  5.02  0.98  39.77  12.24  98.91  93.10   6.80   5.42  ...   \n",
       "...   ...    ...   ...   ...    ...    ...    ...    ...    ...    ...  ...   \n",
       "3995  0.0  12.31  3.77  1.07  42.49  12.28  59.70  91.27   8.66   8.24  ...   \n",
       "3996  0.0  13.09  4.29  1.05  43.05  13.10  68.61  90.23   9.75   9.22  ...   \n",
       "3997  0.0  13.48  4.43  0.89  38.30  11.82  78.27  96.88   3.19   2.83  ...   \n",
       "3998  0.0  13.98  4.59  0.94  41.63  12.74  81.46  92.72   7.23   6.58  ...   \n",
       "3999  0.0  13.89  4.59  0.53  39.99  12.04  94.95  97.35   2.68   2.29  ...   \n",
       "\n",
       "      191  192  193  194  195  196  197  198  199  200  \n",
       "0     0.0  0.0  0.0  0.0  0.0  0.0  0.0  0.0  0.0  0.0  \n",
       "1     0.0  0.0  0.0  0.0  0.0  0.0  0.0  0.0  0.0  0.0  \n",
       "2     0.0  0.0  0.0  0.0  0.0  0.0  0.0  0.0  0.0  0.0  \n",
       "3     0.0  0.0  0.0  0.0  0.0  0.0  0.0  0.0  0.0  0.0  \n",
       "4     0.0  0.0  0.0  0.0  0.0  0.0  0.0  0.0  0.0  0.0  \n",
       "...   ...  ...  ...  ...  ...  ...  ...  ...  ...  ...  \n",
       "3995  0.0  0.0  0.0  0.0  0.0  0.0  0.0  0.0  0.0  0.0  \n",
       "3996  0.0  0.0  0.0  0.0  0.0  0.0  0.0  0.0  0.0  0.0  \n",
       "3997  0.0  0.0  0.0  0.0  0.0  0.0  0.0  0.0  0.0  0.0  \n",
       "3998  0.0  0.0  0.0  0.0  0.0  0.0  0.0  0.0  0.0  0.0  \n",
       "3999  0.0  0.0  0.0  0.0  0.0  0.0  0.0  0.0  0.0  0.0  \n",
       "\n",
       "[4000 rows x 201 columns]"
      ],
      "text/html": "<div>\n<style scoped>\n    .dataframe tbody tr th:only-of-type {\n        vertical-align: middle;\n    }\n\n    .dataframe tbody tr th {\n        vertical-align: top;\n    }\n\n    .dataframe thead th {\n        text-align: right;\n    }\n</style>\n<table border=\"1\" class=\"dataframe\">\n  <thead>\n    <tr style=\"text-align: right;\">\n      <th></th>\n      <th>0</th>\n      <th>1</th>\n      <th>2</th>\n      <th>3</th>\n      <th>4</th>\n      <th>5</th>\n      <th>6</th>\n      <th>7</th>\n      <th>8</th>\n      <th>9</th>\n      <th>...</th>\n      <th>191</th>\n      <th>192</th>\n      <th>193</th>\n      <th>194</th>\n      <th>195</th>\n      <th>196</th>\n      <th>197</th>\n      <th>198</th>\n      <th>199</th>\n      <th>200</th>\n    </tr>\n  </thead>\n  <tbody>\n    <tr>\n      <td>0</td>\n      <td>0.0</td>\n      <td>15.29</td>\n      <td>5.21</td>\n      <td>1.01</td>\n      <td>41.77</td>\n      <td>13.16</td>\n      <td>93.00</td>\n      <td>91.01</td>\n      <td>8.99</td>\n      <td>8.58</td>\n      <td>...</td>\n      <td>0.0</td>\n      <td>0.0</td>\n      <td>0.0</td>\n      <td>0.0</td>\n      <td>0.0</td>\n      <td>0.0</td>\n      <td>0.0</td>\n      <td>0.0</td>\n      <td>0.0</td>\n      <td>0.0</td>\n    </tr>\n    <tr>\n      <td>1</td>\n      <td>0.0</td>\n      <td>12.26</td>\n      <td>3.75</td>\n      <td>1.36</td>\n      <td>43.90</td>\n      <td>12.35</td>\n      <td>52.85</td>\n      <td>81.43</td>\n      <td>18.56</td>\n      <td>15.49</td>\n      <td>...</td>\n      <td>0.0</td>\n      <td>0.0</td>\n      <td>0.0</td>\n      <td>0.0</td>\n      <td>0.0</td>\n      <td>0.0</td>\n      <td>0.0</td>\n      <td>0.0</td>\n      <td>0.0</td>\n      <td>0.0</td>\n    </tr>\n    <tr>\n      <td>2</td>\n      <td>0.0</td>\n      <td>13.85</td>\n      <td>4.62</td>\n      <td>1.81</td>\n      <td>40.35</td>\n      <td>12.66</td>\n      <td>57.72</td>\n      <td>91.72</td>\n      <td>8.42</td>\n      <td>7.25</td>\n      <td>...</td>\n      <td>0.0</td>\n      <td>0.0</td>\n      <td>0.0</td>\n      <td>0.0</td>\n      <td>0.0</td>\n      <td>0.0</td>\n      <td>0.0</td>\n      <td>0.0</td>\n      <td>0.0</td>\n      <td>0.0</td>\n    </tr>\n    <tr>\n      <td>3</td>\n      <td>0.0</td>\n      <td>14.42</td>\n      <td>4.67</td>\n      <td>1.84</td>\n      <td>42.79</td>\n      <td>13.10</td>\n      <td>62.03</td>\n      <td>89.58</td>\n      <td>10.60</td>\n      <td>9.25</td>\n      <td>...</td>\n      <td>0.0</td>\n      <td>0.0</td>\n      <td>0.0</td>\n      <td>0.0</td>\n      <td>0.0</td>\n      <td>0.0</td>\n      <td>0.0</td>\n      <td>0.0</td>\n      <td>0.0</td>\n      <td>0.0</td>\n    </tr>\n    <tr>\n      <td>4</td>\n      <td>0.0</td>\n      <td>15.75</td>\n      <td>5.02</td>\n      <td>0.98</td>\n      <td>39.77</td>\n      <td>12.24</td>\n      <td>98.91</td>\n      <td>93.10</td>\n      <td>6.80</td>\n      <td>5.42</td>\n      <td>...</td>\n      <td>0.0</td>\n      <td>0.0</td>\n      <td>0.0</td>\n      <td>0.0</td>\n      <td>0.0</td>\n      <td>0.0</td>\n      <td>0.0</td>\n      <td>0.0</td>\n      <td>0.0</td>\n      <td>0.0</td>\n    </tr>\n    <tr>\n      <td>...</td>\n      <td>...</td>\n      <td>...</td>\n      <td>...</td>\n      <td>...</td>\n      <td>...</td>\n      <td>...</td>\n      <td>...</td>\n      <td>...</td>\n      <td>...</td>\n      <td>...</td>\n      <td>...</td>\n      <td>...</td>\n      <td>...</td>\n      <td>...</td>\n      <td>...</td>\n      <td>...</td>\n      <td>...</td>\n      <td>...</td>\n      <td>...</td>\n      <td>...</td>\n      <td>...</td>\n    </tr>\n    <tr>\n      <td>3995</td>\n      <td>0.0</td>\n      <td>12.31</td>\n      <td>3.77</td>\n      <td>1.07</td>\n      <td>42.49</td>\n      <td>12.28</td>\n      <td>59.70</td>\n      <td>91.27</td>\n      <td>8.66</td>\n      <td>8.24</td>\n      <td>...</td>\n      <td>0.0</td>\n      <td>0.0</td>\n      <td>0.0</td>\n      <td>0.0</td>\n      <td>0.0</td>\n      <td>0.0</td>\n      <td>0.0</td>\n      <td>0.0</td>\n      <td>0.0</td>\n      <td>0.0</td>\n    </tr>\n    <tr>\n      <td>3996</td>\n      <td>0.0</td>\n      <td>13.09</td>\n      <td>4.29</td>\n      <td>1.05</td>\n      <td>43.05</td>\n      <td>13.10</td>\n      <td>68.61</td>\n      <td>90.23</td>\n      <td>9.75</td>\n      <td>9.22</td>\n      <td>...</td>\n      <td>0.0</td>\n      <td>0.0</td>\n      <td>0.0</td>\n      <td>0.0</td>\n      <td>0.0</td>\n      <td>0.0</td>\n      <td>0.0</td>\n      <td>0.0</td>\n      <td>0.0</td>\n      <td>0.0</td>\n    </tr>\n    <tr>\n      <td>3997</td>\n      <td>0.0</td>\n      <td>13.48</td>\n      <td>4.43</td>\n      <td>0.89</td>\n      <td>38.30</td>\n      <td>11.82</td>\n      <td>78.27</td>\n      <td>96.88</td>\n      <td>3.19</td>\n      <td>2.83</td>\n      <td>...</td>\n      <td>0.0</td>\n      <td>0.0</td>\n      <td>0.0</td>\n      <td>0.0</td>\n      <td>0.0</td>\n      <td>0.0</td>\n      <td>0.0</td>\n      <td>0.0</td>\n      <td>0.0</td>\n      <td>0.0</td>\n    </tr>\n    <tr>\n      <td>3998</td>\n      <td>0.0</td>\n      <td>13.98</td>\n      <td>4.59</td>\n      <td>0.94</td>\n      <td>41.63</td>\n      <td>12.74</td>\n      <td>81.46</td>\n      <td>92.72</td>\n      <td>7.23</td>\n      <td>6.58</td>\n      <td>...</td>\n      <td>0.0</td>\n      <td>0.0</td>\n      <td>0.0</td>\n      <td>0.0</td>\n      <td>0.0</td>\n      <td>0.0</td>\n      <td>0.0</td>\n      <td>0.0</td>\n      <td>0.0</td>\n      <td>0.0</td>\n    </tr>\n    <tr>\n      <td>3999</td>\n      <td>0.0</td>\n      <td>13.89</td>\n      <td>4.59</td>\n      <td>0.53</td>\n      <td>39.99</td>\n      <td>12.04</td>\n      <td>94.95</td>\n      <td>97.35</td>\n      <td>2.68</td>\n      <td>2.29</td>\n      <td>...</td>\n      <td>0.0</td>\n      <td>0.0</td>\n      <td>0.0</td>\n      <td>0.0</td>\n      <td>0.0</td>\n      <td>0.0</td>\n      <td>0.0</td>\n      <td>0.0</td>\n      <td>0.0</td>\n      <td>0.0</td>\n    </tr>\n  </tbody>\n</table>\n<p>4000 rows × 201 columns</p>\n</div>"
     },
     "metadata": {},
     "execution_count": 16
    }
   ],
   "source": [
    "new_data_df_t = pd.DataFrame(new_data_t)\n",
    "new_data_df_t    "
   ]
  },
  {
   "cell_type": "code",
   "execution_count": 17,
   "metadata": {},
   "outputs": [
    {
     "output_type": "execute_result",
     "data": {
      "text/plain": [
       "        1\n",
       "0        \n",
       "0.0  3984\n",
       "1.0    16"
      ],
      "text/html": "<div>\n<style scoped>\n    .dataframe tbody tr th:only-of-type {\n        vertical-align: middle;\n    }\n\n    .dataframe tbody tr th {\n        vertical-align: top;\n    }\n\n    .dataframe thead th {\n        text-align: right;\n    }\n</style>\n<table border=\"1\" class=\"dataframe\">\n  <thead>\n    <tr style=\"text-align: right;\">\n      <th></th>\n      <th>1</th>\n    </tr>\n    <tr>\n      <th>0</th>\n      <th></th>\n    </tr>\n  </thead>\n  <tbody>\n    <tr>\n      <td>0.0</td>\n      <td>3984</td>\n    </tr>\n    <tr>\n      <td>1.0</td>\n      <td>16</td>\n    </tr>\n  </tbody>\n</table>\n</div>"
     },
     "metadata": {},
     "execution_count": 17
    }
   ],
   "source": [
    "df_part_cnt = new_data_df_t.groupby(0).count()\n",
    "df_part_cnt.iloc[:,:1]"
   ]
  },
  {
   "source": [
    "### Additional test points to make data balance"
   ],
   "cell_type": "markdown",
   "metadata": {}
  },
  {
   "cell_type": "code",
   "execution_count": 18,
   "metadata": {},
   "outputs": [],
   "source": [
    "N_p = int(N_t*0.9) # datapoints\n",
    "# N_p = 10\n",
    "new_data_p = np.zeros((N_p, prof_max*feat_len+1))\n",
    "\n",
    "for i in range(N_p):\n",
    "\n",
    "    # random number of profiles\n",
    "    n_prof = np.random.randint(2, prof_max)\n",
    "\n",
    "    # random profiles selection\n",
    "    p = np.random.randint(1, 31)\n",
    "    \n",
    "    # indexes of particular participants in data\n",
    "    p_idx = np.where(np.array(y_test) == p)[0]\n",
    "    t_len = len(p_idx)\n",
    "    \n",
    "    # print('No of profiles', n_prof)\n",
    "    label_list = [] # for assigning label\n",
    "    \n",
    "    for j in range(n_prof):\n",
    "        # select profile randomly\n",
    "        idx = np.random.randint(t_len)\n",
    "    \n",
    "        # assign values\n",
    "        new_data_p[i, 1+j*feat_len:1+(j+1)*feat_len] = X_test[p_idx[idx]]\n",
    "\n",
    "        label_list.append(y_test[p_idx[idx]])\n",
    "    \n",
    "    # fill values for remaining\n",
    "    # for j in range(prof_max - n_prof):\n",
    "    # print('labels', label_list)\n",
    "    # check if all values are identical in list\n",
    "    label = label_list.count(label_list[0]) == len(label_list)\n",
    "    # Assign label\n",
    "    new_data_p[i, 0] = label\n"
   ]
  },
  {
   "cell_type": "code",
   "execution_count": 19,
   "metadata": {},
   "outputs": [
    {
     "output_type": "execute_result",
     "data": {
      "text/plain": [
       "((3600, 201), array([[ 1.  , 14.97,  5.24, ...,  0.  ,  0.  ,  0.  ],\n",
       "        [ 1.  , 14.75,  5.01, ...,  0.  ,  0.  ,  0.  ],\n",
       "        [ 1.  , 13.18,  4.38, ...,  0.  ,  0.  ,  0.  ],\n",
       "        ...,\n",
       "        [ 1.  , 14.04,  4.59, ...,  0.  ,  0.  ,  0.  ],\n",
       "        [ 1.  , 13.89,  4.59, ...,  0.  ,  0.  ,  0.  ],\n",
       "        [ 1.  , 15.96,  5.44, ...,  0.  ,  0.  ,  0.  ]]))"
      ]
     },
     "metadata": {},
     "execution_count": 19
    }
   ],
   "source": [
    "new_data_p.shape, new_data_p"
   ]
  },
  {
   "cell_type": "code",
   "execution_count": 20,
   "metadata": {},
   "outputs": [
    {
     "output_type": "execute_result",
     "data": {
      "text/plain": [
       "        1\n",
       "0        \n",
       "0.0  3984\n",
       "1.0  3616"
      ],
      "text/html": "<div>\n<style scoped>\n    .dataframe tbody tr th:only-of-type {\n        vertical-align: middle;\n    }\n\n    .dataframe tbody tr th {\n        vertical-align: top;\n    }\n\n    .dataframe thead th {\n        text-align: right;\n    }\n</style>\n<table border=\"1\" class=\"dataframe\">\n  <thead>\n    <tr style=\"text-align: right;\">\n      <th></th>\n      <th>1</th>\n    </tr>\n    <tr>\n      <th>0</th>\n      <th></th>\n    </tr>\n  </thead>\n  <tbody>\n    <tr>\n      <td>0.0</td>\n      <td>3984</td>\n    </tr>\n    <tr>\n      <td>1.0</td>\n      <td>3616</td>\n    </tr>\n  </tbody>\n</table>\n</div>"
     },
     "metadata": {},
     "execution_count": 20
    }
   ],
   "source": [
    "new_data_t_final = np.vstack((new_data_t, new_data_p)) # merge original and extra data\n",
    "new_data_df_t_final = pd.DataFrame(new_data_t_final) # create dataframe\n",
    "new_data_df_t_final.groupby(0).count().iloc[:,:1] # support for each label"
   ]
  },
  {
   "cell_type": "code",
   "execution_count": 21,
   "metadata": {},
   "outputs": [],
   "source": [
    "# Save as CSV\n",
    "new_data_df_t_final.to_csv('test_new.csv', index=None)"
   ]
  }
 ]
}