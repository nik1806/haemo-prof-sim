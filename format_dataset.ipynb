{
 "metadata": {
  "language_info": {
   "codemirror_mode": {
    "name": "ipython",
    "version": 3
   },
   "file_extension": ".py",
   "mimetype": "text/x-python",
   "name": "python",
   "nbconvert_exporter": "python",
   "pygments_lexer": "ipython3",
   "version": "3.6.8"
  },
  "orig_nbformat": 2,
  "kernelspec": {
   "name": "python368jvsc74a57bd039c32cf5604986400b1cbafd7518d951df7ae3ce292cc81e38a02c43f6c4706e",
   "display_name": "Python 3.6.8 64-bit ('pytorch': virtualenvwrapper)"
  }
 },
 "nbformat": 4,
 "nbformat_minor": 2,
 "cells": [
  {
   "cell_type": "code",
   "execution_count": 1,
   "metadata": {},
   "outputs": [],
   "source": [
    "import pandas as pd\n",
    "import numpy as np"
   ]
  },
  {
   "source": [
    "### Read data"
   ],
   "cell_type": "markdown",
   "metadata": {}
  },
  {
   "cell_type": "code",
   "execution_count": 2,
   "metadata": {},
   "outputs": [
    {
     "output_type": "execute_result",
     "data": {
      "text/plain": [
       "   ParticipantID     HB   RBC  RET%  RDW-SD  RDW-CV  OFF-HR    LFR    IRF  \\\n",
       "0              1  14.21  5.07  0.89   41.30   13.46   86.21  91.94   8.03   \n",
       "1              1  13.96  4.56  0.96   42.46   12.74   81.24  93.08   7.00   \n",
       "2              1  14.72  5.13  0.85   41.64   13.16   92.67  89.95  10.04   \n",
       "3              1  13.89  4.79  0.92   44.04   13.86   81.53  86.74  13.27   \n",
       "4              1  15.42  4.77  1.07   43.28   12.47   92.19  94.42   5.58   \n",
       "\n",
       "     MFR   HFR  \n",
       "0   7.16  0.81  \n",
       "1   6.39  0.51  \n",
       "2   9.40  0.71  \n",
       "3  11.79  1.33  \n",
       "4   4.71  0.75  "
      ],
      "text/html": "<div>\n<style scoped>\n    .dataframe tbody tr th:only-of-type {\n        vertical-align: middle;\n    }\n\n    .dataframe tbody tr th {\n        vertical-align: top;\n    }\n\n    .dataframe thead th {\n        text-align: right;\n    }\n</style>\n<table border=\"1\" class=\"dataframe\">\n  <thead>\n    <tr style=\"text-align: right;\">\n      <th></th>\n      <th>ParticipantID</th>\n      <th>HB</th>\n      <th>RBC</th>\n      <th>RET%</th>\n      <th>RDW-SD</th>\n      <th>RDW-CV</th>\n      <th>OFF-HR</th>\n      <th>LFR</th>\n      <th>IRF</th>\n      <th>MFR</th>\n      <th>HFR</th>\n    </tr>\n  </thead>\n  <tbody>\n    <tr>\n      <td>0</td>\n      <td>1</td>\n      <td>14.21</td>\n      <td>5.07</td>\n      <td>0.89</td>\n      <td>41.30</td>\n      <td>13.46</td>\n      <td>86.21</td>\n      <td>91.94</td>\n      <td>8.03</td>\n      <td>7.16</td>\n      <td>0.81</td>\n    </tr>\n    <tr>\n      <td>1</td>\n      <td>1</td>\n      <td>13.96</td>\n      <td>4.56</td>\n      <td>0.96</td>\n      <td>42.46</td>\n      <td>12.74</td>\n      <td>81.24</td>\n      <td>93.08</td>\n      <td>7.00</td>\n      <td>6.39</td>\n      <td>0.51</td>\n    </tr>\n    <tr>\n      <td>2</td>\n      <td>1</td>\n      <td>14.72</td>\n      <td>5.13</td>\n      <td>0.85</td>\n      <td>41.64</td>\n      <td>13.16</td>\n      <td>92.67</td>\n      <td>89.95</td>\n      <td>10.04</td>\n      <td>9.40</td>\n      <td>0.71</td>\n    </tr>\n    <tr>\n      <td>3</td>\n      <td>1</td>\n      <td>13.89</td>\n      <td>4.79</td>\n      <td>0.92</td>\n      <td>44.04</td>\n      <td>13.86</td>\n      <td>81.53</td>\n      <td>86.74</td>\n      <td>13.27</td>\n      <td>11.79</td>\n      <td>1.33</td>\n    </tr>\n    <tr>\n      <td>4</td>\n      <td>1</td>\n      <td>15.42</td>\n      <td>4.77</td>\n      <td>1.07</td>\n      <td>43.28</td>\n      <td>12.47</td>\n      <td>92.19</td>\n      <td>94.42</td>\n      <td>5.58</td>\n      <td>4.71</td>\n      <td>0.75</td>\n    </tr>\n  </tbody>\n</table>\n</div>"
     },
     "metadata": {},
     "execution_count": 2
    }
   ],
   "source": [
    "dataset = pd.read_csv('dataset.csv')\n",
    "X = dataset.iloc[:, 1:].values\n",
    "y = dataset.iloc[:, 0].values\n",
    "dataset.head()"
   ]
  },
  {
   "source": [
    "### Split"
   ],
   "cell_type": "markdown",
   "metadata": {}
  },
  {
   "cell_type": "code",
   "execution_count": 3,
   "metadata": {},
   "outputs": [],
   "source": [
    "# keep profiles separate between train and test\n",
    "from sklearn.model_selection import train_test_split\n",
    "X_train, X_test, y_train, y_test = train_test_split(X, y, test_size = 0.2, random_state = 0)"
   ]
  },
  {
   "source": [
    "### Create datapoints from train split"
   ],
   "cell_type": "markdown",
   "metadata": {}
  },
  {
   "cell_type": "code",
   "execution_count": 4,
   "metadata": {},
   "outputs": [],
   "source": [
    "N = 20000 # datapoints\n",
    "prof_max = 20 # maximum no of profiles together in one datapoint\n",
    "train_len = len(X_train) # total number of individual profiles of patients\n",
    "feat_len = len(X_train[0]) # number of original features\n",
    "\n",
    "new_data = np.zeros((N, prof_max*feat_len+1))\n",
    "\n",
    "for i in range(N):\n",
    "    # random number of profiles\n",
    "    n_prof = np.random.randint(2, prof_max)\n",
    "    # print('No of profiles', n_prof)\n",
    "    label_list = [] # for assigning label\n",
    "    for j in range(n_prof):\n",
    "        # select profile randomly\n",
    "        idx = np.random.randint(train_len)\n",
    "        # assign values\n",
    "        new_data[i, 1+j*feat_len:1+(j+1)*feat_len] = X_train[idx]\n",
    "\n",
    "        label_list.append(y_train[idx])\n",
    "    \n",
    "    # fill values for remaining\n",
    "    # for j in range(prof_max - n_prof):\n",
    "    # print('labels', label_list)\n",
    "    # check if all values are identical in list\n",
    "    label = not label_list.count(label_list[0]) == len(label_list)\n",
    "    # Assign label\n",
    "    new_data[i, 0] = label\n",
    "\n",
    "# concatenate to original    "
   ]
  },
  {
   "cell_type": "code",
   "execution_count": 5,
   "metadata": {},
   "outputs": [
    {
     "output_type": "execute_result",
     "data": {
      "text/plain": [
       "       0      1     2     3      4      5       6      7      8      9    ...  \\\n",
       "0      1.0  14.16  4.50  1.81  40.94  12.18   60.41  86.59  13.67  11.84  ...   \n",
       "1      1.0  14.02  4.56  1.67  39.13  12.22   62.40  87.22  12.92  11.75  ...   \n",
       "2      1.0  16.57  5.18  1.09  43.17  12.46  102.86  92.30   7.56   7.46  ...   \n",
       "3      1.0  12.96  4.28  1.09  40.01  12.30   66.64  94.33   5.78   5.55  ...   \n",
       "4      1.0  12.91  4.12  1.04  42.88  12.52   67.56  88.19  11.81   9.40  ...   \n",
       "...    ...    ...   ...   ...    ...    ...     ...    ...    ...    ...  ...   \n",
       "19995  1.0  14.21  5.07  0.89  41.30  13.46   86.21  91.94   8.03   7.16  ...   \n",
       "19996  1.0  15.72  5.29  1.84  37.52  12.23   73.92  88.80  11.24  10.17  ...   \n",
       "19997  1.0  15.15  4.73  0.94  43.41  12.58   93.76  94.73   5.30   4.71  ...   \n",
       "19998  1.0  15.76  5.23  0.96  39.73  12.60   98.77  94.73   5.21   4.86  ...   \n",
       "19999  1.0  14.20  4.70  1.02  35.07  11.14   81.55  92.73   7.08   6.12  ...   \n",
       "\n",
       "       191  192  193  194  195  196  197  198  199  200  \n",
       "0      0.0  0.0  0.0  0.0  0.0  0.0  0.0  0.0  0.0  0.0  \n",
       "1      0.0  0.0  0.0  0.0  0.0  0.0  0.0  0.0  0.0  0.0  \n",
       "2      0.0  0.0  0.0  0.0  0.0  0.0  0.0  0.0  0.0  0.0  \n",
       "3      0.0  0.0  0.0  0.0  0.0  0.0  0.0  0.0  0.0  0.0  \n",
       "4      0.0  0.0  0.0  0.0  0.0  0.0  0.0  0.0  0.0  0.0  \n",
       "...    ...  ...  ...  ...  ...  ...  ...  ...  ...  ...  \n",
       "19995  0.0  0.0  0.0  0.0  0.0  0.0  0.0  0.0  0.0  0.0  \n",
       "19996  0.0  0.0  0.0  0.0  0.0  0.0  0.0  0.0  0.0  0.0  \n",
       "19997  0.0  0.0  0.0  0.0  0.0  0.0  0.0  0.0  0.0  0.0  \n",
       "19998  0.0  0.0  0.0  0.0  0.0  0.0  0.0  0.0  0.0  0.0  \n",
       "19999  0.0  0.0  0.0  0.0  0.0  0.0  0.0  0.0  0.0  0.0  \n",
       "\n",
       "[20000 rows x 201 columns]"
      ],
      "text/html": "<div>\n<style scoped>\n    .dataframe tbody tr th:only-of-type {\n        vertical-align: middle;\n    }\n\n    .dataframe tbody tr th {\n        vertical-align: top;\n    }\n\n    .dataframe thead th {\n        text-align: right;\n    }\n</style>\n<table border=\"1\" class=\"dataframe\">\n  <thead>\n    <tr style=\"text-align: right;\">\n      <th></th>\n      <th>0</th>\n      <th>1</th>\n      <th>2</th>\n      <th>3</th>\n      <th>4</th>\n      <th>5</th>\n      <th>6</th>\n      <th>7</th>\n      <th>8</th>\n      <th>9</th>\n      <th>...</th>\n      <th>191</th>\n      <th>192</th>\n      <th>193</th>\n      <th>194</th>\n      <th>195</th>\n      <th>196</th>\n      <th>197</th>\n      <th>198</th>\n      <th>199</th>\n      <th>200</th>\n    </tr>\n  </thead>\n  <tbody>\n    <tr>\n      <td>0</td>\n      <td>1.0</td>\n      <td>14.16</td>\n      <td>4.50</td>\n      <td>1.81</td>\n      <td>40.94</td>\n      <td>12.18</td>\n      <td>60.41</td>\n      <td>86.59</td>\n      <td>13.67</td>\n      <td>11.84</td>\n      <td>...</td>\n      <td>0.0</td>\n      <td>0.0</td>\n      <td>0.0</td>\n      <td>0.0</td>\n      <td>0.0</td>\n      <td>0.0</td>\n      <td>0.0</td>\n      <td>0.0</td>\n      <td>0.0</td>\n      <td>0.0</td>\n    </tr>\n    <tr>\n      <td>1</td>\n      <td>1.0</td>\n      <td>14.02</td>\n      <td>4.56</td>\n      <td>1.67</td>\n      <td>39.13</td>\n      <td>12.22</td>\n      <td>62.40</td>\n      <td>87.22</td>\n      <td>12.92</td>\n      <td>11.75</td>\n      <td>...</td>\n      <td>0.0</td>\n      <td>0.0</td>\n      <td>0.0</td>\n      <td>0.0</td>\n      <td>0.0</td>\n      <td>0.0</td>\n      <td>0.0</td>\n      <td>0.0</td>\n      <td>0.0</td>\n      <td>0.0</td>\n    </tr>\n    <tr>\n      <td>2</td>\n      <td>1.0</td>\n      <td>16.57</td>\n      <td>5.18</td>\n      <td>1.09</td>\n      <td>43.17</td>\n      <td>12.46</td>\n      <td>102.86</td>\n      <td>92.30</td>\n      <td>7.56</td>\n      <td>7.46</td>\n      <td>...</td>\n      <td>0.0</td>\n      <td>0.0</td>\n      <td>0.0</td>\n      <td>0.0</td>\n      <td>0.0</td>\n      <td>0.0</td>\n      <td>0.0</td>\n      <td>0.0</td>\n      <td>0.0</td>\n      <td>0.0</td>\n    </tr>\n    <tr>\n      <td>3</td>\n      <td>1.0</td>\n      <td>12.96</td>\n      <td>4.28</td>\n      <td>1.09</td>\n      <td>40.01</td>\n      <td>12.30</td>\n      <td>66.64</td>\n      <td>94.33</td>\n      <td>5.78</td>\n      <td>5.55</td>\n      <td>...</td>\n      <td>0.0</td>\n      <td>0.0</td>\n      <td>0.0</td>\n      <td>0.0</td>\n      <td>0.0</td>\n      <td>0.0</td>\n      <td>0.0</td>\n      <td>0.0</td>\n      <td>0.0</td>\n      <td>0.0</td>\n    </tr>\n    <tr>\n      <td>4</td>\n      <td>1.0</td>\n      <td>12.91</td>\n      <td>4.12</td>\n      <td>1.04</td>\n      <td>42.88</td>\n      <td>12.52</td>\n      <td>67.56</td>\n      <td>88.19</td>\n      <td>11.81</td>\n      <td>9.40</td>\n      <td>...</td>\n      <td>0.0</td>\n      <td>0.0</td>\n      <td>0.0</td>\n      <td>0.0</td>\n      <td>0.0</td>\n      <td>0.0</td>\n      <td>0.0</td>\n      <td>0.0</td>\n      <td>0.0</td>\n      <td>0.0</td>\n    </tr>\n    <tr>\n      <td>...</td>\n      <td>...</td>\n      <td>...</td>\n      <td>...</td>\n      <td>...</td>\n      <td>...</td>\n      <td>...</td>\n      <td>...</td>\n      <td>...</td>\n      <td>...</td>\n      <td>...</td>\n      <td>...</td>\n      <td>...</td>\n      <td>...</td>\n      <td>...</td>\n      <td>...</td>\n      <td>...</td>\n      <td>...</td>\n      <td>...</td>\n      <td>...</td>\n      <td>...</td>\n      <td>...</td>\n    </tr>\n    <tr>\n      <td>19995</td>\n      <td>1.0</td>\n      <td>14.21</td>\n      <td>5.07</td>\n      <td>0.89</td>\n      <td>41.30</td>\n      <td>13.46</td>\n      <td>86.21</td>\n      <td>91.94</td>\n      <td>8.03</td>\n      <td>7.16</td>\n      <td>...</td>\n      <td>0.0</td>\n      <td>0.0</td>\n      <td>0.0</td>\n      <td>0.0</td>\n      <td>0.0</td>\n      <td>0.0</td>\n      <td>0.0</td>\n      <td>0.0</td>\n      <td>0.0</td>\n      <td>0.0</td>\n    </tr>\n    <tr>\n      <td>19996</td>\n      <td>1.0</td>\n      <td>15.72</td>\n      <td>5.29</td>\n      <td>1.84</td>\n      <td>37.52</td>\n      <td>12.23</td>\n      <td>73.92</td>\n      <td>88.80</td>\n      <td>11.24</td>\n      <td>10.17</td>\n      <td>...</td>\n      <td>0.0</td>\n      <td>0.0</td>\n      <td>0.0</td>\n      <td>0.0</td>\n      <td>0.0</td>\n      <td>0.0</td>\n      <td>0.0</td>\n      <td>0.0</td>\n      <td>0.0</td>\n      <td>0.0</td>\n    </tr>\n    <tr>\n      <td>19997</td>\n      <td>1.0</td>\n      <td>15.15</td>\n      <td>4.73</td>\n      <td>0.94</td>\n      <td>43.41</td>\n      <td>12.58</td>\n      <td>93.76</td>\n      <td>94.73</td>\n      <td>5.30</td>\n      <td>4.71</td>\n      <td>...</td>\n      <td>0.0</td>\n      <td>0.0</td>\n      <td>0.0</td>\n      <td>0.0</td>\n      <td>0.0</td>\n      <td>0.0</td>\n      <td>0.0</td>\n      <td>0.0</td>\n      <td>0.0</td>\n      <td>0.0</td>\n    </tr>\n    <tr>\n      <td>19998</td>\n      <td>1.0</td>\n      <td>15.76</td>\n      <td>5.23</td>\n      <td>0.96</td>\n      <td>39.73</td>\n      <td>12.60</td>\n      <td>98.77</td>\n      <td>94.73</td>\n      <td>5.21</td>\n      <td>4.86</td>\n      <td>...</td>\n      <td>0.0</td>\n      <td>0.0</td>\n      <td>0.0</td>\n      <td>0.0</td>\n      <td>0.0</td>\n      <td>0.0</td>\n      <td>0.0</td>\n      <td>0.0</td>\n      <td>0.0</td>\n      <td>0.0</td>\n    </tr>\n    <tr>\n      <td>19999</td>\n      <td>1.0</td>\n      <td>14.20</td>\n      <td>4.70</td>\n      <td>1.02</td>\n      <td>35.07</td>\n      <td>11.14</td>\n      <td>81.55</td>\n      <td>92.73</td>\n      <td>7.08</td>\n      <td>6.12</td>\n      <td>...</td>\n      <td>0.0</td>\n      <td>0.0</td>\n      <td>0.0</td>\n      <td>0.0</td>\n      <td>0.0</td>\n      <td>0.0</td>\n      <td>0.0</td>\n      <td>0.0</td>\n      <td>0.0</td>\n      <td>0.0</td>\n    </tr>\n  </tbody>\n</table>\n<p>20000 rows × 201 columns</p>\n</div>"
     },
     "metadata": {},
     "execution_count": 5
    }
   ],
   "source": [
    "new_data_df = pd.DataFrame(new_data)\n",
    "new_data_df    "
   ]
  },
  {
   "cell_type": "code",
   "execution_count": 6,
   "metadata": {},
   "outputs": [
    {
     "output_type": "execute_result",
     "data": {
      "text/plain": [
       "         1\n",
       "0         \n",
       "0.0     49\n",
       "1.0  19951"
      ],
      "text/html": "<div>\n<style scoped>\n    .dataframe tbody tr th:only-of-type {\n        vertical-align: middle;\n    }\n\n    .dataframe tbody tr th {\n        vertical-align: top;\n    }\n\n    .dataframe thead th {\n        text-align: right;\n    }\n</style>\n<table border=\"1\" class=\"dataframe\">\n  <thead>\n    <tr style=\"text-align: right;\">\n      <th></th>\n      <th>1</th>\n    </tr>\n    <tr>\n      <th>0</th>\n      <th></th>\n    </tr>\n  </thead>\n  <tbody>\n    <tr>\n      <td>0.0</td>\n      <td>49</td>\n    </tr>\n    <tr>\n      <td>1.0</td>\n      <td>19951</td>\n    </tr>\n  </tbody>\n</table>\n</div>"
     },
     "metadata": {},
     "execution_count": 6
    }
   ],
   "source": [
    "df_part_cnt = new_data_df.groupby(0).count()\n",
    "df_part_cnt.iloc[:,:1]"
   ]
  },
  {
   "source": [
    "### Observations\n",
    "* The new dataset generated is skewed (data imbalance).\n",
    "* There are very less instances of label=1 (all profile belongs to same class)\n",
    "* The skewed is obvious because when selecting profiles the probability of selecting other patient profile is more"
   ],
   "cell_type": "markdown",
   "metadata": {}
  },
  {
   "source": [
    "## Generate additional datapoints with 1 label to balance dataset"
   ],
   "cell_type": "markdown",
   "metadata": {}
  },
  {
   "cell_type": "code",
   "execution_count": 7,
   "metadata": {},
   "outputs": [],
   "source": [
    "# id = np.array(y_train)\n",
    "# idx = np.where(id == 25)[0]\n",
    "# # print(len(y_train))\n",
    "# print(idx)\n",
    "# # print(y_train)"
   ]
  },
  {
   "cell_type": "code",
   "execution_count": 8,
   "metadata": {
    "tags": []
   },
   "outputs": [],
   "source": [
    "N_p = int(N*0.9) # datapoints\n",
    "# N_p = 10\n",
    "new_data_p = np.zeros((N_p, prof_max*feat_len+1))\n",
    "\n",
    "for i in range(N_p):\n",
    "\n",
    "    # random number of profiles\n",
    "    n_prof = np.random.randint(2, prof_max)\n",
    "\n",
    "    # random profiles selection\n",
    "    p = np.random.randint(1, 31)\n",
    "    \n",
    "    # indexes of particular participants in data\n",
    "    p_idx = np.where(np.array(y_train) == p)[0]\n",
    "    t_len = len(p_idx)\n",
    "    \n",
    "    # print('No of profiles', n_prof)\n",
    "    label_list = [] # for assigning label\n",
    "    \n",
    "    for j in range(n_prof):\n",
    "        # select profile randomly\n",
    "        idx = np.random.randint(t_len)\n",
    "    \n",
    "        # assign values\n",
    "        new_data_p[i, 1+j*feat_len:1+(j+1)*feat_len] = X_train[p_idx[idx]]\n",
    "\n",
    "        label_list.append(y_train[p_idx[idx]])\n",
    "    \n",
    "    # fill values for remaining\n",
    "    # for j in range(prof_max - n_prof):\n",
    "    # print('labels', label_list)\n",
    "    # check if all values are identical in list\n",
    "    label = not label_list.count(label_list[0]) == len(label_list)\n",
    "    # Assign label\n",
    "    new_data_p[i, 0] = label\n"
   ]
  },
  {
   "cell_type": "code",
   "execution_count": 9,
   "metadata": {},
   "outputs": [
    {
     "output_type": "execute_result",
     "data": {
      "text/plain": [
       "       0      1     2     3      4      5       6      7      8      9    ...  \\\n",
       "0      0.0  13.47  4.62  1.04  41.33  13.33   72.53  93.92   6.12   5.50  ...   \n",
       "1      0.0  12.95  4.22  1.54  45.07  13.12   55.37  86.08  13.91  12.13  ...   \n",
       "2      0.0  14.02  4.56  1.67  39.13  12.22   62.40  87.22  12.92  11.75  ...   \n",
       "3      0.0  14.18  4.87  1.36  38.95  12.48   72.66  90.14   9.84   8.77  ...   \n",
       "4      0.0  12.62  4.72  0.66  46.28  15.34   77.47  89.48  10.57   8.96  ...   \n",
       "...    ...    ...   ...   ...    ...    ...     ...    ...    ...    ...  ...   \n",
       "17995  0.0  15.96  4.87  0.94  42.43  12.15  103.52  98.26   1.70   2.07  ...   \n",
       "17996  0.0  12.89  4.15  0.99  41.52  12.46   69.62  95.47   4.55   4.61  ...   \n",
       "17997  0.0  13.76  4.47  1.27  40.83  12.36   70.30  91.35   8.77   7.00  ...   \n",
       "17998  0.0  14.49  4.89  0.92  39.06  12.24   87.49  93.85   6.13   5.58  ...   \n",
       "17999  0.0  12.91  4.12  1.04  42.88  12.52   67.56  88.19  11.81   9.40  ...   \n",
       "\n",
       "       191  192  193  194  195  196  197  198  199  200  \n",
       "0      0.0  0.0  0.0  0.0  0.0  0.0  0.0  0.0  0.0  0.0  \n",
       "1      0.0  0.0  0.0  0.0  0.0  0.0  0.0  0.0  0.0  0.0  \n",
       "2      0.0  0.0  0.0  0.0  0.0  0.0  0.0  0.0  0.0  0.0  \n",
       "3      0.0  0.0  0.0  0.0  0.0  0.0  0.0  0.0  0.0  0.0  \n",
       "4      0.0  0.0  0.0  0.0  0.0  0.0  0.0  0.0  0.0  0.0  \n",
       "...    ...  ...  ...  ...  ...  ...  ...  ...  ...  ...  \n",
       "17995  0.0  0.0  0.0  0.0  0.0  0.0  0.0  0.0  0.0  0.0  \n",
       "17996  0.0  0.0  0.0  0.0  0.0  0.0  0.0  0.0  0.0  0.0  \n",
       "17997  0.0  0.0  0.0  0.0  0.0  0.0  0.0  0.0  0.0  0.0  \n",
       "17998  0.0  0.0  0.0  0.0  0.0  0.0  0.0  0.0  0.0  0.0  \n",
       "17999  0.0  0.0  0.0  0.0  0.0  0.0  0.0  0.0  0.0  0.0  \n",
       "\n",
       "[18000 rows x 201 columns]"
      ],
      "text/html": "<div>\n<style scoped>\n    .dataframe tbody tr th:only-of-type {\n        vertical-align: middle;\n    }\n\n    .dataframe tbody tr th {\n        vertical-align: top;\n    }\n\n    .dataframe thead th {\n        text-align: right;\n    }\n</style>\n<table border=\"1\" class=\"dataframe\">\n  <thead>\n    <tr style=\"text-align: right;\">\n      <th></th>\n      <th>0</th>\n      <th>1</th>\n      <th>2</th>\n      <th>3</th>\n      <th>4</th>\n      <th>5</th>\n      <th>6</th>\n      <th>7</th>\n      <th>8</th>\n      <th>9</th>\n      <th>...</th>\n      <th>191</th>\n      <th>192</th>\n      <th>193</th>\n      <th>194</th>\n      <th>195</th>\n      <th>196</th>\n      <th>197</th>\n      <th>198</th>\n      <th>199</th>\n      <th>200</th>\n    </tr>\n  </thead>\n  <tbody>\n    <tr>\n      <td>0</td>\n      <td>0.0</td>\n      <td>13.47</td>\n      <td>4.62</td>\n      <td>1.04</td>\n      <td>41.33</td>\n      <td>13.33</td>\n      <td>72.53</td>\n      <td>93.92</td>\n      <td>6.12</td>\n      <td>5.50</td>\n      <td>...</td>\n      <td>0.0</td>\n      <td>0.0</td>\n      <td>0.0</td>\n      <td>0.0</td>\n      <td>0.0</td>\n      <td>0.0</td>\n      <td>0.0</td>\n      <td>0.0</td>\n      <td>0.0</td>\n      <td>0.0</td>\n    </tr>\n    <tr>\n      <td>1</td>\n      <td>0.0</td>\n      <td>12.95</td>\n      <td>4.22</td>\n      <td>1.54</td>\n      <td>45.07</td>\n      <td>13.12</td>\n      <td>55.37</td>\n      <td>86.08</td>\n      <td>13.91</td>\n      <td>12.13</td>\n      <td>...</td>\n      <td>0.0</td>\n      <td>0.0</td>\n      <td>0.0</td>\n      <td>0.0</td>\n      <td>0.0</td>\n      <td>0.0</td>\n      <td>0.0</td>\n      <td>0.0</td>\n      <td>0.0</td>\n      <td>0.0</td>\n    </tr>\n    <tr>\n      <td>2</td>\n      <td>0.0</td>\n      <td>14.02</td>\n      <td>4.56</td>\n      <td>1.67</td>\n      <td>39.13</td>\n      <td>12.22</td>\n      <td>62.40</td>\n      <td>87.22</td>\n      <td>12.92</td>\n      <td>11.75</td>\n      <td>...</td>\n      <td>0.0</td>\n      <td>0.0</td>\n      <td>0.0</td>\n      <td>0.0</td>\n      <td>0.0</td>\n      <td>0.0</td>\n      <td>0.0</td>\n      <td>0.0</td>\n      <td>0.0</td>\n      <td>0.0</td>\n    </tr>\n    <tr>\n      <td>3</td>\n      <td>0.0</td>\n      <td>14.18</td>\n      <td>4.87</td>\n      <td>1.36</td>\n      <td>38.95</td>\n      <td>12.48</td>\n      <td>72.66</td>\n      <td>90.14</td>\n      <td>9.84</td>\n      <td>8.77</td>\n      <td>...</td>\n      <td>0.0</td>\n      <td>0.0</td>\n      <td>0.0</td>\n      <td>0.0</td>\n      <td>0.0</td>\n      <td>0.0</td>\n      <td>0.0</td>\n      <td>0.0</td>\n      <td>0.0</td>\n      <td>0.0</td>\n    </tr>\n    <tr>\n      <td>4</td>\n      <td>0.0</td>\n      <td>12.62</td>\n      <td>4.72</td>\n      <td>0.66</td>\n      <td>46.28</td>\n      <td>15.34</td>\n      <td>77.47</td>\n      <td>89.48</td>\n      <td>10.57</td>\n      <td>8.96</td>\n      <td>...</td>\n      <td>0.0</td>\n      <td>0.0</td>\n      <td>0.0</td>\n      <td>0.0</td>\n      <td>0.0</td>\n      <td>0.0</td>\n      <td>0.0</td>\n      <td>0.0</td>\n      <td>0.0</td>\n      <td>0.0</td>\n    </tr>\n    <tr>\n      <td>...</td>\n      <td>...</td>\n      <td>...</td>\n      <td>...</td>\n      <td>...</td>\n      <td>...</td>\n      <td>...</td>\n      <td>...</td>\n      <td>...</td>\n      <td>...</td>\n      <td>...</td>\n      <td>...</td>\n      <td>...</td>\n      <td>...</td>\n      <td>...</td>\n      <td>...</td>\n      <td>...</td>\n      <td>...</td>\n      <td>...</td>\n      <td>...</td>\n      <td>...</td>\n      <td>...</td>\n    </tr>\n    <tr>\n      <td>17995</td>\n      <td>0.0</td>\n      <td>15.96</td>\n      <td>4.87</td>\n      <td>0.94</td>\n      <td>42.43</td>\n      <td>12.15</td>\n      <td>103.52</td>\n      <td>98.26</td>\n      <td>1.70</td>\n      <td>2.07</td>\n      <td>...</td>\n      <td>0.0</td>\n      <td>0.0</td>\n      <td>0.0</td>\n      <td>0.0</td>\n      <td>0.0</td>\n      <td>0.0</td>\n      <td>0.0</td>\n      <td>0.0</td>\n      <td>0.0</td>\n      <td>0.0</td>\n    </tr>\n    <tr>\n      <td>17996</td>\n      <td>0.0</td>\n      <td>12.89</td>\n      <td>4.15</td>\n      <td>0.99</td>\n      <td>41.52</td>\n      <td>12.46</td>\n      <td>69.62</td>\n      <td>95.47</td>\n      <td>4.55</td>\n      <td>4.61</td>\n      <td>...</td>\n      <td>0.0</td>\n      <td>0.0</td>\n      <td>0.0</td>\n      <td>0.0</td>\n      <td>0.0</td>\n      <td>0.0</td>\n      <td>0.0</td>\n      <td>0.0</td>\n      <td>0.0</td>\n      <td>0.0</td>\n    </tr>\n    <tr>\n      <td>17997</td>\n      <td>0.0</td>\n      <td>13.76</td>\n      <td>4.47</td>\n      <td>1.27</td>\n      <td>40.83</td>\n      <td>12.36</td>\n      <td>70.30</td>\n      <td>91.35</td>\n      <td>8.77</td>\n      <td>7.00</td>\n      <td>...</td>\n      <td>0.0</td>\n      <td>0.0</td>\n      <td>0.0</td>\n      <td>0.0</td>\n      <td>0.0</td>\n      <td>0.0</td>\n      <td>0.0</td>\n      <td>0.0</td>\n      <td>0.0</td>\n      <td>0.0</td>\n    </tr>\n    <tr>\n      <td>17998</td>\n      <td>0.0</td>\n      <td>14.49</td>\n      <td>4.89</td>\n      <td>0.92</td>\n      <td>39.06</td>\n      <td>12.24</td>\n      <td>87.49</td>\n      <td>93.85</td>\n      <td>6.13</td>\n      <td>5.58</td>\n      <td>...</td>\n      <td>0.0</td>\n      <td>0.0</td>\n      <td>0.0</td>\n      <td>0.0</td>\n      <td>0.0</td>\n      <td>0.0</td>\n      <td>0.0</td>\n      <td>0.0</td>\n      <td>0.0</td>\n      <td>0.0</td>\n    </tr>\n    <tr>\n      <td>17999</td>\n      <td>0.0</td>\n      <td>12.91</td>\n      <td>4.12</td>\n      <td>1.04</td>\n      <td>42.88</td>\n      <td>12.52</td>\n      <td>67.56</td>\n      <td>88.19</td>\n      <td>11.81</td>\n      <td>9.40</td>\n      <td>...</td>\n      <td>0.0</td>\n      <td>0.0</td>\n      <td>0.0</td>\n      <td>0.0</td>\n      <td>0.0</td>\n      <td>0.0</td>\n      <td>0.0</td>\n      <td>0.0</td>\n      <td>0.0</td>\n      <td>0.0</td>\n    </tr>\n  </tbody>\n</table>\n<p>18000 rows × 201 columns</p>\n</div>"
     },
     "metadata": {},
     "execution_count": 9
    }
   ],
   "source": [
    "new_data_df_extra = pd.DataFrame(new_data_p)\n",
    "new_data_df_extra    "
   ]
  },
  {
   "cell_type": "code",
   "execution_count": 10,
   "metadata": {},
   "outputs": [
    {
     "output_type": "execute_result",
     "data": {
      "text/plain": [
       "         1\n",
       "0         \n",
       "0.0  18000"
      ],
      "text/html": "<div>\n<style scoped>\n    .dataframe tbody tr th:only-of-type {\n        vertical-align: middle;\n    }\n\n    .dataframe tbody tr th {\n        vertical-align: top;\n    }\n\n    .dataframe thead th {\n        text-align: right;\n    }\n</style>\n<table border=\"1\" class=\"dataframe\">\n  <thead>\n    <tr style=\"text-align: right;\">\n      <th></th>\n      <th>1</th>\n    </tr>\n    <tr>\n      <th>0</th>\n      <th></th>\n    </tr>\n  </thead>\n  <tbody>\n    <tr>\n      <td>0.0</td>\n      <td>18000</td>\n    </tr>\n  </tbody>\n</table>\n</div>"
     },
     "metadata": {},
     "execution_count": 10
    }
   ],
   "source": [
    "df_part_cnt = new_data_df_extra.groupby(0).count()\n",
    "df_part_cnt.iloc[:,:1]"
   ]
  },
  {
   "cell_type": "code",
   "execution_count": 11,
   "metadata": {},
   "outputs": [
    {
     "output_type": "execute_result",
     "data": {
      "text/plain": [
       "((20000, 201), (18000, 201))"
      ]
     },
     "metadata": {},
     "execution_count": 11
    }
   ],
   "source": [
    "new_data.shape, new_data_p.shape"
   ]
  },
  {
   "cell_type": "code",
   "execution_count": 12,
   "metadata": {},
   "outputs": [
    {
     "output_type": "execute_result",
     "data": {
      "text/plain": [
       "         1\n",
       "0         \n",
       "0.0  18049\n",
       "1.0  19951"
      ],
      "text/html": "<div>\n<style scoped>\n    .dataframe tbody tr th:only-of-type {\n        vertical-align: middle;\n    }\n\n    .dataframe tbody tr th {\n        vertical-align: top;\n    }\n\n    .dataframe thead th {\n        text-align: right;\n    }\n</style>\n<table border=\"1\" class=\"dataframe\">\n  <thead>\n    <tr style=\"text-align: right;\">\n      <th></th>\n      <th>1</th>\n    </tr>\n    <tr>\n      <th>0</th>\n      <th></th>\n    </tr>\n  </thead>\n  <tbody>\n    <tr>\n      <td>0.0</td>\n      <td>18049</td>\n    </tr>\n    <tr>\n      <td>1.0</td>\n      <td>19951</td>\n    </tr>\n  </tbody>\n</table>\n</div>"
     },
     "metadata": {},
     "execution_count": 12
    }
   ],
   "source": [
    "new_data_final = np.vstack((new_data, new_data_p)) # merge original and extra data\n",
    "new_data_df_final = pd.DataFrame(new_data_final) # create dataframe\n",
    "new_data_df_final.groupby(0).count().iloc[:,:1] # support for each label\n"
   ]
  },
  {
   "cell_type": "code",
   "execution_count": 13,
   "metadata": {},
   "outputs": [],
   "source": [
    "# Save as CSV\n",
    "new_data_df_final.to_csv('train_new.csv', index=None)"
   ]
  },
  {
   "cell_type": "code",
   "execution_count": 14,
   "metadata": {},
   "outputs": [
    {
     "output_type": "execute_result",
     "data": {
      "text/plain": [
       "         0      1     2     3      4      5       6      7      8      9  ...  \\\n",
       "0      1.0  14.16  4.50  1.81  40.94  12.18   60.41  86.59  13.67  11.84  ...   \n",
       "1      1.0  14.02  4.56  1.67  39.13  12.22   62.40  87.22  12.92  11.75  ...   \n",
       "2      1.0  16.57  5.18  1.09  43.17  12.46  102.86  92.30   7.56   7.46  ...   \n",
       "3      1.0  12.96  4.28  1.09  40.01  12.30   66.64  94.33   5.78   5.55  ...   \n",
       "4      1.0  12.91  4.12  1.04  42.88  12.52   67.56  88.19  11.81   9.40  ...   \n",
       "...    ...    ...   ...   ...    ...    ...     ...    ...    ...    ...  ...   \n",
       "37995  0.0  15.96  4.87  0.94  42.43  12.15  103.52  98.26   1.70   2.07  ...   \n",
       "37996  0.0  12.89  4.15  0.99  41.52  12.46   69.62  95.47   4.55   4.61  ...   \n",
       "37997  0.0  13.76  4.47  1.27  40.83  12.36   70.30  91.35   8.77   7.00  ...   \n",
       "37998  0.0  14.49  4.89  0.92  39.06  12.24   87.49  93.85   6.13   5.58  ...   \n",
       "37999  0.0  12.91  4.12  1.04  42.88  12.52   67.56  88.19  11.81   9.40  ...   \n",
       "\n",
       "       191  192  193  194  195  196  197  198  199  200  \n",
       "0      0.0  0.0  0.0  0.0  0.0  0.0  0.0  0.0  0.0  0.0  \n",
       "1      0.0  0.0  0.0  0.0  0.0  0.0  0.0  0.0  0.0  0.0  \n",
       "2      0.0  0.0  0.0  0.0  0.0  0.0  0.0  0.0  0.0  0.0  \n",
       "3      0.0  0.0  0.0  0.0  0.0  0.0  0.0  0.0  0.0  0.0  \n",
       "4      0.0  0.0  0.0  0.0  0.0  0.0  0.0  0.0  0.0  0.0  \n",
       "...    ...  ...  ...  ...  ...  ...  ...  ...  ...  ...  \n",
       "37995  0.0  0.0  0.0  0.0  0.0  0.0  0.0  0.0  0.0  0.0  \n",
       "37996  0.0  0.0  0.0  0.0  0.0  0.0  0.0  0.0  0.0  0.0  \n",
       "37997  0.0  0.0  0.0  0.0  0.0  0.0  0.0  0.0  0.0  0.0  \n",
       "37998  0.0  0.0  0.0  0.0  0.0  0.0  0.0  0.0  0.0  0.0  \n",
       "37999  0.0  0.0  0.0  0.0  0.0  0.0  0.0  0.0  0.0  0.0  \n",
       "\n",
       "[38000 rows x 201 columns]"
      ],
      "text/html": "<div>\n<style scoped>\n    .dataframe tbody tr th:only-of-type {\n        vertical-align: middle;\n    }\n\n    .dataframe tbody tr th {\n        vertical-align: top;\n    }\n\n    .dataframe thead th {\n        text-align: right;\n    }\n</style>\n<table border=\"1\" class=\"dataframe\">\n  <thead>\n    <tr style=\"text-align: right;\">\n      <th></th>\n      <th>0</th>\n      <th>1</th>\n      <th>2</th>\n      <th>3</th>\n      <th>4</th>\n      <th>5</th>\n      <th>6</th>\n      <th>7</th>\n      <th>8</th>\n      <th>9</th>\n      <th>...</th>\n      <th>191</th>\n      <th>192</th>\n      <th>193</th>\n      <th>194</th>\n      <th>195</th>\n      <th>196</th>\n      <th>197</th>\n      <th>198</th>\n      <th>199</th>\n      <th>200</th>\n    </tr>\n  </thead>\n  <tbody>\n    <tr>\n      <td>0</td>\n      <td>1.0</td>\n      <td>14.16</td>\n      <td>4.50</td>\n      <td>1.81</td>\n      <td>40.94</td>\n      <td>12.18</td>\n      <td>60.41</td>\n      <td>86.59</td>\n      <td>13.67</td>\n      <td>11.84</td>\n      <td>...</td>\n      <td>0.0</td>\n      <td>0.0</td>\n      <td>0.0</td>\n      <td>0.0</td>\n      <td>0.0</td>\n      <td>0.0</td>\n      <td>0.0</td>\n      <td>0.0</td>\n      <td>0.0</td>\n      <td>0.0</td>\n    </tr>\n    <tr>\n      <td>1</td>\n      <td>1.0</td>\n      <td>14.02</td>\n      <td>4.56</td>\n      <td>1.67</td>\n      <td>39.13</td>\n      <td>12.22</td>\n      <td>62.40</td>\n      <td>87.22</td>\n      <td>12.92</td>\n      <td>11.75</td>\n      <td>...</td>\n      <td>0.0</td>\n      <td>0.0</td>\n      <td>0.0</td>\n      <td>0.0</td>\n      <td>0.0</td>\n      <td>0.0</td>\n      <td>0.0</td>\n      <td>0.0</td>\n      <td>0.0</td>\n      <td>0.0</td>\n    </tr>\n    <tr>\n      <td>2</td>\n      <td>1.0</td>\n      <td>16.57</td>\n      <td>5.18</td>\n      <td>1.09</td>\n      <td>43.17</td>\n      <td>12.46</td>\n      <td>102.86</td>\n      <td>92.30</td>\n      <td>7.56</td>\n      <td>7.46</td>\n      <td>...</td>\n      <td>0.0</td>\n      <td>0.0</td>\n      <td>0.0</td>\n      <td>0.0</td>\n      <td>0.0</td>\n      <td>0.0</td>\n      <td>0.0</td>\n      <td>0.0</td>\n      <td>0.0</td>\n      <td>0.0</td>\n    </tr>\n    <tr>\n      <td>3</td>\n      <td>1.0</td>\n      <td>12.96</td>\n      <td>4.28</td>\n      <td>1.09</td>\n      <td>40.01</td>\n      <td>12.30</td>\n      <td>66.64</td>\n      <td>94.33</td>\n      <td>5.78</td>\n      <td>5.55</td>\n      <td>...</td>\n      <td>0.0</td>\n      <td>0.0</td>\n      <td>0.0</td>\n      <td>0.0</td>\n      <td>0.0</td>\n      <td>0.0</td>\n      <td>0.0</td>\n      <td>0.0</td>\n      <td>0.0</td>\n      <td>0.0</td>\n    </tr>\n    <tr>\n      <td>4</td>\n      <td>1.0</td>\n      <td>12.91</td>\n      <td>4.12</td>\n      <td>1.04</td>\n      <td>42.88</td>\n      <td>12.52</td>\n      <td>67.56</td>\n      <td>88.19</td>\n      <td>11.81</td>\n      <td>9.40</td>\n      <td>...</td>\n      <td>0.0</td>\n      <td>0.0</td>\n      <td>0.0</td>\n      <td>0.0</td>\n      <td>0.0</td>\n      <td>0.0</td>\n      <td>0.0</td>\n      <td>0.0</td>\n      <td>0.0</td>\n      <td>0.0</td>\n    </tr>\n    <tr>\n      <td>...</td>\n      <td>...</td>\n      <td>...</td>\n      <td>...</td>\n      <td>...</td>\n      <td>...</td>\n      <td>...</td>\n      <td>...</td>\n      <td>...</td>\n      <td>...</td>\n      <td>...</td>\n      <td>...</td>\n      <td>...</td>\n      <td>...</td>\n      <td>...</td>\n      <td>...</td>\n      <td>...</td>\n      <td>...</td>\n      <td>...</td>\n      <td>...</td>\n      <td>...</td>\n      <td>...</td>\n    </tr>\n    <tr>\n      <td>37995</td>\n      <td>0.0</td>\n      <td>15.96</td>\n      <td>4.87</td>\n      <td>0.94</td>\n      <td>42.43</td>\n      <td>12.15</td>\n      <td>103.52</td>\n      <td>98.26</td>\n      <td>1.70</td>\n      <td>2.07</td>\n      <td>...</td>\n      <td>0.0</td>\n      <td>0.0</td>\n      <td>0.0</td>\n      <td>0.0</td>\n      <td>0.0</td>\n      <td>0.0</td>\n      <td>0.0</td>\n      <td>0.0</td>\n      <td>0.0</td>\n      <td>0.0</td>\n    </tr>\n    <tr>\n      <td>37996</td>\n      <td>0.0</td>\n      <td>12.89</td>\n      <td>4.15</td>\n      <td>0.99</td>\n      <td>41.52</td>\n      <td>12.46</td>\n      <td>69.62</td>\n      <td>95.47</td>\n      <td>4.55</td>\n      <td>4.61</td>\n      <td>...</td>\n      <td>0.0</td>\n      <td>0.0</td>\n      <td>0.0</td>\n      <td>0.0</td>\n      <td>0.0</td>\n      <td>0.0</td>\n      <td>0.0</td>\n      <td>0.0</td>\n      <td>0.0</td>\n      <td>0.0</td>\n    </tr>\n    <tr>\n      <td>37997</td>\n      <td>0.0</td>\n      <td>13.76</td>\n      <td>4.47</td>\n      <td>1.27</td>\n      <td>40.83</td>\n      <td>12.36</td>\n      <td>70.30</td>\n      <td>91.35</td>\n      <td>8.77</td>\n      <td>7.00</td>\n      <td>...</td>\n      <td>0.0</td>\n      <td>0.0</td>\n      <td>0.0</td>\n      <td>0.0</td>\n      <td>0.0</td>\n      <td>0.0</td>\n      <td>0.0</td>\n      <td>0.0</td>\n      <td>0.0</td>\n      <td>0.0</td>\n    </tr>\n    <tr>\n      <td>37998</td>\n      <td>0.0</td>\n      <td>14.49</td>\n      <td>4.89</td>\n      <td>0.92</td>\n      <td>39.06</td>\n      <td>12.24</td>\n      <td>87.49</td>\n      <td>93.85</td>\n      <td>6.13</td>\n      <td>5.58</td>\n      <td>...</td>\n      <td>0.0</td>\n      <td>0.0</td>\n      <td>0.0</td>\n      <td>0.0</td>\n      <td>0.0</td>\n      <td>0.0</td>\n      <td>0.0</td>\n      <td>0.0</td>\n      <td>0.0</td>\n      <td>0.0</td>\n    </tr>\n    <tr>\n      <td>37999</td>\n      <td>0.0</td>\n      <td>12.91</td>\n      <td>4.12</td>\n      <td>1.04</td>\n      <td>42.88</td>\n      <td>12.52</td>\n      <td>67.56</td>\n      <td>88.19</td>\n      <td>11.81</td>\n      <td>9.40</td>\n      <td>...</td>\n      <td>0.0</td>\n      <td>0.0</td>\n      <td>0.0</td>\n      <td>0.0</td>\n      <td>0.0</td>\n      <td>0.0</td>\n      <td>0.0</td>\n      <td>0.0</td>\n      <td>0.0</td>\n      <td>0.0</td>\n    </tr>\n  </tbody>\n</table>\n<p>38000 rows × 201 columns</p>\n</div>"
     },
     "metadata": {},
     "execution_count": 14
    }
   ],
   "source": [
    "# check again\n",
    "df_train = pd.read_csv('train_new.csv')\n",
    "df_train"
   ]
  },
  {
   "source": [
    "# Create datapoints from testset"
   ],
   "cell_type": "markdown",
   "metadata": {}
  },
  {
   "cell_type": "code",
   "execution_count": 15,
   "metadata": {},
   "outputs": [],
   "source": [
    "N_t = int(N * 0.2) # datapoints\n",
    "# prof_max = 5 # maximum no of profiles together in one datapoint\n",
    "test_len = len(X_test) # total number of individual profiles of patients\n",
    "feat_len = len(X_train[0]) # number of original features\n",
    "\n",
    "new_data_t = np.zeros((N_t, prof_max*feat_len+1))\n",
    "\n",
    "for i in range(N_t):\n",
    "    # random number of profiles\n",
    "    n_prof = np.random.randint(2, prof_max)\n",
    "    # print('No of profiles', n_prof)\n",
    "    label_list = [] # for assigning label\n",
    "    for j in range(n_prof):\n",
    "        # select profile randomly\n",
    "        idx = np.random.randint(test_len)\n",
    "        # assign values\n",
    "        new_data_t[i, 1+j*feat_len:1+(j+1)*feat_len] = X_test[idx]\n",
    "\n",
    "        label_list.append(y_test[idx])\n",
    "    \n",
    "    # fill values for remaining\n",
    "    # for j in range(prof_max - n_prof):\n",
    "    # print('labels', label_list)\n",
    "    # check if all values are identical in list\n",
    "    label = not label_list.count(label_list[0]) == len(label_list)\n",
    "    # Assign label\n",
    "    new_data_t[i, 0] = label\n",
    "\n",
    "# concatenate to original    "
   ]
  },
  {
   "cell_type": "code",
   "execution_count": 16,
   "metadata": {},
   "outputs": [
    {
     "output_type": "execute_result",
     "data": {
      "text/plain": [
       "      0      1     2     3      4      5       6      7      8      9    ...  \\\n",
       "0     1.0  15.12  5.03  1.46  44.70  13.34   79.11  85.84  14.16  12.45  ...   \n",
       "1     1.0  15.12  5.03  1.46  44.70  13.34   79.11  85.84  14.16  12.45  ...   \n",
       "2     1.0  13.64  4.48  1.26  42.42  12.95   69.11  89.49  10.62   9.48  ...   \n",
       "3     1.0  12.95  4.28  1.60  45.67  13.53   53.43  88.44  11.56  10.61  ...   \n",
       "4     1.0  15.75  5.02  0.98  39.77  12.24   98.91  93.10   6.80   5.42  ...   \n",
       "...   ...    ...   ...   ...    ...    ...     ...    ...    ...    ...  ...   \n",
       "3995  1.0  13.55  4.40  2.03  47.83  13.97   49.70  86.44  13.50  11.58  ...   \n",
       "3996  1.0  15.33  5.01  0.62  39.81  12.19  106.14  95.22   4.73   4.68  ...   \n",
       "3997  1.0  14.08  4.84  0.90  41.62  13.22   84.14  93.25   6.83   6.21  ...   \n",
       "3998  1.0  15.09  4.91  0.90  41.22  12.53   93.75  95.02   5.00   4.39  ...   \n",
       "3999  1.0  14.55  5.05  1.04  43.83  13.38   83.45  88.54  11.50  10.50  ...   \n",
       "\n",
       "      191  192  193  194  195  196  197  198  199  200  \n",
       "0     0.0  0.0  0.0  0.0  0.0  0.0  0.0  0.0  0.0  0.0  \n",
       "1     0.0  0.0  0.0  0.0  0.0  0.0  0.0  0.0  0.0  0.0  \n",
       "2     0.0  0.0  0.0  0.0  0.0  0.0  0.0  0.0  0.0  0.0  \n",
       "3     0.0  0.0  0.0  0.0  0.0  0.0  0.0  0.0  0.0  0.0  \n",
       "4     0.0  0.0  0.0  0.0  0.0  0.0  0.0  0.0  0.0  0.0  \n",
       "...   ...  ...  ...  ...  ...  ...  ...  ...  ...  ...  \n",
       "3995  0.0  0.0  0.0  0.0  0.0  0.0  0.0  0.0  0.0  0.0  \n",
       "3996  0.0  0.0  0.0  0.0  0.0  0.0  0.0  0.0  0.0  0.0  \n",
       "3997  0.0  0.0  0.0  0.0  0.0  0.0  0.0  0.0  0.0  0.0  \n",
       "3998  0.0  0.0  0.0  0.0  0.0  0.0  0.0  0.0  0.0  0.0  \n",
       "3999  0.0  0.0  0.0  0.0  0.0  0.0  0.0  0.0  0.0  0.0  \n",
       "\n",
       "[4000 rows x 201 columns]"
      ],
      "text/html": "<div>\n<style scoped>\n    .dataframe tbody tr th:only-of-type {\n        vertical-align: middle;\n    }\n\n    .dataframe tbody tr th {\n        vertical-align: top;\n    }\n\n    .dataframe thead th {\n        text-align: right;\n    }\n</style>\n<table border=\"1\" class=\"dataframe\">\n  <thead>\n    <tr style=\"text-align: right;\">\n      <th></th>\n      <th>0</th>\n      <th>1</th>\n      <th>2</th>\n      <th>3</th>\n      <th>4</th>\n      <th>5</th>\n      <th>6</th>\n      <th>7</th>\n      <th>8</th>\n      <th>9</th>\n      <th>...</th>\n      <th>191</th>\n      <th>192</th>\n      <th>193</th>\n      <th>194</th>\n      <th>195</th>\n      <th>196</th>\n      <th>197</th>\n      <th>198</th>\n      <th>199</th>\n      <th>200</th>\n    </tr>\n  </thead>\n  <tbody>\n    <tr>\n      <td>0</td>\n      <td>1.0</td>\n      <td>15.12</td>\n      <td>5.03</td>\n      <td>1.46</td>\n      <td>44.70</td>\n      <td>13.34</td>\n      <td>79.11</td>\n      <td>85.84</td>\n      <td>14.16</td>\n      <td>12.45</td>\n      <td>...</td>\n      <td>0.0</td>\n      <td>0.0</td>\n      <td>0.0</td>\n      <td>0.0</td>\n      <td>0.0</td>\n      <td>0.0</td>\n      <td>0.0</td>\n      <td>0.0</td>\n      <td>0.0</td>\n      <td>0.0</td>\n    </tr>\n    <tr>\n      <td>1</td>\n      <td>1.0</td>\n      <td>15.12</td>\n      <td>5.03</td>\n      <td>1.46</td>\n      <td>44.70</td>\n      <td>13.34</td>\n      <td>79.11</td>\n      <td>85.84</td>\n      <td>14.16</td>\n      <td>12.45</td>\n      <td>...</td>\n      <td>0.0</td>\n      <td>0.0</td>\n      <td>0.0</td>\n      <td>0.0</td>\n      <td>0.0</td>\n      <td>0.0</td>\n      <td>0.0</td>\n      <td>0.0</td>\n      <td>0.0</td>\n      <td>0.0</td>\n    </tr>\n    <tr>\n      <td>2</td>\n      <td>1.0</td>\n      <td>13.64</td>\n      <td>4.48</td>\n      <td>1.26</td>\n      <td>42.42</td>\n      <td>12.95</td>\n      <td>69.11</td>\n      <td>89.49</td>\n      <td>10.62</td>\n      <td>9.48</td>\n      <td>...</td>\n      <td>0.0</td>\n      <td>0.0</td>\n      <td>0.0</td>\n      <td>0.0</td>\n      <td>0.0</td>\n      <td>0.0</td>\n      <td>0.0</td>\n      <td>0.0</td>\n      <td>0.0</td>\n      <td>0.0</td>\n    </tr>\n    <tr>\n      <td>3</td>\n      <td>1.0</td>\n      <td>12.95</td>\n      <td>4.28</td>\n      <td>1.60</td>\n      <td>45.67</td>\n      <td>13.53</td>\n      <td>53.43</td>\n      <td>88.44</td>\n      <td>11.56</td>\n      <td>10.61</td>\n      <td>...</td>\n      <td>0.0</td>\n      <td>0.0</td>\n      <td>0.0</td>\n      <td>0.0</td>\n      <td>0.0</td>\n      <td>0.0</td>\n      <td>0.0</td>\n      <td>0.0</td>\n      <td>0.0</td>\n      <td>0.0</td>\n    </tr>\n    <tr>\n      <td>4</td>\n      <td>1.0</td>\n      <td>15.75</td>\n      <td>5.02</td>\n      <td>0.98</td>\n      <td>39.77</td>\n      <td>12.24</td>\n      <td>98.91</td>\n      <td>93.10</td>\n      <td>6.80</td>\n      <td>5.42</td>\n      <td>...</td>\n      <td>0.0</td>\n      <td>0.0</td>\n      <td>0.0</td>\n      <td>0.0</td>\n      <td>0.0</td>\n      <td>0.0</td>\n      <td>0.0</td>\n      <td>0.0</td>\n      <td>0.0</td>\n      <td>0.0</td>\n    </tr>\n    <tr>\n      <td>...</td>\n      <td>...</td>\n      <td>...</td>\n      <td>...</td>\n      <td>...</td>\n      <td>...</td>\n      <td>...</td>\n      <td>...</td>\n      <td>...</td>\n      <td>...</td>\n      <td>...</td>\n      <td>...</td>\n      <td>...</td>\n      <td>...</td>\n      <td>...</td>\n      <td>...</td>\n      <td>...</td>\n      <td>...</td>\n      <td>...</td>\n      <td>...</td>\n      <td>...</td>\n      <td>...</td>\n    </tr>\n    <tr>\n      <td>3995</td>\n      <td>1.0</td>\n      <td>13.55</td>\n      <td>4.40</td>\n      <td>2.03</td>\n      <td>47.83</td>\n      <td>13.97</td>\n      <td>49.70</td>\n      <td>86.44</td>\n      <td>13.50</td>\n      <td>11.58</td>\n      <td>...</td>\n      <td>0.0</td>\n      <td>0.0</td>\n      <td>0.0</td>\n      <td>0.0</td>\n      <td>0.0</td>\n      <td>0.0</td>\n      <td>0.0</td>\n      <td>0.0</td>\n      <td>0.0</td>\n      <td>0.0</td>\n    </tr>\n    <tr>\n      <td>3996</td>\n      <td>1.0</td>\n      <td>15.33</td>\n      <td>5.01</td>\n      <td>0.62</td>\n      <td>39.81</td>\n      <td>12.19</td>\n      <td>106.14</td>\n      <td>95.22</td>\n      <td>4.73</td>\n      <td>4.68</td>\n      <td>...</td>\n      <td>0.0</td>\n      <td>0.0</td>\n      <td>0.0</td>\n      <td>0.0</td>\n      <td>0.0</td>\n      <td>0.0</td>\n      <td>0.0</td>\n      <td>0.0</td>\n      <td>0.0</td>\n      <td>0.0</td>\n    </tr>\n    <tr>\n      <td>3997</td>\n      <td>1.0</td>\n      <td>14.08</td>\n      <td>4.84</td>\n      <td>0.90</td>\n      <td>41.62</td>\n      <td>13.22</td>\n      <td>84.14</td>\n      <td>93.25</td>\n      <td>6.83</td>\n      <td>6.21</td>\n      <td>...</td>\n      <td>0.0</td>\n      <td>0.0</td>\n      <td>0.0</td>\n      <td>0.0</td>\n      <td>0.0</td>\n      <td>0.0</td>\n      <td>0.0</td>\n      <td>0.0</td>\n      <td>0.0</td>\n      <td>0.0</td>\n    </tr>\n    <tr>\n      <td>3998</td>\n      <td>1.0</td>\n      <td>15.09</td>\n      <td>4.91</td>\n      <td>0.90</td>\n      <td>41.22</td>\n      <td>12.53</td>\n      <td>93.75</td>\n      <td>95.02</td>\n      <td>5.00</td>\n      <td>4.39</td>\n      <td>...</td>\n      <td>0.0</td>\n      <td>0.0</td>\n      <td>0.0</td>\n      <td>0.0</td>\n      <td>0.0</td>\n      <td>0.0</td>\n      <td>0.0</td>\n      <td>0.0</td>\n      <td>0.0</td>\n      <td>0.0</td>\n    </tr>\n    <tr>\n      <td>3999</td>\n      <td>1.0</td>\n      <td>14.55</td>\n      <td>5.05</td>\n      <td>1.04</td>\n      <td>43.83</td>\n      <td>13.38</td>\n      <td>83.45</td>\n      <td>88.54</td>\n      <td>11.50</td>\n      <td>10.50</td>\n      <td>...</td>\n      <td>0.0</td>\n      <td>0.0</td>\n      <td>0.0</td>\n      <td>0.0</td>\n      <td>0.0</td>\n      <td>0.0</td>\n      <td>0.0</td>\n      <td>0.0</td>\n      <td>0.0</td>\n      <td>0.0</td>\n    </tr>\n  </tbody>\n</table>\n<p>4000 rows × 201 columns</p>\n</div>"
     },
     "metadata": {},
     "execution_count": 16
    }
   ],
   "source": [
    "new_data_df_t = pd.DataFrame(new_data_t)\n",
    "new_data_df_t    "
   ]
  },
  {
   "cell_type": "code",
   "execution_count": 17,
   "metadata": {},
   "outputs": [
    {
     "output_type": "execute_result",
     "data": {
      "text/plain": [
       "        1\n",
       "0        \n",
       "0.0     7\n",
       "1.0  3993"
      ],
      "text/html": "<div>\n<style scoped>\n    .dataframe tbody tr th:only-of-type {\n        vertical-align: middle;\n    }\n\n    .dataframe tbody tr th {\n        vertical-align: top;\n    }\n\n    .dataframe thead th {\n        text-align: right;\n    }\n</style>\n<table border=\"1\" class=\"dataframe\">\n  <thead>\n    <tr style=\"text-align: right;\">\n      <th></th>\n      <th>1</th>\n    </tr>\n    <tr>\n      <th>0</th>\n      <th></th>\n    </tr>\n  </thead>\n  <tbody>\n    <tr>\n      <td>0.0</td>\n      <td>7</td>\n    </tr>\n    <tr>\n      <td>1.0</td>\n      <td>3993</td>\n    </tr>\n  </tbody>\n</table>\n</div>"
     },
     "metadata": {},
     "execution_count": 17
    }
   ],
   "source": [
    "df_part_cnt = new_data_df_t.groupby(0).count()\n",
    "df_part_cnt.iloc[:,:1]"
   ]
  },
  {
   "source": [
    "### Additional test points to make data balance"
   ],
   "cell_type": "markdown",
   "metadata": {}
  },
  {
   "cell_type": "code",
   "execution_count": 18,
   "metadata": {},
   "outputs": [],
   "source": [
    "N_p = int(N_t*0.9) # datapoints\n",
    "# N_p = 10\n",
    "new_data_p = np.zeros((N_p, prof_max*feat_len+1))\n",
    "\n",
    "for i in range(N_p):\n",
    "\n",
    "    # random number of profiles\n",
    "    n_prof = np.random.randint(2, prof_max)\n",
    "\n",
    "    # random profiles selection\n",
    "    p = np.random.randint(1, 31)\n",
    "    \n",
    "    # indexes of particular participants in data\n",
    "    p_idx = np.where(np.array(y_test) == p)[0]\n",
    "    t_len = len(p_idx)\n",
    "    \n",
    "    # print('No of profiles', n_prof)\n",
    "    label_list = [] # for assigning label\n",
    "    \n",
    "    for j in range(n_prof):\n",
    "        # select profile randomly\n",
    "        idx = np.random.randint(t_len)\n",
    "    \n",
    "        # assign values\n",
    "        new_data_p[i, 1+j*feat_len:1+(j+1)*feat_len] = X_test[p_idx[idx]]\n",
    "\n",
    "        label_list.append(y_test[p_idx[idx]])\n",
    "    \n",
    "    # fill values for remaining\n",
    "    # for j in range(prof_max - n_prof):\n",
    "    # print('labels', label_list)\n",
    "    # check if all values are identical in list\n",
    "    label = not label_list.count(label_list[0]) == len(label_list)\n",
    "    # Assign label\n",
    "    new_data_p[i, 0] = label\n"
   ]
  },
  {
   "cell_type": "code",
   "execution_count": 19,
   "metadata": {},
   "outputs": [
    {
     "output_type": "execute_result",
     "data": {
      "text/plain": [
       "((3600, 201), array([[ 0.  , 12.83,  4.26, ...,  0.  ,  0.  ,  0.  ],\n",
       "        [ 0.  , 14.18,  4.76, ...,  0.  ,  0.  ,  0.  ],\n",
       "        [ 0.  , 13.91,  4.55, ...,  0.  ,  0.  ,  0.  ],\n",
       "        ...,\n",
       "        [ 0.  , 13.64,  4.48, ...,  0.  ,  0.  ,  0.  ],\n",
       "        [ 0.  , 15.02,  5.  , ...,  0.  ,  0.  ,  0.  ],\n",
       "        [ 0.  , 13.89,  4.59, ...,  0.  ,  0.  ,  0.  ]]))"
      ]
     },
     "metadata": {},
     "execution_count": 19
    }
   ],
   "source": [
    "new_data_p.shape, new_data_p"
   ]
  },
  {
   "cell_type": "code",
   "execution_count": 20,
   "metadata": {},
   "outputs": [
    {
     "output_type": "execute_result",
     "data": {
      "text/plain": [
       "        1\n",
       "0        \n",
       "0.0  3607\n",
       "1.0  3993"
      ],
      "text/html": "<div>\n<style scoped>\n    .dataframe tbody tr th:only-of-type {\n        vertical-align: middle;\n    }\n\n    .dataframe tbody tr th {\n        vertical-align: top;\n    }\n\n    .dataframe thead th {\n        text-align: right;\n    }\n</style>\n<table border=\"1\" class=\"dataframe\">\n  <thead>\n    <tr style=\"text-align: right;\">\n      <th></th>\n      <th>1</th>\n    </tr>\n    <tr>\n      <th>0</th>\n      <th></th>\n    </tr>\n  </thead>\n  <tbody>\n    <tr>\n      <td>0.0</td>\n      <td>3607</td>\n    </tr>\n    <tr>\n      <td>1.0</td>\n      <td>3993</td>\n    </tr>\n  </tbody>\n</table>\n</div>"
     },
     "metadata": {},
     "execution_count": 20
    }
   ],
   "source": [
    "new_data_t_final = np.vstack((new_data_t, new_data_p)) # merge original and extra data\n",
    "new_data_df_t_final = pd.DataFrame(new_data_t_final) # create dataframe\n",
    "new_data_df_t_final.groupby(0).count().iloc[:,:1] # support for each label"
   ]
  },
  {
   "cell_type": "code",
   "execution_count": 21,
   "metadata": {},
   "outputs": [],
   "source": [
    "# Save as CSV\n",
    "new_data_df_t_final.to_csv('test_new.csv', index=None)"
   ]
  }
 ]
}