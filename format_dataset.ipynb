{
 "metadata": {
  "language_info": {
   "codemirror_mode": {
    "name": "ipython",
    "version": 3
   },
   "file_extension": ".py",
   "mimetype": "text/x-python",
   "name": "python",
   "nbconvert_exporter": "python",
   "pygments_lexer": "ipython3",
   "version": "3.6.8"
  },
  "orig_nbformat": 2,
  "kernelspec": {
   "name": "python368jvsc74a57bd039c32cf5604986400b1cbafd7518d951df7ae3ce292cc81e38a02c43f6c4706e",
   "display_name": "Python 3.6.8 64-bit ('pytorch': virtualenvwrapper)"
  }
 },
 "nbformat": 4,
 "nbformat_minor": 2,
 "cells": [
  {
   "cell_type": "code",
   "execution_count": 1,
   "metadata": {},
   "outputs": [],
   "source": [
    "import pandas as pd\n",
    "import numpy as np"
   ]
  },
  {
   "source": [
    "### Read data"
   ],
   "cell_type": "markdown",
   "metadata": {}
  },
  {
   "cell_type": "code",
   "execution_count": 2,
   "metadata": {},
   "outputs": [
    {
     "output_type": "execute_result",
     "data": {
      "text/plain": [
       "   ParticipantID     HB   RBC  RET%  RDW-SD  RDW-CV  OFF-HR    LFR    IRF  \\\n",
       "0              1  14.21  5.07  0.89   41.30   13.46   86.21  91.94   8.03   \n",
       "1              1  13.96  4.56  0.96   42.46   12.74   81.24  93.08   7.00   \n",
       "2              1  14.72  5.13  0.85   41.64   13.16   92.67  89.95  10.04   \n",
       "3              1  13.89  4.79  0.92   44.04   13.86   81.53  86.74  13.27   \n",
       "4              1  15.42  4.77  1.07   43.28   12.47   92.19  94.42   5.58   \n",
       "\n",
       "     MFR   HFR  \n",
       "0   7.16  0.81  \n",
       "1   6.39  0.51  \n",
       "2   9.40  0.71  \n",
       "3  11.79  1.33  \n",
       "4   4.71  0.75  "
      ],
      "text/html": "<div>\n<style scoped>\n    .dataframe tbody tr th:only-of-type {\n        vertical-align: middle;\n    }\n\n    .dataframe tbody tr th {\n        vertical-align: top;\n    }\n\n    .dataframe thead th {\n        text-align: right;\n    }\n</style>\n<table border=\"1\" class=\"dataframe\">\n  <thead>\n    <tr style=\"text-align: right;\">\n      <th></th>\n      <th>ParticipantID</th>\n      <th>HB</th>\n      <th>RBC</th>\n      <th>RET%</th>\n      <th>RDW-SD</th>\n      <th>RDW-CV</th>\n      <th>OFF-HR</th>\n      <th>LFR</th>\n      <th>IRF</th>\n      <th>MFR</th>\n      <th>HFR</th>\n    </tr>\n  </thead>\n  <tbody>\n    <tr>\n      <td>0</td>\n      <td>1</td>\n      <td>14.21</td>\n      <td>5.07</td>\n      <td>0.89</td>\n      <td>41.30</td>\n      <td>13.46</td>\n      <td>86.21</td>\n      <td>91.94</td>\n      <td>8.03</td>\n      <td>7.16</td>\n      <td>0.81</td>\n    </tr>\n    <tr>\n      <td>1</td>\n      <td>1</td>\n      <td>13.96</td>\n      <td>4.56</td>\n      <td>0.96</td>\n      <td>42.46</td>\n      <td>12.74</td>\n      <td>81.24</td>\n      <td>93.08</td>\n      <td>7.00</td>\n      <td>6.39</td>\n      <td>0.51</td>\n    </tr>\n    <tr>\n      <td>2</td>\n      <td>1</td>\n      <td>14.72</td>\n      <td>5.13</td>\n      <td>0.85</td>\n      <td>41.64</td>\n      <td>13.16</td>\n      <td>92.67</td>\n      <td>89.95</td>\n      <td>10.04</td>\n      <td>9.40</td>\n      <td>0.71</td>\n    </tr>\n    <tr>\n      <td>3</td>\n      <td>1</td>\n      <td>13.89</td>\n      <td>4.79</td>\n      <td>0.92</td>\n      <td>44.04</td>\n      <td>13.86</td>\n      <td>81.53</td>\n      <td>86.74</td>\n      <td>13.27</td>\n      <td>11.79</td>\n      <td>1.33</td>\n    </tr>\n    <tr>\n      <td>4</td>\n      <td>1</td>\n      <td>15.42</td>\n      <td>4.77</td>\n      <td>1.07</td>\n      <td>43.28</td>\n      <td>12.47</td>\n      <td>92.19</td>\n      <td>94.42</td>\n      <td>5.58</td>\n      <td>4.71</td>\n      <td>0.75</td>\n    </tr>\n  </tbody>\n</table>\n</div>"
     },
     "metadata": {},
     "execution_count": 2
    }
   ],
   "source": [
    "dataset = pd.read_csv('dataset.csv')\n",
    "X = dataset.iloc[:, 1:].values\n",
    "y = dataset.iloc[:, 0].values\n",
    "dataset.head()"
   ]
  },
  {
   "source": [
    "### Split"
   ],
   "cell_type": "markdown",
   "metadata": {}
  },
  {
   "cell_type": "code",
   "execution_count": 3,
   "metadata": {},
   "outputs": [],
   "source": [
    "# keep profiles separate between train and test\n",
    "from sklearn.model_selection import train_test_split\n",
    "X_train, X_test, y_train, y_test = train_test_split(X, y, test_size = 0.2, random_state = 0)"
   ]
  },
  {
   "source": [
    "### Create datapoints from train split"
   ],
   "cell_type": "markdown",
   "metadata": {}
  },
  {
   "cell_type": "code",
   "execution_count": 23,
   "metadata": {},
   "outputs": [],
   "source": [
    "N = 1000 # datapoints\n",
    "prof_max = 5 # maximum no of profiles together in one datapoint\n",
    "train_len = len(X_train) # total number of individual profiles of patients\n",
    "feat_len = len(X_train[0]) # number of original features\n",
    "\n",
    "new_data = np.zeros((N, prof_max*feat_len+1))\n",
    "\n",
    "for i in range(N):\n",
    "    # random number of profiles\n",
    "    n_prof = np.random.randint(2, prof_max)\n",
    "    # print('No of profiles', n_prof)\n",
    "    label_list = [] # for assigning label\n",
    "    for j in range(n_prof):\n",
    "        # select profile randomly\n",
    "        idx = np.random.randint(train_len)\n",
    "        # assign values\n",
    "        new_data[i, 1+j*feat_len:1+(j+1)*feat_len] = X_train[idx]\n",
    "\n",
    "        label_list.append(y_train[idx])\n",
    "    \n",
    "    # fill values for remaining\n",
    "    # for j in range(prof_max - n_prof):\n",
    "    # print('labels', label_list)\n",
    "    # check if all values are identical in list\n",
    "    label = label_list.count(label_list[0]) == len(label_list)\n",
    "    # Assign label\n",
    "    new_data[i, 0] = label\n",
    "\n",
    "# concatenate to original    "
   ]
  },
  {
   "cell_type": "code",
   "execution_count": 24,
   "metadata": {},
   "outputs": [
    {
     "output_type": "execute_result",
     "data": {
      "text/plain": [
       "      0      1     2     3      4      5       6      7      8      9   ...  \\\n",
       "0    0.0  15.74  5.48  0.38  37.22  12.40  118.24  97.41   2.64   2.77  ...   \n",
       "1    0.0  15.72  5.04  1.03  38.40  11.85   96.31  91.85   8.21   7.57  ...   \n",
       "2    0.0  12.91  4.12  1.04  42.88  12.52   67.56  88.19  11.81   9.40  ...   \n",
       "3    0.0  12.66  4.20  0.92  40.47  12.39   69.24  92.74   7.18   6.45  ...   \n",
       "4    0.0  15.20  5.10  0.96  42.18  12.83   93.26  87.89  12.08  10.76  ...   \n",
       "..   ...    ...   ...   ...    ...    ...     ...    ...    ...    ...  ...   \n",
       "995  0.0  16.12  5.29  2.14  40.99  13.28   71.49  89.61  10.54   8.71  ...   \n",
       "996  0.0  14.60  4.92  1.26  40.22  12.46   79.61  93.70   6.40   5.81  ...   \n",
       "997  0.0  15.99  5.25  1.60  39.55  12.49   81.48  87.58  12.48  10.57  ...   \n",
       "998  0.0  14.35  4.52  1.60  44.63  12.73   68.67  85.96  14.06  11.77  ...   \n",
       "999  0.0  15.02  5.13  1.13  42.22  13.39   87.19  92.99   7.01   6.43  ...   \n",
       "\n",
       "      41   42   43   44   45   46   47   48   49   50  \n",
       "0    0.0  0.0  0.0  0.0  0.0  0.0  0.0  0.0  0.0  0.0  \n",
       "1    0.0  0.0  0.0  0.0  0.0  0.0  0.0  0.0  0.0  0.0  \n",
       "2    0.0  0.0  0.0  0.0  0.0  0.0  0.0  0.0  0.0  0.0  \n",
       "3    0.0  0.0  0.0  0.0  0.0  0.0  0.0  0.0  0.0  0.0  \n",
       "4    0.0  0.0  0.0  0.0  0.0  0.0  0.0  0.0  0.0  0.0  \n",
       "..   ...  ...  ...  ...  ...  ...  ...  ...  ...  ...  \n",
       "995  0.0  0.0  0.0  0.0  0.0  0.0  0.0  0.0  0.0  0.0  \n",
       "996  0.0  0.0  0.0  0.0  0.0  0.0  0.0  0.0  0.0  0.0  \n",
       "997  0.0  0.0  0.0  0.0  0.0  0.0  0.0  0.0  0.0  0.0  \n",
       "998  0.0  0.0  0.0  0.0  0.0  0.0  0.0  0.0  0.0  0.0  \n",
       "999  0.0  0.0  0.0  0.0  0.0  0.0  0.0  0.0  0.0  0.0  \n",
       "\n",
       "[1000 rows x 51 columns]"
      ],
      "text/html": "<div>\n<style scoped>\n    .dataframe tbody tr th:only-of-type {\n        vertical-align: middle;\n    }\n\n    .dataframe tbody tr th {\n        vertical-align: top;\n    }\n\n    .dataframe thead th {\n        text-align: right;\n    }\n</style>\n<table border=\"1\" class=\"dataframe\">\n  <thead>\n    <tr style=\"text-align: right;\">\n      <th></th>\n      <th>0</th>\n      <th>1</th>\n      <th>2</th>\n      <th>3</th>\n      <th>4</th>\n      <th>5</th>\n      <th>6</th>\n      <th>7</th>\n      <th>8</th>\n      <th>9</th>\n      <th>...</th>\n      <th>41</th>\n      <th>42</th>\n      <th>43</th>\n      <th>44</th>\n      <th>45</th>\n      <th>46</th>\n      <th>47</th>\n      <th>48</th>\n      <th>49</th>\n      <th>50</th>\n    </tr>\n  </thead>\n  <tbody>\n    <tr>\n      <td>0</td>\n      <td>0.0</td>\n      <td>15.74</td>\n      <td>5.48</td>\n      <td>0.38</td>\n      <td>37.22</td>\n      <td>12.40</td>\n      <td>118.24</td>\n      <td>97.41</td>\n      <td>2.64</td>\n      <td>2.77</td>\n      <td>...</td>\n      <td>0.0</td>\n      <td>0.0</td>\n      <td>0.0</td>\n      <td>0.0</td>\n      <td>0.0</td>\n      <td>0.0</td>\n      <td>0.0</td>\n      <td>0.0</td>\n      <td>0.0</td>\n      <td>0.0</td>\n    </tr>\n    <tr>\n      <td>1</td>\n      <td>0.0</td>\n      <td>15.72</td>\n      <td>5.04</td>\n      <td>1.03</td>\n      <td>38.40</td>\n      <td>11.85</td>\n      <td>96.31</td>\n      <td>91.85</td>\n      <td>8.21</td>\n      <td>7.57</td>\n      <td>...</td>\n      <td>0.0</td>\n      <td>0.0</td>\n      <td>0.0</td>\n      <td>0.0</td>\n      <td>0.0</td>\n      <td>0.0</td>\n      <td>0.0</td>\n      <td>0.0</td>\n      <td>0.0</td>\n      <td>0.0</td>\n    </tr>\n    <tr>\n      <td>2</td>\n      <td>0.0</td>\n      <td>12.91</td>\n      <td>4.12</td>\n      <td>1.04</td>\n      <td>42.88</td>\n      <td>12.52</td>\n      <td>67.56</td>\n      <td>88.19</td>\n      <td>11.81</td>\n      <td>9.40</td>\n      <td>...</td>\n      <td>0.0</td>\n      <td>0.0</td>\n      <td>0.0</td>\n      <td>0.0</td>\n      <td>0.0</td>\n      <td>0.0</td>\n      <td>0.0</td>\n      <td>0.0</td>\n      <td>0.0</td>\n      <td>0.0</td>\n    </tr>\n    <tr>\n      <td>3</td>\n      <td>0.0</td>\n      <td>12.66</td>\n      <td>4.20</td>\n      <td>0.92</td>\n      <td>40.47</td>\n      <td>12.39</td>\n      <td>69.24</td>\n      <td>92.74</td>\n      <td>7.18</td>\n      <td>6.45</td>\n      <td>...</td>\n      <td>0.0</td>\n      <td>0.0</td>\n      <td>0.0</td>\n      <td>0.0</td>\n      <td>0.0</td>\n      <td>0.0</td>\n      <td>0.0</td>\n      <td>0.0</td>\n      <td>0.0</td>\n      <td>0.0</td>\n    </tr>\n    <tr>\n      <td>4</td>\n      <td>0.0</td>\n      <td>15.20</td>\n      <td>5.10</td>\n      <td>0.96</td>\n      <td>42.18</td>\n      <td>12.83</td>\n      <td>93.26</td>\n      <td>87.89</td>\n      <td>12.08</td>\n      <td>10.76</td>\n      <td>...</td>\n      <td>0.0</td>\n      <td>0.0</td>\n      <td>0.0</td>\n      <td>0.0</td>\n      <td>0.0</td>\n      <td>0.0</td>\n      <td>0.0</td>\n      <td>0.0</td>\n      <td>0.0</td>\n      <td>0.0</td>\n    </tr>\n    <tr>\n      <td>...</td>\n      <td>...</td>\n      <td>...</td>\n      <td>...</td>\n      <td>...</td>\n      <td>...</td>\n      <td>...</td>\n      <td>...</td>\n      <td>...</td>\n      <td>...</td>\n      <td>...</td>\n      <td>...</td>\n      <td>...</td>\n      <td>...</td>\n      <td>...</td>\n      <td>...</td>\n      <td>...</td>\n      <td>...</td>\n      <td>...</td>\n      <td>...</td>\n      <td>...</td>\n      <td>...</td>\n    </tr>\n    <tr>\n      <td>995</td>\n      <td>0.0</td>\n      <td>16.12</td>\n      <td>5.29</td>\n      <td>2.14</td>\n      <td>40.99</td>\n      <td>13.28</td>\n      <td>71.49</td>\n      <td>89.61</td>\n      <td>10.54</td>\n      <td>8.71</td>\n      <td>...</td>\n      <td>0.0</td>\n      <td>0.0</td>\n      <td>0.0</td>\n      <td>0.0</td>\n      <td>0.0</td>\n      <td>0.0</td>\n      <td>0.0</td>\n      <td>0.0</td>\n      <td>0.0</td>\n      <td>0.0</td>\n    </tr>\n    <tr>\n      <td>996</td>\n      <td>0.0</td>\n      <td>14.60</td>\n      <td>4.92</td>\n      <td>1.26</td>\n      <td>40.22</td>\n      <td>12.46</td>\n      <td>79.61</td>\n      <td>93.70</td>\n      <td>6.40</td>\n      <td>5.81</td>\n      <td>...</td>\n      <td>0.0</td>\n      <td>0.0</td>\n      <td>0.0</td>\n      <td>0.0</td>\n      <td>0.0</td>\n      <td>0.0</td>\n      <td>0.0</td>\n      <td>0.0</td>\n      <td>0.0</td>\n      <td>0.0</td>\n    </tr>\n    <tr>\n      <td>997</td>\n      <td>0.0</td>\n      <td>15.99</td>\n      <td>5.25</td>\n      <td>1.60</td>\n      <td>39.55</td>\n      <td>12.49</td>\n      <td>81.48</td>\n      <td>87.58</td>\n      <td>12.48</td>\n      <td>10.57</td>\n      <td>...</td>\n      <td>0.0</td>\n      <td>0.0</td>\n      <td>0.0</td>\n      <td>0.0</td>\n      <td>0.0</td>\n      <td>0.0</td>\n      <td>0.0</td>\n      <td>0.0</td>\n      <td>0.0</td>\n      <td>0.0</td>\n    </tr>\n    <tr>\n      <td>998</td>\n      <td>0.0</td>\n      <td>14.35</td>\n      <td>4.52</td>\n      <td>1.60</td>\n      <td>44.63</td>\n      <td>12.73</td>\n      <td>68.67</td>\n      <td>85.96</td>\n      <td>14.06</td>\n      <td>11.77</td>\n      <td>...</td>\n      <td>0.0</td>\n      <td>0.0</td>\n      <td>0.0</td>\n      <td>0.0</td>\n      <td>0.0</td>\n      <td>0.0</td>\n      <td>0.0</td>\n      <td>0.0</td>\n      <td>0.0</td>\n      <td>0.0</td>\n    </tr>\n    <tr>\n      <td>999</td>\n      <td>0.0</td>\n      <td>15.02</td>\n      <td>5.13</td>\n      <td>1.13</td>\n      <td>42.22</td>\n      <td>13.39</td>\n      <td>87.19</td>\n      <td>92.99</td>\n      <td>7.01</td>\n      <td>6.43</td>\n      <td>...</td>\n      <td>0.0</td>\n      <td>0.0</td>\n      <td>0.0</td>\n      <td>0.0</td>\n      <td>0.0</td>\n      <td>0.0</td>\n      <td>0.0</td>\n      <td>0.0</td>\n      <td>0.0</td>\n      <td>0.0</td>\n    </tr>\n  </tbody>\n</table>\n<p>1000 rows × 51 columns</p>\n</div>"
     },
     "metadata": {},
     "execution_count": 24
    }
   ],
   "source": [
    "new_data_df = pd.DataFrame(new_data)\n",
    "new_data_df    "
   ]
  },
  {
   "cell_type": "code",
   "execution_count": 25,
   "metadata": {},
   "outputs": [],
   "source": [
    "# Save as CSV\n",
    "new_data_df.to_csv('train_new.csv', index=None)"
   ]
  },
  {
   "cell_type": "code",
   "execution_count": 26,
   "metadata": {},
   "outputs": [
    {
     "output_type": "execute_result",
     "data": {
      "text/plain": [
       "     0      1     2     3      4      5       6      7      8      9  ...  \\\n",
       "0  0.0  15.74  5.48  0.38  37.22  12.40  118.24  97.41   2.64   2.77  ...   \n",
       "1  0.0  15.72  5.04  1.03  38.40  11.85   96.31  91.85   8.21   7.57  ...   \n",
       "2  0.0  12.91  4.12  1.04  42.88  12.52   67.56  88.19  11.81   9.40  ...   \n",
       "3  0.0  12.66  4.20  0.92  40.47  12.39   69.24  92.74   7.18   6.45  ...   \n",
       "4  0.0  15.20  5.10  0.96  42.18  12.83   93.26  87.89  12.08  10.76  ...   \n",
       "\n",
       "    41   42   43   44   45   46   47   48   49   50  \n",
       "0  0.0  0.0  0.0  0.0  0.0  0.0  0.0  0.0  0.0  0.0  \n",
       "1  0.0  0.0  0.0  0.0  0.0  0.0  0.0  0.0  0.0  0.0  \n",
       "2  0.0  0.0  0.0  0.0  0.0  0.0  0.0  0.0  0.0  0.0  \n",
       "3  0.0  0.0  0.0  0.0  0.0  0.0  0.0  0.0  0.0  0.0  \n",
       "4  0.0  0.0  0.0  0.0  0.0  0.0  0.0  0.0  0.0  0.0  \n",
       "\n",
       "[5 rows x 51 columns]"
      ],
      "text/html": "<div>\n<style scoped>\n    .dataframe tbody tr th:only-of-type {\n        vertical-align: middle;\n    }\n\n    .dataframe tbody tr th {\n        vertical-align: top;\n    }\n\n    .dataframe thead th {\n        text-align: right;\n    }\n</style>\n<table border=\"1\" class=\"dataframe\">\n  <thead>\n    <tr style=\"text-align: right;\">\n      <th></th>\n      <th>0</th>\n      <th>1</th>\n      <th>2</th>\n      <th>3</th>\n      <th>4</th>\n      <th>5</th>\n      <th>6</th>\n      <th>7</th>\n      <th>8</th>\n      <th>9</th>\n      <th>...</th>\n      <th>41</th>\n      <th>42</th>\n      <th>43</th>\n      <th>44</th>\n      <th>45</th>\n      <th>46</th>\n      <th>47</th>\n      <th>48</th>\n      <th>49</th>\n      <th>50</th>\n    </tr>\n  </thead>\n  <tbody>\n    <tr>\n      <td>0</td>\n      <td>0.0</td>\n      <td>15.74</td>\n      <td>5.48</td>\n      <td>0.38</td>\n      <td>37.22</td>\n      <td>12.40</td>\n      <td>118.24</td>\n      <td>97.41</td>\n      <td>2.64</td>\n      <td>2.77</td>\n      <td>...</td>\n      <td>0.0</td>\n      <td>0.0</td>\n      <td>0.0</td>\n      <td>0.0</td>\n      <td>0.0</td>\n      <td>0.0</td>\n      <td>0.0</td>\n      <td>0.0</td>\n      <td>0.0</td>\n      <td>0.0</td>\n    </tr>\n    <tr>\n      <td>1</td>\n      <td>0.0</td>\n      <td>15.72</td>\n      <td>5.04</td>\n      <td>1.03</td>\n      <td>38.40</td>\n      <td>11.85</td>\n      <td>96.31</td>\n      <td>91.85</td>\n      <td>8.21</td>\n      <td>7.57</td>\n      <td>...</td>\n      <td>0.0</td>\n      <td>0.0</td>\n      <td>0.0</td>\n      <td>0.0</td>\n      <td>0.0</td>\n      <td>0.0</td>\n      <td>0.0</td>\n      <td>0.0</td>\n      <td>0.0</td>\n      <td>0.0</td>\n    </tr>\n    <tr>\n      <td>2</td>\n      <td>0.0</td>\n      <td>12.91</td>\n      <td>4.12</td>\n      <td>1.04</td>\n      <td>42.88</td>\n      <td>12.52</td>\n      <td>67.56</td>\n      <td>88.19</td>\n      <td>11.81</td>\n      <td>9.40</td>\n      <td>...</td>\n      <td>0.0</td>\n      <td>0.0</td>\n      <td>0.0</td>\n      <td>0.0</td>\n      <td>0.0</td>\n      <td>0.0</td>\n      <td>0.0</td>\n      <td>0.0</td>\n      <td>0.0</td>\n      <td>0.0</td>\n    </tr>\n    <tr>\n      <td>3</td>\n      <td>0.0</td>\n      <td>12.66</td>\n      <td>4.20</td>\n      <td>0.92</td>\n      <td>40.47</td>\n      <td>12.39</td>\n      <td>69.24</td>\n      <td>92.74</td>\n      <td>7.18</td>\n      <td>6.45</td>\n      <td>...</td>\n      <td>0.0</td>\n      <td>0.0</td>\n      <td>0.0</td>\n      <td>0.0</td>\n      <td>0.0</td>\n      <td>0.0</td>\n      <td>0.0</td>\n      <td>0.0</td>\n      <td>0.0</td>\n      <td>0.0</td>\n    </tr>\n    <tr>\n      <td>4</td>\n      <td>0.0</td>\n      <td>15.20</td>\n      <td>5.10</td>\n      <td>0.96</td>\n      <td>42.18</td>\n      <td>12.83</td>\n      <td>93.26</td>\n      <td>87.89</td>\n      <td>12.08</td>\n      <td>10.76</td>\n      <td>...</td>\n      <td>0.0</td>\n      <td>0.0</td>\n      <td>0.0</td>\n      <td>0.0</td>\n      <td>0.0</td>\n      <td>0.0</td>\n      <td>0.0</td>\n      <td>0.0</td>\n      <td>0.0</td>\n      <td>0.0</td>\n    </tr>\n  </tbody>\n</table>\n<p>5 rows × 51 columns</p>\n</div>"
     },
     "metadata": {},
     "execution_count": 26
    }
   ],
   "source": [
    "# check again\n",
    "df_train = pd.read_csv('train_new.csv')\n",
    "df_train.head()"
   ]
  },
  {
   "source": [
    "## Create datapoints from testset"
   ],
   "cell_type": "markdown",
   "metadata": {}
  },
  {
   "cell_type": "code",
   "execution_count": 29,
   "metadata": {},
   "outputs": [],
   "source": [
    "N_t = int(N * 0.5) # datapoints\n",
    "prof_max = 5 # maximum no of profiles together in one datapoint\n",
    "test_len = len(X_test) # total number of individual profiles of patients\n",
    "feat_len = len(X_train[0]) # number of original features\n",
    "\n",
    "new_data_t = np.zeros((N_t, prof_max*feat_len+1))\n",
    "\n",
    "for i in range(N_t):\n",
    "    # random number of profiles\n",
    "    n_prof = np.random.randint(2, prof_max)\n",
    "    # print('No of profiles', n_prof)\n",
    "    label_list = [] # for assigning label\n",
    "    for j in range(n_prof):\n",
    "        # select profile randomly\n",
    "        idx = np.random.randint(test_len)\n",
    "        # assign values\n",
    "        new_data_t[i, 1+j*feat_len:1+(j+1)*feat_len] = X_test[idx]\n",
    "\n",
    "        label_list.append(y_test[idx])\n",
    "    \n",
    "    # fill values for remaining\n",
    "    # for j in range(prof_max - n_prof):\n",
    "    # print('labels', label_list)\n",
    "    # check if all values are identical in list\n",
    "    label = label_list.count(label_list[0]) == len(label_list)\n",
    "    # Assign label\n",
    "    new_data_t[i, 0] = label\n",
    "\n",
    "# concatenate to original    "
   ]
  },
  {
   "cell_type": "code",
   "execution_count": 30,
   "metadata": {},
   "outputs": [
    {
     "output_type": "execute_result",
     "data": {
      "text/plain": [
       "      0      1     2     3      4      5       6      7     8     9   ...  \\\n",
       "0    0.0  15.27  4.94  0.63  41.03  12.27  104.88  96.67  3.27  3.13  ...   \n",
       "1    0.0  13.18  4.38  0.62  43.28  13.42   83.16  95.59  4.30  4.00  ...   \n",
       "2    0.0  13.18  4.10  1.54  42.14  12.36   56.66  91.14  9.00  7.41  ...   \n",
       "3    0.0  14.09  4.59  0.84  39.68  11.98   86.25  97.12  2.92  2.88  ...   \n",
       "4    0.0  13.12  4.27  1.27  44.43  13.91   63.54  93.69  6.25  5.57  ...   \n",
       "..   ...    ...   ...   ...    ...    ...     ...    ...   ...   ...  ...   \n",
       "495  0.0  15.33  5.01  0.62  39.81  12.19  106.14  95.22  4.73  4.68  ...   \n",
       "496  0.0  11.82  4.14  0.84  45.52  14.38   63.90  92.54  7.34  6.38  ...   \n",
       "497  0.0  12.27  3.95  1.07  42.42  12.52   59.95  92.80  7.00  6.03  ...   \n",
       "498  0.0  12.83  4.26  0.84  40.16  12.41   73.61  93.56  6.57  6.03  ...   \n",
       "499  0.0  13.21  4.53  0.81  41.89  13.37   78.12  92.19  7.75  6.21  ...   \n",
       "\n",
       "      41   42   43   44   45   46   47   48   49   50  \n",
       "0    0.0  0.0  0.0  0.0  0.0  0.0  0.0  0.0  0.0  0.0  \n",
       "1    0.0  0.0  0.0  0.0  0.0  0.0  0.0  0.0  0.0  0.0  \n",
       "2    0.0  0.0  0.0  0.0  0.0  0.0  0.0  0.0  0.0  0.0  \n",
       "3    0.0  0.0  0.0  0.0  0.0  0.0  0.0  0.0  0.0  0.0  \n",
       "4    0.0  0.0  0.0  0.0  0.0  0.0  0.0  0.0  0.0  0.0  \n",
       "..   ...  ...  ...  ...  ...  ...  ...  ...  ...  ...  \n",
       "495  0.0  0.0  0.0  0.0  0.0  0.0  0.0  0.0  0.0  0.0  \n",
       "496  0.0  0.0  0.0  0.0  0.0  0.0  0.0  0.0  0.0  0.0  \n",
       "497  0.0  0.0  0.0  0.0  0.0  0.0  0.0  0.0  0.0  0.0  \n",
       "498  0.0  0.0  0.0  0.0  0.0  0.0  0.0  0.0  0.0  0.0  \n",
       "499  0.0  0.0  0.0  0.0  0.0  0.0  0.0  0.0  0.0  0.0  \n",
       "\n",
       "[500 rows x 51 columns]"
      ],
      "text/html": "<div>\n<style scoped>\n    .dataframe tbody tr th:only-of-type {\n        vertical-align: middle;\n    }\n\n    .dataframe tbody tr th {\n        vertical-align: top;\n    }\n\n    .dataframe thead th {\n        text-align: right;\n    }\n</style>\n<table border=\"1\" class=\"dataframe\">\n  <thead>\n    <tr style=\"text-align: right;\">\n      <th></th>\n      <th>0</th>\n      <th>1</th>\n      <th>2</th>\n      <th>3</th>\n      <th>4</th>\n      <th>5</th>\n      <th>6</th>\n      <th>7</th>\n      <th>8</th>\n      <th>9</th>\n      <th>...</th>\n      <th>41</th>\n      <th>42</th>\n      <th>43</th>\n      <th>44</th>\n      <th>45</th>\n      <th>46</th>\n      <th>47</th>\n      <th>48</th>\n      <th>49</th>\n      <th>50</th>\n    </tr>\n  </thead>\n  <tbody>\n    <tr>\n      <td>0</td>\n      <td>0.0</td>\n      <td>15.27</td>\n      <td>4.94</td>\n      <td>0.63</td>\n      <td>41.03</td>\n      <td>12.27</td>\n      <td>104.88</td>\n      <td>96.67</td>\n      <td>3.27</td>\n      <td>3.13</td>\n      <td>...</td>\n      <td>0.0</td>\n      <td>0.0</td>\n      <td>0.0</td>\n      <td>0.0</td>\n      <td>0.0</td>\n      <td>0.0</td>\n      <td>0.0</td>\n      <td>0.0</td>\n      <td>0.0</td>\n      <td>0.0</td>\n    </tr>\n    <tr>\n      <td>1</td>\n      <td>0.0</td>\n      <td>13.18</td>\n      <td>4.38</td>\n      <td>0.62</td>\n      <td>43.28</td>\n      <td>13.42</td>\n      <td>83.16</td>\n      <td>95.59</td>\n      <td>4.30</td>\n      <td>4.00</td>\n      <td>...</td>\n      <td>0.0</td>\n      <td>0.0</td>\n      <td>0.0</td>\n      <td>0.0</td>\n      <td>0.0</td>\n      <td>0.0</td>\n      <td>0.0</td>\n      <td>0.0</td>\n      <td>0.0</td>\n      <td>0.0</td>\n    </tr>\n    <tr>\n      <td>2</td>\n      <td>0.0</td>\n      <td>13.18</td>\n      <td>4.10</td>\n      <td>1.54</td>\n      <td>42.14</td>\n      <td>12.36</td>\n      <td>56.66</td>\n      <td>91.14</td>\n      <td>9.00</td>\n      <td>7.41</td>\n      <td>...</td>\n      <td>0.0</td>\n      <td>0.0</td>\n      <td>0.0</td>\n      <td>0.0</td>\n      <td>0.0</td>\n      <td>0.0</td>\n      <td>0.0</td>\n      <td>0.0</td>\n      <td>0.0</td>\n      <td>0.0</td>\n    </tr>\n    <tr>\n      <td>3</td>\n      <td>0.0</td>\n      <td>14.09</td>\n      <td>4.59</td>\n      <td>0.84</td>\n      <td>39.68</td>\n      <td>11.98</td>\n      <td>86.25</td>\n      <td>97.12</td>\n      <td>2.92</td>\n      <td>2.88</td>\n      <td>...</td>\n      <td>0.0</td>\n      <td>0.0</td>\n      <td>0.0</td>\n      <td>0.0</td>\n      <td>0.0</td>\n      <td>0.0</td>\n      <td>0.0</td>\n      <td>0.0</td>\n      <td>0.0</td>\n      <td>0.0</td>\n    </tr>\n    <tr>\n      <td>4</td>\n      <td>0.0</td>\n      <td>13.12</td>\n      <td>4.27</td>\n      <td>1.27</td>\n      <td>44.43</td>\n      <td>13.91</td>\n      <td>63.54</td>\n      <td>93.69</td>\n      <td>6.25</td>\n      <td>5.57</td>\n      <td>...</td>\n      <td>0.0</td>\n      <td>0.0</td>\n      <td>0.0</td>\n      <td>0.0</td>\n      <td>0.0</td>\n      <td>0.0</td>\n      <td>0.0</td>\n      <td>0.0</td>\n      <td>0.0</td>\n      <td>0.0</td>\n    </tr>\n    <tr>\n      <td>...</td>\n      <td>...</td>\n      <td>...</td>\n      <td>...</td>\n      <td>...</td>\n      <td>...</td>\n      <td>...</td>\n      <td>...</td>\n      <td>...</td>\n      <td>...</td>\n      <td>...</td>\n      <td>...</td>\n      <td>...</td>\n      <td>...</td>\n      <td>...</td>\n      <td>...</td>\n      <td>...</td>\n      <td>...</td>\n      <td>...</td>\n      <td>...</td>\n      <td>...</td>\n      <td>...</td>\n    </tr>\n    <tr>\n      <td>495</td>\n      <td>0.0</td>\n      <td>15.33</td>\n      <td>5.01</td>\n      <td>0.62</td>\n      <td>39.81</td>\n      <td>12.19</td>\n      <td>106.14</td>\n      <td>95.22</td>\n      <td>4.73</td>\n      <td>4.68</td>\n      <td>...</td>\n      <td>0.0</td>\n      <td>0.0</td>\n      <td>0.0</td>\n      <td>0.0</td>\n      <td>0.0</td>\n      <td>0.0</td>\n      <td>0.0</td>\n      <td>0.0</td>\n      <td>0.0</td>\n      <td>0.0</td>\n    </tr>\n    <tr>\n      <td>496</td>\n      <td>0.0</td>\n      <td>11.82</td>\n      <td>4.14</td>\n      <td>0.84</td>\n      <td>45.52</td>\n      <td>14.38</td>\n      <td>63.90</td>\n      <td>92.54</td>\n      <td>7.34</td>\n      <td>6.38</td>\n      <td>...</td>\n      <td>0.0</td>\n      <td>0.0</td>\n      <td>0.0</td>\n      <td>0.0</td>\n      <td>0.0</td>\n      <td>0.0</td>\n      <td>0.0</td>\n      <td>0.0</td>\n      <td>0.0</td>\n      <td>0.0</td>\n    </tr>\n    <tr>\n      <td>497</td>\n      <td>0.0</td>\n      <td>12.27</td>\n      <td>3.95</td>\n      <td>1.07</td>\n      <td>42.42</td>\n      <td>12.52</td>\n      <td>59.95</td>\n      <td>92.80</td>\n      <td>7.00</td>\n      <td>6.03</td>\n      <td>...</td>\n      <td>0.0</td>\n      <td>0.0</td>\n      <td>0.0</td>\n      <td>0.0</td>\n      <td>0.0</td>\n      <td>0.0</td>\n      <td>0.0</td>\n      <td>0.0</td>\n      <td>0.0</td>\n      <td>0.0</td>\n    </tr>\n    <tr>\n      <td>498</td>\n      <td>0.0</td>\n      <td>12.83</td>\n      <td>4.26</td>\n      <td>0.84</td>\n      <td>40.16</td>\n      <td>12.41</td>\n      <td>73.61</td>\n      <td>93.56</td>\n      <td>6.57</td>\n      <td>6.03</td>\n      <td>...</td>\n      <td>0.0</td>\n      <td>0.0</td>\n      <td>0.0</td>\n      <td>0.0</td>\n      <td>0.0</td>\n      <td>0.0</td>\n      <td>0.0</td>\n      <td>0.0</td>\n      <td>0.0</td>\n      <td>0.0</td>\n    </tr>\n    <tr>\n      <td>499</td>\n      <td>0.0</td>\n      <td>13.21</td>\n      <td>4.53</td>\n      <td>0.81</td>\n      <td>41.89</td>\n      <td>13.37</td>\n      <td>78.12</td>\n      <td>92.19</td>\n      <td>7.75</td>\n      <td>6.21</td>\n      <td>...</td>\n      <td>0.0</td>\n      <td>0.0</td>\n      <td>0.0</td>\n      <td>0.0</td>\n      <td>0.0</td>\n      <td>0.0</td>\n      <td>0.0</td>\n      <td>0.0</td>\n      <td>0.0</td>\n      <td>0.0</td>\n    </tr>\n  </tbody>\n</table>\n<p>500 rows × 51 columns</p>\n</div>"
     },
     "metadata": {},
     "execution_count": 30
    }
   ],
   "source": [
    "new_data_df_t = pd.DataFrame(new_data_t)\n",
    "new_data_df_t    "
   ]
  },
  {
   "cell_type": "code",
   "execution_count": 31,
   "metadata": {},
   "outputs": [],
   "source": [
    "# Save as CSV\n",
    "new_data_df_t.to_csv('test_new.csv', index=None)"
   ]
  },
  {
   "cell_type": "code",
   "execution_count": null,
   "metadata": {},
   "outputs": [],
   "source": []
  }
 ]
}