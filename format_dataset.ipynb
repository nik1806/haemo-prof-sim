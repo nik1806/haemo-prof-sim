{
 "metadata": {
  "language_info": {
   "codemirror_mode": {
    "name": "ipython",
    "version": 3
   },
   "file_extension": ".py",
   "mimetype": "text/x-python",
   "name": "python",
   "nbconvert_exporter": "python",
   "pygments_lexer": "ipython3",
   "version": "3.6.8"
  },
  "orig_nbformat": 2,
  "kernelspec": {
   "name": "python368jvsc74a57bd039c32cf5604986400b1cbafd7518d951df7ae3ce292cc81e38a02c43f6c4706e",
   "display_name": "Python 3.6.8 64-bit ('pytorch': virtualenvwrapper)"
  }
 },
 "nbformat": 4,
 "nbformat_minor": 2,
 "cells": [
  {
   "cell_type": "code",
   "execution_count": 1,
   "metadata": {},
   "outputs": [],
   "source": [
    "import pandas as pd\n",
    "import numpy as np"
   ]
  },
  {
   "source": [
    "### Read data"
   ],
   "cell_type": "markdown",
   "metadata": {}
  },
  {
   "cell_type": "code",
   "execution_count": 2,
   "metadata": {},
   "outputs": [
    {
     "output_type": "execute_result",
     "data": {
      "text/plain": [
       "   ParticipantID     HB   RBC  RET%  RDW-SD  RDW-CV  OFF-HR    LFR    IRF  \\\n",
       "0              1  14.21  5.07  0.89   41.30   13.46   86.21  91.94   8.03   \n",
       "1              1  13.96  4.56  0.96   42.46   12.74   81.24  93.08   7.00   \n",
       "2              1  14.72  5.13  0.85   41.64   13.16   92.67  89.95  10.04   \n",
       "3              1  13.89  4.79  0.92   44.04   13.86   81.53  86.74  13.27   \n",
       "4              1  15.42  4.77  1.07   43.28   12.47   92.19  94.42   5.58   \n",
       "\n",
       "     MFR   HFR  \n",
       "0   7.16  0.81  \n",
       "1   6.39  0.51  \n",
       "2   9.40  0.71  \n",
       "3  11.79  1.33  \n",
       "4   4.71  0.75  "
      ],
      "text/html": "<div>\n<style scoped>\n    .dataframe tbody tr th:only-of-type {\n        vertical-align: middle;\n    }\n\n    .dataframe tbody tr th {\n        vertical-align: top;\n    }\n\n    .dataframe thead th {\n        text-align: right;\n    }\n</style>\n<table border=\"1\" class=\"dataframe\">\n  <thead>\n    <tr style=\"text-align: right;\">\n      <th></th>\n      <th>ParticipantID</th>\n      <th>HB</th>\n      <th>RBC</th>\n      <th>RET%</th>\n      <th>RDW-SD</th>\n      <th>RDW-CV</th>\n      <th>OFF-HR</th>\n      <th>LFR</th>\n      <th>IRF</th>\n      <th>MFR</th>\n      <th>HFR</th>\n    </tr>\n  </thead>\n  <tbody>\n    <tr>\n      <td>0</td>\n      <td>1</td>\n      <td>14.21</td>\n      <td>5.07</td>\n      <td>0.89</td>\n      <td>41.30</td>\n      <td>13.46</td>\n      <td>86.21</td>\n      <td>91.94</td>\n      <td>8.03</td>\n      <td>7.16</td>\n      <td>0.81</td>\n    </tr>\n    <tr>\n      <td>1</td>\n      <td>1</td>\n      <td>13.96</td>\n      <td>4.56</td>\n      <td>0.96</td>\n      <td>42.46</td>\n      <td>12.74</td>\n      <td>81.24</td>\n      <td>93.08</td>\n      <td>7.00</td>\n      <td>6.39</td>\n      <td>0.51</td>\n    </tr>\n    <tr>\n      <td>2</td>\n      <td>1</td>\n      <td>14.72</td>\n      <td>5.13</td>\n      <td>0.85</td>\n      <td>41.64</td>\n      <td>13.16</td>\n      <td>92.67</td>\n      <td>89.95</td>\n      <td>10.04</td>\n      <td>9.40</td>\n      <td>0.71</td>\n    </tr>\n    <tr>\n      <td>3</td>\n      <td>1</td>\n      <td>13.89</td>\n      <td>4.79</td>\n      <td>0.92</td>\n      <td>44.04</td>\n      <td>13.86</td>\n      <td>81.53</td>\n      <td>86.74</td>\n      <td>13.27</td>\n      <td>11.79</td>\n      <td>1.33</td>\n    </tr>\n    <tr>\n      <td>4</td>\n      <td>1</td>\n      <td>15.42</td>\n      <td>4.77</td>\n      <td>1.07</td>\n      <td>43.28</td>\n      <td>12.47</td>\n      <td>92.19</td>\n      <td>94.42</td>\n      <td>5.58</td>\n      <td>4.71</td>\n      <td>0.75</td>\n    </tr>\n  </tbody>\n</table>\n</div>"
     },
     "metadata": {},
     "execution_count": 2
    }
   ],
   "source": [
    "dataset = pd.read_csv('dataset.csv')\n",
    "X = dataset.iloc[:, 1:].values\n",
    "y = dataset.iloc[:, 0].values\n",
    "dataset.head()"
   ]
  },
  {
   "source": [
    "### Split"
   ],
   "cell_type": "markdown",
   "metadata": {}
  },
  {
   "cell_type": "code",
   "execution_count": 3,
   "metadata": {},
   "outputs": [],
   "source": [
    "# keep profiles separate between train and test\n",
    "from sklearn.model_selection import train_test_split\n",
    "X_train, X_test, y_train, y_test = train_test_split(X, y, test_size = 0.2, random_state = 0)"
   ]
  },
  {
   "source": [
    "### Create datapoints from train split"
   ],
   "cell_type": "markdown",
   "metadata": {}
  },
  {
   "cell_type": "code",
   "execution_count": 4,
   "metadata": {},
   "outputs": [],
   "source": [
    "N = 1000 # datapoints\n",
    "prof_max = 5 # maximum no of profiles together in one datapoint\n",
    "train_len = len(X_train) # total number of individual profiles of patients\n",
    "feat_len = len(X_train[0]) # number of original features\n",
    "\n",
    "new_data = np.zeros((N, prof_max*feat_len+1))\n",
    "\n",
    "for i in range(N):\n",
    "    # random number of profiles\n",
    "    n_prof = np.random.randint(2, prof_max)\n",
    "    # print('No of profiles', n_prof)\n",
    "    label_list = [] # for assigning label\n",
    "    for j in range(n_prof):\n",
    "        # select profile randomly\n",
    "        idx = np.random.randint(train_len)\n",
    "        # assign values\n",
    "        new_data[i, 1+j*feat_len:1+(j+1)*feat_len] = X_train[idx]\n",
    "\n",
    "        label_list.append(y_train[idx])\n",
    "    \n",
    "    # fill values for remaining\n",
    "    # for j in range(prof_max - n_prof):\n",
    "    # print('labels', label_list)\n",
    "    # check if all values are identical in list\n",
    "    label = label_list.count(label_list[0]) == len(label_list)\n",
    "    # Assign label\n",
    "    new_data[i, 0] = label\n",
    "\n",
    "# concatenate to original    "
   ]
  },
  {
   "cell_type": "code",
   "execution_count": 5,
   "metadata": {},
   "outputs": [
    {
     "output_type": "execute_result",
     "data": {
      "text/plain": [
       "      0      1     2     3      4      5      6      7      8      9   ...  \\\n",
       "0    0.0  13.38  4.43  0.90  41.58  12.66  77.70  93.31   6.62   5.48  ...   \n",
       "1    0.0  14.81  4.86  0.75  41.55  12.54  96.32  94.67   5.31   4.78  ...   \n",
       "2    0.0  13.78  4.54  0.86  40.69  12.42  81.59  98.22   1.83   1.51  ...   \n",
       "3    0.0  15.36  4.91  0.83  42.85  12.52  99.33  94.10   5.94   5.55  ...   \n",
       "4    0.0  11.53  4.00  0.86  40.26  12.42  61.37  91.63   8.35   7.41  ...   \n",
       "..   ...    ...   ...   ...    ...    ...    ...    ...    ...    ...  ...   \n",
       "995  0.0  15.55  4.97  1.28  38.46  11.82  87.24  93.74   6.35   5.44  ...   \n",
       "996  0.0  13.35  4.36  0.76  40.79  12.35  81.18  94.94   5.06   4.83  ...   \n",
       "997  0.0  13.69  4.31  1.60  41.05  12.14  60.16  85.20  14.81  13.67  ...   \n",
       "998  0.0  14.82  5.13  1.17  39.92  12.73  82.36  86.28  13.74  12.25  ...   \n",
       "999  0.0  14.09  4.55  1.39  39.97  12.13  70.26  95.34   4.74   4.02  ...   \n",
       "\n",
       "      41   42   43   44   45   46   47   48   49   50  \n",
       "0    0.0  0.0  0.0  0.0  0.0  0.0  0.0  0.0  0.0  0.0  \n",
       "1    0.0  0.0  0.0  0.0  0.0  0.0  0.0  0.0  0.0  0.0  \n",
       "2    0.0  0.0  0.0  0.0  0.0  0.0  0.0  0.0  0.0  0.0  \n",
       "3    0.0  0.0  0.0  0.0  0.0  0.0  0.0  0.0  0.0  0.0  \n",
       "4    0.0  0.0  0.0  0.0  0.0  0.0  0.0  0.0  0.0  0.0  \n",
       "..   ...  ...  ...  ...  ...  ...  ...  ...  ...  ...  \n",
       "995  0.0  0.0  0.0  0.0  0.0  0.0  0.0  0.0  0.0  0.0  \n",
       "996  0.0  0.0  0.0  0.0  0.0  0.0  0.0  0.0  0.0  0.0  \n",
       "997  0.0  0.0  0.0  0.0  0.0  0.0  0.0  0.0  0.0  0.0  \n",
       "998  0.0  0.0  0.0  0.0  0.0  0.0  0.0  0.0  0.0  0.0  \n",
       "999  0.0  0.0  0.0  0.0  0.0  0.0  0.0  0.0  0.0  0.0  \n",
       "\n",
       "[1000 rows x 51 columns]"
      ],
      "text/html": "<div>\n<style scoped>\n    .dataframe tbody tr th:only-of-type {\n        vertical-align: middle;\n    }\n\n    .dataframe tbody tr th {\n        vertical-align: top;\n    }\n\n    .dataframe thead th {\n        text-align: right;\n    }\n</style>\n<table border=\"1\" class=\"dataframe\">\n  <thead>\n    <tr style=\"text-align: right;\">\n      <th></th>\n      <th>0</th>\n      <th>1</th>\n      <th>2</th>\n      <th>3</th>\n      <th>4</th>\n      <th>5</th>\n      <th>6</th>\n      <th>7</th>\n      <th>8</th>\n      <th>9</th>\n      <th>...</th>\n      <th>41</th>\n      <th>42</th>\n      <th>43</th>\n      <th>44</th>\n      <th>45</th>\n      <th>46</th>\n      <th>47</th>\n      <th>48</th>\n      <th>49</th>\n      <th>50</th>\n    </tr>\n  </thead>\n  <tbody>\n    <tr>\n      <td>0</td>\n      <td>0.0</td>\n      <td>13.38</td>\n      <td>4.43</td>\n      <td>0.90</td>\n      <td>41.58</td>\n      <td>12.66</td>\n      <td>77.70</td>\n      <td>93.31</td>\n      <td>6.62</td>\n      <td>5.48</td>\n      <td>...</td>\n      <td>0.0</td>\n      <td>0.0</td>\n      <td>0.0</td>\n      <td>0.0</td>\n      <td>0.0</td>\n      <td>0.0</td>\n      <td>0.0</td>\n      <td>0.0</td>\n      <td>0.0</td>\n      <td>0.0</td>\n    </tr>\n    <tr>\n      <td>1</td>\n      <td>0.0</td>\n      <td>14.81</td>\n      <td>4.86</td>\n      <td>0.75</td>\n      <td>41.55</td>\n      <td>12.54</td>\n      <td>96.32</td>\n      <td>94.67</td>\n      <td>5.31</td>\n      <td>4.78</td>\n      <td>...</td>\n      <td>0.0</td>\n      <td>0.0</td>\n      <td>0.0</td>\n      <td>0.0</td>\n      <td>0.0</td>\n      <td>0.0</td>\n      <td>0.0</td>\n      <td>0.0</td>\n      <td>0.0</td>\n      <td>0.0</td>\n    </tr>\n    <tr>\n      <td>2</td>\n      <td>0.0</td>\n      <td>13.78</td>\n      <td>4.54</td>\n      <td>0.86</td>\n      <td>40.69</td>\n      <td>12.42</td>\n      <td>81.59</td>\n      <td>98.22</td>\n      <td>1.83</td>\n      <td>1.51</td>\n      <td>...</td>\n      <td>0.0</td>\n      <td>0.0</td>\n      <td>0.0</td>\n      <td>0.0</td>\n      <td>0.0</td>\n      <td>0.0</td>\n      <td>0.0</td>\n      <td>0.0</td>\n      <td>0.0</td>\n      <td>0.0</td>\n    </tr>\n    <tr>\n      <td>3</td>\n      <td>0.0</td>\n      <td>15.36</td>\n      <td>4.91</td>\n      <td>0.83</td>\n      <td>42.85</td>\n      <td>12.52</td>\n      <td>99.33</td>\n      <td>94.10</td>\n      <td>5.94</td>\n      <td>5.55</td>\n      <td>...</td>\n      <td>0.0</td>\n      <td>0.0</td>\n      <td>0.0</td>\n      <td>0.0</td>\n      <td>0.0</td>\n      <td>0.0</td>\n      <td>0.0</td>\n      <td>0.0</td>\n      <td>0.0</td>\n      <td>0.0</td>\n    </tr>\n    <tr>\n      <td>4</td>\n      <td>0.0</td>\n      <td>11.53</td>\n      <td>4.00</td>\n      <td>0.86</td>\n      <td>40.26</td>\n      <td>12.42</td>\n      <td>61.37</td>\n      <td>91.63</td>\n      <td>8.35</td>\n      <td>7.41</td>\n      <td>...</td>\n      <td>0.0</td>\n      <td>0.0</td>\n      <td>0.0</td>\n      <td>0.0</td>\n      <td>0.0</td>\n      <td>0.0</td>\n      <td>0.0</td>\n      <td>0.0</td>\n      <td>0.0</td>\n      <td>0.0</td>\n    </tr>\n    <tr>\n      <td>...</td>\n      <td>...</td>\n      <td>...</td>\n      <td>...</td>\n      <td>...</td>\n      <td>...</td>\n      <td>...</td>\n      <td>...</td>\n      <td>...</td>\n      <td>...</td>\n      <td>...</td>\n      <td>...</td>\n      <td>...</td>\n      <td>...</td>\n      <td>...</td>\n      <td>...</td>\n      <td>...</td>\n      <td>...</td>\n      <td>...</td>\n      <td>...</td>\n      <td>...</td>\n      <td>...</td>\n    </tr>\n    <tr>\n      <td>995</td>\n      <td>0.0</td>\n      <td>15.55</td>\n      <td>4.97</td>\n      <td>1.28</td>\n      <td>38.46</td>\n      <td>11.82</td>\n      <td>87.24</td>\n      <td>93.74</td>\n      <td>6.35</td>\n      <td>5.44</td>\n      <td>...</td>\n      <td>0.0</td>\n      <td>0.0</td>\n      <td>0.0</td>\n      <td>0.0</td>\n      <td>0.0</td>\n      <td>0.0</td>\n      <td>0.0</td>\n      <td>0.0</td>\n      <td>0.0</td>\n      <td>0.0</td>\n    </tr>\n    <tr>\n      <td>996</td>\n      <td>0.0</td>\n      <td>13.35</td>\n      <td>4.36</td>\n      <td>0.76</td>\n      <td>40.79</td>\n      <td>12.35</td>\n      <td>81.18</td>\n      <td>94.94</td>\n      <td>5.06</td>\n      <td>4.83</td>\n      <td>...</td>\n      <td>0.0</td>\n      <td>0.0</td>\n      <td>0.0</td>\n      <td>0.0</td>\n      <td>0.0</td>\n      <td>0.0</td>\n      <td>0.0</td>\n      <td>0.0</td>\n      <td>0.0</td>\n      <td>0.0</td>\n    </tr>\n    <tr>\n      <td>997</td>\n      <td>0.0</td>\n      <td>13.69</td>\n      <td>4.31</td>\n      <td>1.60</td>\n      <td>41.05</td>\n      <td>12.14</td>\n      <td>60.16</td>\n      <td>85.20</td>\n      <td>14.81</td>\n      <td>13.67</td>\n      <td>...</td>\n      <td>0.0</td>\n      <td>0.0</td>\n      <td>0.0</td>\n      <td>0.0</td>\n      <td>0.0</td>\n      <td>0.0</td>\n      <td>0.0</td>\n      <td>0.0</td>\n      <td>0.0</td>\n      <td>0.0</td>\n    </tr>\n    <tr>\n      <td>998</td>\n      <td>0.0</td>\n      <td>14.82</td>\n      <td>5.13</td>\n      <td>1.17</td>\n      <td>39.92</td>\n      <td>12.73</td>\n      <td>82.36</td>\n      <td>86.28</td>\n      <td>13.74</td>\n      <td>12.25</td>\n      <td>...</td>\n      <td>0.0</td>\n      <td>0.0</td>\n      <td>0.0</td>\n      <td>0.0</td>\n      <td>0.0</td>\n      <td>0.0</td>\n      <td>0.0</td>\n      <td>0.0</td>\n      <td>0.0</td>\n      <td>0.0</td>\n    </tr>\n    <tr>\n      <td>999</td>\n      <td>0.0</td>\n      <td>14.09</td>\n      <td>4.55</td>\n      <td>1.39</td>\n      <td>39.97</td>\n      <td>12.13</td>\n      <td>70.26</td>\n      <td>95.34</td>\n      <td>4.74</td>\n      <td>4.02</td>\n      <td>...</td>\n      <td>0.0</td>\n      <td>0.0</td>\n      <td>0.0</td>\n      <td>0.0</td>\n      <td>0.0</td>\n      <td>0.0</td>\n      <td>0.0</td>\n      <td>0.0</td>\n      <td>0.0</td>\n      <td>0.0</td>\n    </tr>\n  </tbody>\n</table>\n<p>1000 rows × 51 columns</p>\n</div>"
     },
     "metadata": {},
     "execution_count": 5
    }
   ],
   "source": [
    "new_data_df = pd.DataFrame(new_data)\n",
    "new_data_df    "
   ]
  },
  {
   "cell_type": "code",
   "execution_count": 6,
   "metadata": {},
   "outputs": [
    {
     "output_type": "execute_result",
     "data": {
      "text/plain": [
       "       1\n",
       "0       \n",
       "0.0  985\n",
       "1.0   15"
      ],
      "text/html": "<div>\n<style scoped>\n    .dataframe tbody tr th:only-of-type {\n        vertical-align: middle;\n    }\n\n    .dataframe tbody tr th {\n        vertical-align: top;\n    }\n\n    .dataframe thead th {\n        text-align: right;\n    }\n</style>\n<table border=\"1\" class=\"dataframe\">\n  <thead>\n    <tr style=\"text-align: right;\">\n      <th></th>\n      <th>1</th>\n    </tr>\n    <tr>\n      <th>0</th>\n      <th></th>\n    </tr>\n  </thead>\n  <tbody>\n    <tr>\n      <td>0.0</td>\n      <td>985</td>\n    </tr>\n    <tr>\n      <td>1.0</td>\n      <td>15</td>\n    </tr>\n  </tbody>\n</table>\n</div>"
     },
     "metadata": {},
     "execution_count": 6
    }
   ],
   "source": [
    "df_part_cnt = new_data_df.groupby(0).count()\n",
    "df_part_cnt.iloc[:,:1]"
   ]
  },
  {
   "source": [
    "### Observations\n",
    "* The new dataset generated is skewed (data imbalance).\n",
    "* There are very less instances of label=1 (all profile belongs to same class)\n",
    "* The skewed is obvious because when selecting profiles the probability of selecting other patient profile is more"
   ],
   "cell_type": "markdown",
   "metadata": {}
  },
  {
   "source": [
    "### Generate datapoints with 1 label to balance dataset"
   ],
   "cell_type": "markdown",
   "metadata": {}
  },
  {
   "cell_type": "code",
   "execution_count": 7,
   "metadata": {},
   "outputs": [
    {
     "output_type": "stream",
     "name": "stdout",
     "text": [
      "[ 10  17  26  53  85 110 114 117 149 182 207 223 230 241 268 284 291 301\n 307 318 410 451 475 569 607 619 631 655]\n"
     ]
    }
   ],
   "source": [
    "id = np.array(y_train)\n",
    "idx = np.where(id == 25)[0]\n",
    "# print(len(y_train))\n",
    "print(idx)\n",
    "# print(y_train)"
   ]
  },
  {
   "cell_type": "code",
   "execution_count": 8,
   "metadata": {
    "tags": []
   },
   "outputs": [],
   "source": [
    "N_p = int(N*0.4) # datapoints\n",
    "# N_p = 10\n",
    "new_data_p = np.zeros((N_p, prof_max*feat_len+1))\n",
    "\n",
    "for i in range(N_p):\n",
    "\n",
    "    # random number of profiles\n",
    "    n_prof = np.random.randint(2, prof_max)\n",
    "\n",
    "    # random profiles selection\n",
    "    p = np.random.randint(1, 31)\n",
    "    \n",
    "    # indexes of particular participants in data\n",
    "    p_idx = np.where(np.array(y_train) == p)[0]\n",
    "    t_len = len(p_idx)\n",
    "    \n",
    "    # print('No of profiles', n_prof)\n",
    "    label_list = [] # for assigning label\n",
    "    \n",
    "    for j in range(n_prof):\n",
    "        # select profile randomly\n",
    "        idx = np.random.randint(t_len)\n",
    "    \n",
    "        # assign values\n",
    "        new_data_p[i, 1+j*feat_len:1+(j+1)*feat_len] = X_train[p_idx[idx]]\n",
    "\n",
    "        label_list.append(y_train[p_idx[idx]])\n",
    "    \n",
    "    # fill values for remaining\n",
    "    # for j in range(prof_max - n_prof):\n",
    "    # print('labels', label_list)\n",
    "    # check if all values are identical in list\n",
    "    label = label_list.count(label_list[0]) == len(label_list)\n",
    "    # Assign label\n",
    "    new_data_p[i, 0] = label\n"
   ]
  },
  {
   "cell_type": "code",
   "execution_count": 9,
   "metadata": {},
   "outputs": [
    {
     "output_type": "execute_result",
     "data": {
      "text/plain": [
       "      0      1     2     3      4      5      6      7      8      9   ...  \\\n",
       "0    1.0  12.92  4.34  0.87  39.42  12.23  74.11  95.00   4.96   4.87  ...   \n",
       "1    1.0  15.88  5.16  2.24  40.81  12.89  63.93  85.41  14.70  11.90  ...   \n",
       "2    1.0  16.39  5.42  2.17  40.83  13.31  72.89  84.62  15.42  13.41  ...   \n",
       "3    1.0  13.67  4.60  1.36  43.89  13.58  66.94  92.69   7.28   6.35  ...   \n",
       "4    1.0  14.97  4.80  1.22  40.32  12.22  82.98  93.63   6.45   5.36  ...   \n",
       "..   ...    ...   ...   ...    ...    ...    ...    ...    ...    ...  ...   \n",
       "395  1.0  14.63  4.75  0.75  40.80  12.42  94.56  98.03   1.88   1.98  ...   \n",
       "396  1.0  14.27  4.73  1.37  43.26  13.15  74.34  91.61   8.33   7.76  ...   \n",
       "397  1.0  14.07  4.85  1.00  40.53  13.16  80.43  94.14   5.81   4.94  ...   \n",
       "398  1.0  14.18  4.95  1.24  40.75  13.05  75.41  92.33   7.40   7.50  ...   \n",
       "399  1.0  14.76  4.97  0.85  39.65  12.44  92.50  92.75   7.16   6.16  ...   \n",
       "\n",
       "      41   42   43   44   45   46   47   48   49   50  \n",
       "0    0.0  0.0  0.0  0.0  0.0  0.0  0.0  0.0  0.0  0.0  \n",
       "1    0.0  0.0  0.0  0.0  0.0  0.0  0.0  0.0  0.0  0.0  \n",
       "2    0.0  0.0  0.0  0.0  0.0  0.0  0.0  0.0  0.0  0.0  \n",
       "3    0.0  0.0  0.0  0.0  0.0  0.0  0.0  0.0  0.0  0.0  \n",
       "4    0.0  0.0  0.0  0.0  0.0  0.0  0.0  0.0  0.0  0.0  \n",
       "..   ...  ...  ...  ...  ...  ...  ...  ...  ...  ...  \n",
       "395  0.0  0.0  0.0  0.0  0.0  0.0  0.0  0.0  0.0  0.0  \n",
       "396  0.0  0.0  0.0  0.0  0.0  0.0  0.0  0.0  0.0  0.0  \n",
       "397  0.0  0.0  0.0  0.0  0.0  0.0  0.0  0.0  0.0  0.0  \n",
       "398  0.0  0.0  0.0  0.0  0.0  0.0  0.0  0.0  0.0  0.0  \n",
       "399  0.0  0.0  0.0  0.0  0.0  0.0  0.0  0.0  0.0  0.0  \n",
       "\n",
       "[400 rows x 51 columns]"
      ],
      "text/html": "<div>\n<style scoped>\n    .dataframe tbody tr th:only-of-type {\n        vertical-align: middle;\n    }\n\n    .dataframe tbody tr th {\n        vertical-align: top;\n    }\n\n    .dataframe thead th {\n        text-align: right;\n    }\n</style>\n<table border=\"1\" class=\"dataframe\">\n  <thead>\n    <tr style=\"text-align: right;\">\n      <th></th>\n      <th>0</th>\n      <th>1</th>\n      <th>2</th>\n      <th>3</th>\n      <th>4</th>\n      <th>5</th>\n      <th>6</th>\n      <th>7</th>\n      <th>8</th>\n      <th>9</th>\n      <th>...</th>\n      <th>41</th>\n      <th>42</th>\n      <th>43</th>\n      <th>44</th>\n      <th>45</th>\n      <th>46</th>\n      <th>47</th>\n      <th>48</th>\n      <th>49</th>\n      <th>50</th>\n    </tr>\n  </thead>\n  <tbody>\n    <tr>\n      <td>0</td>\n      <td>1.0</td>\n      <td>12.92</td>\n      <td>4.34</td>\n      <td>0.87</td>\n      <td>39.42</td>\n      <td>12.23</td>\n      <td>74.11</td>\n      <td>95.00</td>\n      <td>4.96</td>\n      <td>4.87</td>\n      <td>...</td>\n      <td>0.0</td>\n      <td>0.0</td>\n      <td>0.0</td>\n      <td>0.0</td>\n      <td>0.0</td>\n      <td>0.0</td>\n      <td>0.0</td>\n      <td>0.0</td>\n      <td>0.0</td>\n      <td>0.0</td>\n    </tr>\n    <tr>\n      <td>1</td>\n      <td>1.0</td>\n      <td>15.88</td>\n      <td>5.16</td>\n      <td>2.24</td>\n      <td>40.81</td>\n      <td>12.89</td>\n      <td>63.93</td>\n      <td>85.41</td>\n      <td>14.70</td>\n      <td>11.90</td>\n      <td>...</td>\n      <td>0.0</td>\n      <td>0.0</td>\n      <td>0.0</td>\n      <td>0.0</td>\n      <td>0.0</td>\n      <td>0.0</td>\n      <td>0.0</td>\n      <td>0.0</td>\n      <td>0.0</td>\n      <td>0.0</td>\n    </tr>\n    <tr>\n      <td>2</td>\n      <td>1.0</td>\n      <td>16.39</td>\n      <td>5.42</td>\n      <td>2.17</td>\n      <td>40.83</td>\n      <td>13.31</td>\n      <td>72.89</td>\n      <td>84.62</td>\n      <td>15.42</td>\n      <td>13.41</td>\n      <td>...</td>\n      <td>0.0</td>\n      <td>0.0</td>\n      <td>0.0</td>\n      <td>0.0</td>\n      <td>0.0</td>\n      <td>0.0</td>\n      <td>0.0</td>\n      <td>0.0</td>\n      <td>0.0</td>\n      <td>0.0</td>\n    </tr>\n    <tr>\n      <td>3</td>\n      <td>1.0</td>\n      <td>13.67</td>\n      <td>4.60</td>\n      <td>1.36</td>\n      <td>43.89</td>\n      <td>13.58</td>\n      <td>66.94</td>\n      <td>92.69</td>\n      <td>7.28</td>\n      <td>6.35</td>\n      <td>...</td>\n      <td>0.0</td>\n      <td>0.0</td>\n      <td>0.0</td>\n      <td>0.0</td>\n      <td>0.0</td>\n      <td>0.0</td>\n      <td>0.0</td>\n      <td>0.0</td>\n      <td>0.0</td>\n      <td>0.0</td>\n    </tr>\n    <tr>\n      <td>4</td>\n      <td>1.0</td>\n      <td>14.97</td>\n      <td>4.80</td>\n      <td>1.22</td>\n      <td>40.32</td>\n      <td>12.22</td>\n      <td>82.98</td>\n      <td>93.63</td>\n      <td>6.45</td>\n      <td>5.36</td>\n      <td>...</td>\n      <td>0.0</td>\n      <td>0.0</td>\n      <td>0.0</td>\n      <td>0.0</td>\n      <td>0.0</td>\n      <td>0.0</td>\n      <td>0.0</td>\n      <td>0.0</td>\n      <td>0.0</td>\n      <td>0.0</td>\n    </tr>\n    <tr>\n      <td>...</td>\n      <td>...</td>\n      <td>...</td>\n      <td>...</td>\n      <td>...</td>\n      <td>...</td>\n      <td>...</td>\n      <td>...</td>\n      <td>...</td>\n      <td>...</td>\n      <td>...</td>\n      <td>...</td>\n      <td>...</td>\n      <td>...</td>\n      <td>...</td>\n      <td>...</td>\n      <td>...</td>\n      <td>...</td>\n      <td>...</td>\n      <td>...</td>\n      <td>...</td>\n      <td>...</td>\n    </tr>\n    <tr>\n      <td>395</td>\n      <td>1.0</td>\n      <td>14.63</td>\n      <td>4.75</td>\n      <td>0.75</td>\n      <td>40.80</td>\n      <td>12.42</td>\n      <td>94.56</td>\n      <td>98.03</td>\n      <td>1.88</td>\n      <td>1.98</td>\n      <td>...</td>\n      <td>0.0</td>\n      <td>0.0</td>\n      <td>0.0</td>\n      <td>0.0</td>\n      <td>0.0</td>\n      <td>0.0</td>\n      <td>0.0</td>\n      <td>0.0</td>\n      <td>0.0</td>\n      <td>0.0</td>\n    </tr>\n    <tr>\n      <td>396</td>\n      <td>1.0</td>\n      <td>14.27</td>\n      <td>4.73</td>\n      <td>1.37</td>\n      <td>43.26</td>\n      <td>13.15</td>\n      <td>74.34</td>\n      <td>91.61</td>\n      <td>8.33</td>\n      <td>7.76</td>\n      <td>...</td>\n      <td>0.0</td>\n      <td>0.0</td>\n      <td>0.0</td>\n      <td>0.0</td>\n      <td>0.0</td>\n      <td>0.0</td>\n      <td>0.0</td>\n      <td>0.0</td>\n      <td>0.0</td>\n      <td>0.0</td>\n    </tr>\n    <tr>\n      <td>397</td>\n      <td>1.0</td>\n      <td>14.07</td>\n      <td>4.85</td>\n      <td>1.00</td>\n      <td>40.53</td>\n      <td>13.16</td>\n      <td>80.43</td>\n      <td>94.14</td>\n      <td>5.81</td>\n      <td>4.94</td>\n      <td>...</td>\n      <td>0.0</td>\n      <td>0.0</td>\n      <td>0.0</td>\n      <td>0.0</td>\n      <td>0.0</td>\n      <td>0.0</td>\n      <td>0.0</td>\n      <td>0.0</td>\n      <td>0.0</td>\n      <td>0.0</td>\n    </tr>\n    <tr>\n      <td>398</td>\n      <td>1.0</td>\n      <td>14.18</td>\n      <td>4.95</td>\n      <td>1.24</td>\n      <td>40.75</td>\n      <td>13.05</td>\n      <td>75.41</td>\n      <td>92.33</td>\n      <td>7.40</td>\n      <td>7.50</td>\n      <td>...</td>\n      <td>0.0</td>\n      <td>0.0</td>\n      <td>0.0</td>\n      <td>0.0</td>\n      <td>0.0</td>\n      <td>0.0</td>\n      <td>0.0</td>\n      <td>0.0</td>\n      <td>0.0</td>\n      <td>0.0</td>\n    </tr>\n    <tr>\n      <td>399</td>\n      <td>1.0</td>\n      <td>14.76</td>\n      <td>4.97</td>\n      <td>0.85</td>\n      <td>39.65</td>\n      <td>12.44</td>\n      <td>92.50</td>\n      <td>92.75</td>\n      <td>7.16</td>\n      <td>6.16</td>\n      <td>...</td>\n      <td>0.0</td>\n      <td>0.0</td>\n      <td>0.0</td>\n      <td>0.0</td>\n      <td>0.0</td>\n      <td>0.0</td>\n      <td>0.0</td>\n      <td>0.0</td>\n      <td>0.0</td>\n      <td>0.0</td>\n    </tr>\n  </tbody>\n</table>\n<p>400 rows × 51 columns</p>\n</div>"
     },
     "metadata": {},
     "execution_count": 9
    }
   ],
   "source": [
    "new_data_df_extra = pd.DataFrame(new_data_p)\n",
    "new_data_df_extra    "
   ]
  },
  {
   "cell_type": "code",
   "execution_count": 10,
   "metadata": {},
   "outputs": [
    {
     "output_type": "execute_result",
     "data": {
      "text/plain": [
       "       1\n",
       "0       \n",
       "1.0  400"
      ],
      "text/html": "<div>\n<style scoped>\n    .dataframe tbody tr th:only-of-type {\n        vertical-align: middle;\n    }\n\n    .dataframe tbody tr th {\n        vertical-align: top;\n    }\n\n    .dataframe thead th {\n        text-align: right;\n    }\n</style>\n<table border=\"1\" class=\"dataframe\">\n  <thead>\n    <tr style=\"text-align: right;\">\n      <th></th>\n      <th>1</th>\n    </tr>\n    <tr>\n      <th>0</th>\n      <th></th>\n    </tr>\n  </thead>\n  <tbody>\n    <tr>\n      <td>1.0</td>\n      <td>400</td>\n    </tr>\n  </tbody>\n</table>\n</div>"
     },
     "metadata": {},
     "execution_count": 10
    }
   ],
   "source": [
    "df_part_cnt = new_data_df_extra.groupby(0).count()\n",
    "df_part_cnt.iloc[:,:1]"
   ]
  },
  {
   "cell_type": "code",
   "execution_count": 11,
   "metadata": {},
   "outputs": [
    {
     "output_type": "execute_result",
     "data": {
      "text/plain": [
       "((1000, 51), (400, 51))"
      ]
     },
     "metadata": {},
     "execution_count": 11
    }
   ],
   "source": [
    "new_data.shape, new_data_p.shape"
   ]
  },
  {
   "cell_type": "code",
   "execution_count": 12,
   "metadata": {},
   "outputs": [
    {
     "output_type": "execute_result",
     "data": {
      "text/plain": [
       "       1\n",
       "0       \n",
       "0.0  985\n",
       "1.0  415"
      ],
      "text/html": "<div>\n<style scoped>\n    .dataframe tbody tr th:only-of-type {\n        vertical-align: middle;\n    }\n\n    .dataframe tbody tr th {\n        vertical-align: top;\n    }\n\n    .dataframe thead th {\n        text-align: right;\n    }\n</style>\n<table border=\"1\" class=\"dataframe\">\n  <thead>\n    <tr style=\"text-align: right;\">\n      <th></th>\n      <th>1</th>\n    </tr>\n    <tr>\n      <th>0</th>\n      <th></th>\n    </tr>\n  </thead>\n  <tbody>\n    <tr>\n      <td>0.0</td>\n      <td>985</td>\n    </tr>\n    <tr>\n      <td>1.0</td>\n      <td>415</td>\n    </tr>\n  </tbody>\n</table>\n</div>"
     },
     "metadata": {},
     "execution_count": 12
    }
   ],
   "source": [
    "new_data_final = np.vstack((new_data, new_data_p)) # merge original and extra data\n",
    "new_data_df_final = pd.DataFrame(new_data_final) # create dataframe\n",
    "new_data_df_final.groupby(0).count().iloc[:,:1] # support for each label\n"
   ]
  },
  {
   "cell_type": "code",
   "execution_count": 13,
   "metadata": {},
   "outputs": [],
   "source": [
    "# Save as CSV\n",
    "new_data_df_final.to_csv('train_new.csv', index=None)"
   ]
  },
  {
   "cell_type": "code",
   "execution_count": 14,
   "metadata": {},
   "outputs": [
    {
     "output_type": "execute_result",
     "data": {
      "text/plain": [
       "        0      1     2     3      4      5      6      7     8     9  ...  \\\n",
       "0     0.0  13.38  4.43  0.90  41.58  12.66  77.70  93.31  6.62  5.48  ...   \n",
       "1     0.0  14.81  4.86  0.75  41.55  12.54  96.32  94.67  5.31  4.78  ...   \n",
       "2     0.0  13.78  4.54  0.86  40.69  12.42  81.59  98.22  1.83  1.51  ...   \n",
       "3     0.0  15.36  4.91  0.83  42.85  12.52  99.33  94.10  5.94  5.55  ...   \n",
       "4     0.0  11.53  4.00  0.86  40.26  12.42  61.37  91.63  8.35  7.41  ...   \n",
       "...   ...    ...   ...   ...    ...    ...    ...    ...   ...   ...  ...   \n",
       "1395  1.0  14.63  4.75  0.75  40.80  12.42  94.56  98.03  1.88  1.98  ...   \n",
       "1396  1.0  14.27  4.73  1.37  43.26  13.15  74.34  91.61  8.33  7.76  ...   \n",
       "1397  1.0  14.07  4.85  1.00  40.53  13.16  80.43  94.14  5.81  4.94  ...   \n",
       "1398  1.0  14.18  4.95  1.24  40.75  13.05  75.41  92.33  7.40  7.50  ...   \n",
       "1399  1.0  14.76  4.97  0.85  39.65  12.44  92.50  92.75  7.16  6.16  ...   \n",
       "\n",
       "       41   42   43   44   45   46   47   48   49   50  \n",
       "0     0.0  0.0  0.0  0.0  0.0  0.0  0.0  0.0  0.0  0.0  \n",
       "1     0.0  0.0  0.0  0.0  0.0  0.0  0.0  0.0  0.0  0.0  \n",
       "2     0.0  0.0  0.0  0.0  0.0  0.0  0.0  0.0  0.0  0.0  \n",
       "3     0.0  0.0  0.0  0.0  0.0  0.0  0.0  0.0  0.0  0.0  \n",
       "4     0.0  0.0  0.0  0.0  0.0  0.0  0.0  0.0  0.0  0.0  \n",
       "...   ...  ...  ...  ...  ...  ...  ...  ...  ...  ...  \n",
       "1395  0.0  0.0  0.0  0.0  0.0  0.0  0.0  0.0  0.0  0.0  \n",
       "1396  0.0  0.0  0.0  0.0  0.0  0.0  0.0  0.0  0.0  0.0  \n",
       "1397  0.0  0.0  0.0  0.0  0.0  0.0  0.0  0.0  0.0  0.0  \n",
       "1398  0.0  0.0  0.0  0.0  0.0  0.0  0.0  0.0  0.0  0.0  \n",
       "1399  0.0  0.0  0.0  0.0  0.0  0.0  0.0  0.0  0.0  0.0  \n",
       "\n",
       "[1400 rows x 51 columns]"
      ],
      "text/html": "<div>\n<style scoped>\n    .dataframe tbody tr th:only-of-type {\n        vertical-align: middle;\n    }\n\n    .dataframe tbody tr th {\n        vertical-align: top;\n    }\n\n    .dataframe thead th {\n        text-align: right;\n    }\n</style>\n<table border=\"1\" class=\"dataframe\">\n  <thead>\n    <tr style=\"text-align: right;\">\n      <th></th>\n      <th>0</th>\n      <th>1</th>\n      <th>2</th>\n      <th>3</th>\n      <th>4</th>\n      <th>5</th>\n      <th>6</th>\n      <th>7</th>\n      <th>8</th>\n      <th>9</th>\n      <th>...</th>\n      <th>41</th>\n      <th>42</th>\n      <th>43</th>\n      <th>44</th>\n      <th>45</th>\n      <th>46</th>\n      <th>47</th>\n      <th>48</th>\n      <th>49</th>\n      <th>50</th>\n    </tr>\n  </thead>\n  <tbody>\n    <tr>\n      <td>0</td>\n      <td>0.0</td>\n      <td>13.38</td>\n      <td>4.43</td>\n      <td>0.90</td>\n      <td>41.58</td>\n      <td>12.66</td>\n      <td>77.70</td>\n      <td>93.31</td>\n      <td>6.62</td>\n      <td>5.48</td>\n      <td>...</td>\n      <td>0.0</td>\n      <td>0.0</td>\n      <td>0.0</td>\n      <td>0.0</td>\n      <td>0.0</td>\n      <td>0.0</td>\n      <td>0.0</td>\n      <td>0.0</td>\n      <td>0.0</td>\n      <td>0.0</td>\n    </tr>\n    <tr>\n      <td>1</td>\n      <td>0.0</td>\n      <td>14.81</td>\n      <td>4.86</td>\n      <td>0.75</td>\n      <td>41.55</td>\n      <td>12.54</td>\n      <td>96.32</td>\n      <td>94.67</td>\n      <td>5.31</td>\n      <td>4.78</td>\n      <td>...</td>\n      <td>0.0</td>\n      <td>0.0</td>\n      <td>0.0</td>\n      <td>0.0</td>\n      <td>0.0</td>\n      <td>0.0</td>\n      <td>0.0</td>\n      <td>0.0</td>\n      <td>0.0</td>\n      <td>0.0</td>\n    </tr>\n    <tr>\n      <td>2</td>\n      <td>0.0</td>\n      <td>13.78</td>\n      <td>4.54</td>\n      <td>0.86</td>\n      <td>40.69</td>\n      <td>12.42</td>\n      <td>81.59</td>\n      <td>98.22</td>\n      <td>1.83</td>\n      <td>1.51</td>\n      <td>...</td>\n      <td>0.0</td>\n      <td>0.0</td>\n      <td>0.0</td>\n      <td>0.0</td>\n      <td>0.0</td>\n      <td>0.0</td>\n      <td>0.0</td>\n      <td>0.0</td>\n      <td>0.0</td>\n      <td>0.0</td>\n    </tr>\n    <tr>\n      <td>3</td>\n      <td>0.0</td>\n      <td>15.36</td>\n      <td>4.91</td>\n      <td>0.83</td>\n      <td>42.85</td>\n      <td>12.52</td>\n      <td>99.33</td>\n      <td>94.10</td>\n      <td>5.94</td>\n      <td>5.55</td>\n      <td>...</td>\n      <td>0.0</td>\n      <td>0.0</td>\n      <td>0.0</td>\n      <td>0.0</td>\n      <td>0.0</td>\n      <td>0.0</td>\n      <td>0.0</td>\n      <td>0.0</td>\n      <td>0.0</td>\n      <td>0.0</td>\n    </tr>\n    <tr>\n      <td>4</td>\n      <td>0.0</td>\n      <td>11.53</td>\n      <td>4.00</td>\n      <td>0.86</td>\n      <td>40.26</td>\n      <td>12.42</td>\n      <td>61.37</td>\n      <td>91.63</td>\n      <td>8.35</td>\n      <td>7.41</td>\n      <td>...</td>\n      <td>0.0</td>\n      <td>0.0</td>\n      <td>0.0</td>\n      <td>0.0</td>\n      <td>0.0</td>\n      <td>0.0</td>\n      <td>0.0</td>\n      <td>0.0</td>\n      <td>0.0</td>\n      <td>0.0</td>\n    </tr>\n    <tr>\n      <td>...</td>\n      <td>...</td>\n      <td>...</td>\n      <td>...</td>\n      <td>...</td>\n      <td>...</td>\n      <td>...</td>\n      <td>...</td>\n      <td>...</td>\n      <td>...</td>\n      <td>...</td>\n      <td>...</td>\n      <td>...</td>\n      <td>...</td>\n      <td>...</td>\n      <td>...</td>\n      <td>...</td>\n      <td>...</td>\n      <td>...</td>\n      <td>...</td>\n      <td>...</td>\n      <td>...</td>\n    </tr>\n    <tr>\n      <td>1395</td>\n      <td>1.0</td>\n      <td>14.63</td>\n      <td>4.75</td>\n      <td>0.75</td>\n      <td>40.80</td>\n      <td>12.42</td>\n      <td>94.56</td>\n      <td>98.03</td>\n      <td>1.88</td>\n      <td>1.98</td>\n      <td>...</td>\n      <td>0.0</td>\n      <td>0.0</td>\n      <td>0.0</td>\n      <td>0.0</td>\n      <td>0.0</td>\n      <td>0.0</td>\n      <td>0.0</td>\n      <td>0.0</td>\n      <td>0.0</td>\n      <td>0.0</td>\n    </tr>\n    <tr>\n      <td>1396</td>\n      <td>1.0</td>\n      <td>14.27</td>\n      <td>4.73</td>\n      <td>1.37</td>\n      <td>43.26</td>\n      <td>13.15</td>\n      <td>74.34</td>\n      <td>91.61</td>\n      <td>8.33</td>\n      <td>7.76</td>\n      <td>...</td>\n      <td>0.0</td>\n      <td>0.0</td>\n      <td>0.0</td>\n      <td>0.0</td>\n      <td>0.0</td>\n      <td>0.0</td>\n      <td>0.0</td>\n      <td>0.0</td>\n      <td>0.0</td>\n      <td>0.0</td>\n    </tr>\n    <tr>\n      <td>1397</td>\n      <td>1.0</td>\n      <td>14.07</td>\n      <td>4.85</td>\n      <td>1.00</td>\n      <td>40.53</td>\n      <td>13.16</td>\n      <td>80.43</td>\n      <td>94.14</td>\n      <td>5.81</td>\n      <td>4.94</td>\n      <td>...</td>\n      <td>0.0</td>\n      <td>0.0</td>\n      <td>0.0</td>\n      <td>0.0</td>\n      <td>0.0</td>\n      <td>0.0</td>\n      <td>0.0</td>\n      <td>0.0</td>\n      <td>0.0</td>\n      <td>0.0</td>\n    </tr>\n    <tr>\n      <td>1398</td>\n      <td>1.0</td>\n      <td>14.18</td>\n      <td>4.95</td>\n      <td>1.24</td>\n      <td>40.75</td>\n      <td>13.05</td>\n      <td>75.41</td>\n      <td>92.33</td>\n      <td>7.40</td>\n      <td>7.50</td>\n      <td>...</td>\n      <td>0.0</td>\n      <td>0.0</td>\n      <td>0.0</td>\n      <td>0.0</td>\n      <td>0.0</td>\n      <td>0.0</td>\n      <td>0.0</td>\n      <td>0.0</td>\n      <td>0.0</td>\n      <td>0.0</td>\n    </tr>\n    <tr>\n      <td>1399</td>\n      <td>1.0</td>\n      <td>14.76</td>\n      <td>4.97</td>\n      <td>0.85</td>\n      <td>39.65</td>\n      <td>12.44</td>\n      <td>92.50</td>\n      <td>92.75</td>\n      <td>7.16</td>\n      <td>6.16</td>\n      <td>...</td>\n      <td>0.0</td>\n      <td>0.0</td>\n      <td>0.0</td>\n      <td>0.0</td>\n      <td>0.0</td>\n      <td>0.0</td>\n      <td>0.0</td>\n      <td>0.0</td>\n      <td>0.0</td>\n      <td>0.0</td>\n    </tr>\n  </tbody>\n</table>\n<p>1400 rows × 51 columns</p>\n</div>"
     },
     "metadata": {},
     "execution_count": 14
    }
   ],
   "source": [
    "# check again\n",
    "df_train = pd.read_csv('train_new.csv')\n",
    "df_train"
   ]
  },
  {
   "source": [
    "## Create datapoints from testset"
   ],
   "cell_type": "markdown",
   "metadata": {}
  },
  {
   "cell_type": "code",
   "execution_count": 15,
   "metadata": {},
   "outputs": [],
   "source": [
    "N_t = int(N * 0.5) # datapoints\n",
    "prof_max = 5 # maximum no of profiles together in one datapoint\n",
    "test_len = len(X_test) # total number of individual profiles of patients\n",
    "feat_len = len(X_train[0]) # number of original features\n",
    "\n",
    "new_data_t = np.zeros((N_t, prof_max*feat_len+1))\n",
    "\n",
    "for i in range(N_t):\n",
    "    # random number of profiles\n",
    "    n_prof = np.random.randint(2, prof_max)\n",
    "    # print('No of profiles', n_prof)\n",
    "    label_list = [] # for assigning label\n",
    "    for j in range(n_prof):\n",
    "        # select profile randomly\n",
    "        idx = np.random.randint(test_len)\n",
    "        # assign values\n",
    "        new_data_t[i, 1+j*feat_len:1+(j+1)*feat_len] = X_test[idx]\n",
    "\n",
    "        label_list.append(y_test[idx])\n",
    "    \n",
    "    # fill values for remaining\n",
    "    # for j in range(prof_max - n_prof):\n",
    "    # print('labels', label_list)\n",
    "    # check if all values are identical in list\n",
    "    label = label_list.count(label_list[0]) == len(label_list)\n",
    "    # Assign label\n",
    "    new_data_t[i, 0] = label\n",
    "\n",
    "# concatenate to original    "
   ]
  },
  {
   "cell_type": "code",
   "execution_count": 16,
   "metadata": {},
   "outputs": [
    {
     "output_type": "execute_result",
     "data": {
      "text/plain": [
       "      0      1     2     3      4      5      6      7      8      9   ...  \\\n",
       "0    0.0  15.39  5.03  1.11  42.77  12.90  91.04  91.63   8.45   6.43  ...   \n",
       "1    0.0  13.74  4.50  0.64  41.47  12.52  90.31  98.84   1.13   1.28  ...   \n",
       "2    0.0  14.42  4.67  1.84  42.79  13.10  62.03  89.58  10.60   9.25  ...   \n",
       "3    0.0  14.04  4.59  1.15  40.59  12.33  76.37  94.24   5.80   5.16  ...   \n",
       "4    0.0  12.87  4.16  1.29  43.58  12.80  60.56  86.43  13.59  12.34  ...   \n",
       "..   ...    ...   ...   ...    ...    ...    ...    ...    ...    ...  ...   \n",
       "495  0.0  14.09  4.59  0.84  39.68  11.98  86.25  97.12   2.92   2.88  ...   \n",
       "496  0.0  14.60  4.72  0.79  40.56  12.14  93.15  94.78   5.22   4.94  ...   \n",
       "497  0.0  14.23  4.72  1.69  42.81  13.20  64.99  89.86  10.30   8.66  ...   \n",
       "498  0.0  13.26  4.49  0.68  42.67  13.39  81.89  90.67   9.26   8.45  ...   \n",
       "499  0.0  13.12  4.27  1.27  44.43  13.91  63.54  93.69   6.25   5.57  ...   \n",
       "\n",
       "      41   42   43   44   45   46   47   48   49   50  \n",
       "0    0.0  0.0  0.0  0.0  0.0  0.0  0.0  0.0  0.0  0.0  \n",
       "1    0.0  0.0  0.0  0.0  0.0  0.0  0.0  0.0  0.0  0.0  \n",
       "2    0.0  0.0  0.0  0.0  0.0  0.0  0.0  0.0  0.0  0.0  \n",
       "3    0.0  0.0  0.0  0.0  0.0  0.0  0.0  0.0  0.0  0.0  \n",
       "4    0.0  0.0  0.0  0.0  0.0  0.0  0.0  0.0  0.0  0.0  \n",
       "..   ...  ...  ...  ...  ...  ...  ...  ...  ...  ...  \n",
       "495  0.0  0.0  0.0  0.0  0.0  0.0  0.0  0.0  0.0  0.0  \n",
       "496  0.0  0.0  0.0  0.0  0.0  0.0  0.0  0.0  0.0  0.0  \n",
       "497  0.0  0.0  0.0  0.0  0.0  0.0  0.0  0.0  0.0  0.0  \n",
       "498  0.0  0.0  0.0  0.0  0.0  0.0  0.0  0.0  0.0  0.0  \n",
       "499  0.0  0.0  0.0  0.0  0.0  0.0  0.0  0.0  0.0  0.0  \n",
       "\n",
       "[500 rows x 51 columns]"
      ],
      "text/html": "<div>\n<style scoped>\n    .dataframe tbody tr th:only-of-type {\n        vertical-align: middle;\n    }\n\n    .dataframe tbody tr th {\n        vertical-align: top;\n    }\n\n    .dataframe thead th {\n        text-align: right;\n    }\n</style>\n<table border=\"1\" class=\"dataframe\">\n  <thead>\n    <tr style=\"text-align: right;\">\n      <th></th>\n      <th>0</th>\n      <th>1</th>\n      <th>2</th>\n      <th>3</th>\n      <th>4</th>\n      <th>5</th>\n      <th>6</th>\n      <th>7</th>\n      <th>8</th>\n      <th>9</th>\n      <th>...</th>\n      <th>41</th>\n      <th>42</th>\n      <th>43</th>\n      <th>44</th>\n      <th>45</th>\n      <th>46</th>\n      <th>47</th>\n      <th>48</th>\n      <th>49</th>\n      <th>50</th>\n    </tr>\n  </thead>\n  <tbody>\n    <tr>\n      <td>0</td>\n      <td>0.0</td>\n      <td>15.39</td>\n      <td>5.03</td>\n      <td>1.11</td>\n      <td>42.77</td>\n      <td>12.90</td>\n      <td>91.04</td>\n      <td>91.63</td>\n      <td>8.45</td>\n      <td>6.43</td>\n      <td>...</td>\n      <td>0.0</td>\n      <td>0.0</td>\n      <td>0.0</td>\n      <td>0.0</td>\n      <td>0.0</td>\n      <td>0.0</td>\n      <td>0.0</td>\n      <td>0.0</td>\n      <td>0.0</td>\n      <td>0.0</td>\n    </tr>\n    <tr>\n      <td>1</td>\n      <td>0.0</td>\n      <td>13.74</td>\n      <td>4.50</td>\n      <td>0.64</td>\n      <td>41.47</td>\n      <td>12.52</td>\n      <td>90.31</td>\n      <td>98.84</td>\n      <td>1.13</td>\n      <td>1.28</td>\n      <td>...</td>\n      <td>0.0</td>\n      <td>0.0</td>\n      <td>0.0</td>\n      <td>0.0</td>\n      <td>0.0</td>\n      <td>0.0</td>\n      <td>0.0</td>\n      <td>0.0</td>\n      <td>0.0</td>\n      <td>0.0</td>\n    </tr>\n    <tr>\n      <td>2</td>\n      <td>0.0</td>\n      <td>14.42</td>\n      <td>4.67</td>\n      <td>1.84</td>\n      <td>42.79</td>\n      <td>13.10</td>\n      <td>62.03</td>\n      <td>89.58</td>\n      <td>10.60</td>\n      <td>9.25</td>\n      <td>...</td>\n      <td>0.0</td>\n      <td>0.0</td>\n      <td>0.0</td>\n      <td>0.0</td>\n      <td>0.0</td>\n      <td>0.0</td>\n      <td>0.0</td>\n      <td>0.0</td>\n      <td>0.0</td>\n      <td>0.0</td>\n    </tr>\n    <tr>\n      <td>3</td>\n      <td>0.0</td>\n      <td>14.04</td>\n      <td>4.59</td>\n      <td>1.15</td>\n      <td>40.59</td>\n      <td>12.33</td>\n      <td>76.37</td>\n      <td>94.24</td>\n      <td>5.80</td>\n      <td>5.16</td>\n      <td>...</td>\n      <td>0.0</td>\n      <td>0.0</td>\n      <td>0.0</td>\n      <td>0.0</td>\n      <td>0.0</td>\n      <td>0.0</td>\n      <td>0.0</td>\n      <td>0.0</td>\n      <td>0.0</td>\n      <td>0.0</td>\n    </tr>\n    <tr>\n      <td>4</td>\n      <td>0.0</td>\n      <td>12.87</td>\n      <td>4.16</td>\n      <td>1.29</td>\n      <td>43.58</td>\n      <td>12.80</td>\n      <td>60.56</td>\n      <td>86.43</td>\n      <td>13.59</td>\n      <td>12.34</td>\n      <td>...</td>\n      <td>0.0</td>\n      <td>0.0</td>\n      <td>0.0</td>\n      <td>0.0</td>\n      <td>0.0</td>\n      <td>0.0</td>\n      <td>0.0</td>\n      <td>0.0</td>\n      <td>0.0</td>\n      <td>0.0</td>\n    </tr>\n    <tr>\n      <td>...</td>\n      <td>...</td>\n      <td>...</td>\n      <td>...</td>\n      <td>...</td>\n      <td>...</td>\n      <td>...</td>\n      <td>...</td>\n      <td>...</td>\n      <td>...</td>\n      <td>...</td>\n      <td>...</td>\n      <td>...</td>\n      <td>...</td>\n      <td>...</td>\n      <td>...</td>\n      <td>...</td>\n      <td>...</td>\n      <td>...</td>\n      <td>...</td>\n      <td>...</td>\n      <td>...</td>\n    </tr>\n    <tr>\n      <td>495</td>\n      <td>0.0</td>\n      <td>14.09</td>\n      <td>4.59</td>\n      <td>0.84</td>\n      <td>39.68</td>\n      <td>11.98</td>\n      <td>86.25</td>\n      <td>97.12</td>\n      <td>2.92</td>\n      <td>2.88</td>\n      <td>...</td>\n      <td>0.0</td>\n      <td>0.0</td>\n      <td>0.0</td>\n      <td>0.0</td>\n      <td>0.0</td>\n      <td>0.0</td>\n      <td>0.0</td>\n      <td>0.0</td>\n      <td>0.0</td>\n      <td>0.0</td>\n    </tr>\n    <tr>\n      <td>496</td>\n      <td>0.0</td>\n      <td>14.60</td>\n      <td>4.72</td>\n      <td>0.79</td>\n      <td>40.56</td>\n      <td>12.14</td>\n      <td>93.15</td>\n      <td>94.78</td>\n      <td>5.22</td>\n      <td>4.94</td>\n      <td>...</td>\n      <td>0.0</td>\n      <td>0.0</td>\n      <td>0.0</td>\n      <td>0.0</td>\n      <td>0.0</td>\n      <td>0.0</td>\n      <td>0.0</td>\n      <td>0.0</td>\n      <td>0.0</td>\n      <td>0.0</td>\n    </tr>\n    <tr>\n      <td>497</td>\n      <td>0.0</td>\n      <td>14.23</td>\n      <td>4.72</td>\n      <td>1.69</td>\n      <td>42.81</td>\n      <td>13.20</td>\n      <td>64.99</td>\n      <td>89.86</td>\n      <td>10.30</td>\n      <td>8.66</td>\n      <td>...</td>\n      <td>0.0</td>\n      <td>0.0</td>\n      <td>0.0</td>\n      <td>0.0</td>\n      <td>0.0</td>\n      <td>0.0</td>\n      <td>0.0</td>\n      <td>0.0</td>\n      <td>0.0</td>\n      <td>0.0</td>\n    </tr>\n    <tr>\n      <td>498</td>\n      <td>0.0</td>\n      <td>13.26</td>\n      <td>4.49</td>\n      <td>0.68</td>\n      <td>42.67</td>\n      <td>13.39</td>\n      <td>81.89</td>\n      <td>90.67</td>\n      <td>9.26</td>\n      <td>8.45</td>\n      <td>...</td>\n      <td>0.0</td>\n      <td>0.0</td>\n      <td>0.0</td>\n      <td>0.0</td>\n      <td>0.0</td>\n      <td>0.0</td>\n      <td>0.0</td>\n      <td>0.0</td>\n      <td>0.0</td>\n      <td>0.0</td>\n    </tr>\n    <tr>\n      <td>499</td>\n      <td>0.0</td>\n      <td>13.12</td>\n      <td>4.27</td>\n      <td>1.27</td>\n      <td>44.43</td>\n      <td>13.91</td>\n      <td>63.54</td>\n      <td>93.69</td>\n      <td>6.25</td>\n      <td>5.57</td>\n      <td>...</td>\n      <td>0.0</td>\n      <td>0.0</td>\n      <td>0.0</td>\n      <td>0.0</td>\n      <td>0.0</td>\n      <td>0.0</td>\n      <td>0.0</td>\n      <td>0.0</td>\n      <td>0.0</td>\n      <td>0.0</td>\n    </tr>\n  </tbody>\n</table>\n<p>500 rows × 51 columns</p>\n</div>"
     },
     "metadata": {},
     "execution_count": 16
    }
   ],
   "source": [
    "new_data_df_t = pd.DataFrame(new_data_t)\n",
    "new_data_df_t    "
   ]
  },
  {
   "cell_type": "code",
   "execution_count": 17,
   "metadata": {},
   "outputs": [
    {
     "output_type": "execute_result",
     "data": {
      "text/plain": [
       "       1\n",
       "0       \n",
       "0.0  487\n",
       "1.0   13"
      ],
      "text/html": "<div>\n<style scoped>\n    .dataframe tbody tr th:only-of-type {\n        vertical-align: middle;\n    }\n\n    .dataframe tbody tr th {\n        vertical-align: top;\n    }\n\n    .dataframe thead th {\n        text-align: right;\n    }\n</style>\n<table border=\"1\" class=\"dataframe\">\n  <thead>\n    <tr style=\"text-align: right;\">\n      <th></th>\n      <th>1</th>\n    </tr>\n    <tr>\n      <th>0</th>\n      <th></th>\n    </tr>\n  </thead>\n  <tbody>\n    <tr>\n      <td>0.0</td>\n      <td>487</td>\n    </tr>\n    <tr>\n      <td>1.0</td>\n      <td>13</td>\n    </tr>\n  </tbody>\n</table>\n</div>"
     },
     "metadata": {},
     "execution_count": 17
    }
   ],
   "source": [
    "df_part_cnt = new_data_df_t.groupby(0).count()\n",
    "df_part_cnt.iloc[:,:1]"
   ]
  },
  {
   "source": [
    "### Additional test points to make data balance"
   ],
   "cell_type": "markdown",
   "metadata": {}
  },
  {
   "cell_type": "code",
   "execution_count": 18,
   "metadata": {},
   "outputs": [],
   "source": [
    "N_p = int(N_t*0.4) # datapoints\n",
    "# N_p = 10\n",
    "new_data_p = np.zeros((N_p, prof_max*feat_len+1))\n",
    "\n",
    "for i in range(N_p):\n",
    "\n",
    "    # random number of profiles\n",
    "    n_prof = np.random.randint(2, prof_max)\n",
    "\n",
    "    # random profiles selection\n",
    "    p = np.random.randint(1, 31)\n",
    "    \n",
    "    # indexes of particular participants in data\n",
    "    p_idx = np.where(np.array(y_test) == p)[0]\n",
    "    t_len = len(p_idx)\n",
    "    \n",
    "    # print('No of profiles', n_prof)\n",
    "    label_list = [] # for assigning label\n",
    "    \n",
    "    for j in range(n_prof):\n",
    "        # select profile randomly\n",
    "        idx = np.random.randint(t_len)\n",
    "    \n",
    "        # assign values\n",
    "        new_data_p[i, 1+j*feat_len:1+(j+1)*feat_len] = X_test[p_idx[idx]]\n",
    "\n",
    "        label_list.append(y_test[p_idx[idx]])\n",
    "    \n",
    "    # fill values for remaining\n",
    "    # for j in range(prof_max - n_prof):\n",
    "    # print('labels', label_list)\n",
    "    # check if all values are identical in list\n",
    "    label = label_list.count(label_list[0]) == len(label_list)\n",
    "    # Assign label\n",
    "    new_data_p[i, 0] = label\n"
   ]
  },
  {
   "cell_type": "code",
   "execution_count": 19,
   "metadata": {},
   "outputs": [
    {
     "output_type": "execute_result",
     "data": {
      "text/plain": [
       "((200, 51), array([[ 1.  , 14.97,  5.24, ...,  0.  ,  0.  ,  0.  ],\n",
       "        [ 1.  , 14.17,  4.65, ...,  0.  ,  0.  ,  0.  ],\n",
       "        [ 1.  , 15.39,  5.03, ...,  0.  ,  0.  ,  0.  ],\n",
       "        ...,\n",
       "        [ 1.  , 13.75,  4.54, ...,  0.  ,  0.  ,  0.  ],\n",
       "        [ 1.  , 15.34,  5.07, ...,  0.  ,  0.  ,  0.  ],\n",
       "        [ 1.  , 14.51,  4.96, ...,  0.  ,  0.  ,  0.  ]]))"
      ]
     },
     "metadata": {},
     "execution_count": 19
    }
   ],
   "source": [
    "new_data_p.shape, new_data_p"
   ]
  },
  {
   "cell_type": "code",
   "execution_count": 20,
   "metadata": {},
   "outputs": [
    {
     "output_type": "execute_result",
     "data": {
      "text/plain": [
       "       1\n",
       "0       \n",
       "0.0  487\n",
       "1.0  213"
      ],
      "text/html": "<div>\n<style scoped>\n    .dataframe tbody tr th:only-of-type {\n        vertical-align: middle;\n    }\n\n    .dataframe tbody tr th {\n        vertical-align: top;\n    }\n\n    .dataframe thead th {\n        text-align: right;\n    }\n</style>\n<table border=\"1\" class=\"dataframe\">\n  <thead>\n    <tr style=\"text-align: right;\">\n      <th></th>\n      <th>1</th>\n    </tr>\n    <tr>\n      <th>0</th>\n      <th></th>\n    </tr>\n  </thead>\n  <tbody>\n    <tr>\n      <td>0.0</td>\n      <td>487</td>\n    </tr>\n    <tr>\n      <td>1.0</td>\n      <td>213</td>\n    </tr>\n  </tbody>\n</table>\n</div>"
     },
     "metadata": {},
     "execution_count": 20
    }
   ],
   "source": [
    "new_data_t_final = np.vstack((new_data_t, new_data_p)) # merge original and extra data\n",
    "new_data_df_t_final = pd.DataFrame(new_data_t_final) # create dataframe\n",
    "new_data_df_t_final.groupby(0).count().iloc[:,:1] # support for each label"
   ]
  },
  {
   "cell_type": "code",
   "execution_count": 21,
   "metadata": {},
   "outputs": [],
   "source": [
    "# Save as CSV\n",
    "new_data_df_t_final.to_csv('test_new.csv', index=None)"
   ]
  },
  {
   "cell_type": "code",
   "execution_count": null,
   "metadata": {},
   "outputs": [],
   "source": []
  }
 ]
}